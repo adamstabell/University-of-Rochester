{
 "cells": [
  {
   "cell_type": "code",
   "execution_count": 42,
   "metadata": {},
   "outputs": [],
   "source": [
    "import numpy as np"
   ]
  },
  {
   "cell_type": "markdown",
   "metadata": {},
   "source": [
    "# Problem 1.1"
   ]
  },
  {
   "cell_type": "markdown",
   "metadata": {},
   "source": [
    "**Objective**:\n",
    "\n",
    "We are given n positive numbers $a_1, ..., a_n$. The goal is to select a subset of the numbers with maximal sum and such that no three consecutive numbers are selected with a $O(n)$-time algorithm\n",
    "\n",
    "**Define**:\n",
    "\n",
    "- $numList$ = the input list that contains $n$ positive numbers\n",
    "- $T[i]$ = the maximum sum of a subset of the first $i$ items (items $1,2,...i$), such that no three elements are consecutive\n",
    "\n",
    "**Recursion**:\n",
    "\n",
    "$\n",
    "T[i] = \\max\n",
    "\\begin{cases}\n",
    "T[i-1]\\\\\n",
    "T[i-2] + numList[i]\\\\\n",
    "T[i-3] + numList[i-1] + numList[i]\\\\\n",
    "\\end{cases}\n",
    "$\n",
    "\n",
    "\n",
    "**Sudo code**:\n",
    "\n",
    "```\n",
    "# Base case\n",
    "T[1] = numList[1]\n",
    "T[2] = numList[1] + numList[2]\n",
    "T[3] = max(numList[1] + numList[2], # Do not use numList[3]\n",
    "                numList[1] + numList[3], # Do not use numList[2]\n",
    "                numList[2] + numList[3]) # Do not use numList[1]\n",
    "\n",
    "# Dynamic programming for the rest of elements\n",
    "\n",
    "# Given the optimal ansewr: T[1], T[2], ..., T[i-1]\n",
    "# Three general cases for T[i]:\n",
    "# (1) Do not use element i\n",
    "# (2) Do not use element i-1\n",
    "# (3) Do not use element i-2\n",
    "\n",
    "# Pick the maximum value from these three cases and store it in T[i]\n",
    "for i from 4 to n:\n",
    "\tT[i] = max(T[i-1],\n",
    "\t                T[i-2] + numList[i],\n",
    "\t                T[i-3] + numList[i-1] + numList[i])\n",
    "\n",
    "# The solution for numList\n",
    "T[n]\n",
    "```"
   ]
  },
  {
   "cell_type": "code",
   "execution_count": 65,
   "metadata": {},
   "outputs": [],
   "source": [
    "def maxSum(numlist):\n",
    "    # Initialize an empty list to store the maximum sum of subarray numlist[0..i], such that no three elements are consecutive\n",
    "    _sum = [None]*len(numlist)\n",
    "    \n",
    "    # Initialization of basic scenarios\n",
    "    if len(numlist) >= 1:\n",
    "        _sum[0] = numlist[0]\n",
    "    if len(numlist) >= 2:\n",
    "        _sum[1] = numlist[0] + numlist[1]\n",
    "    # Base case: we have three consecutive elements at the first time\n",
    "    if len(numlist) > 2:\n",
    "        _sum[2] = max(numlist[0]+numlist[1], \n",
    "                      numlist[0]+numlist[2],\n",
    "                      numlist[1]+numlist[2])\n",
    "    # Dynamic programming for the rest of elements\n",
    "    for i in range(3, len(numlist)):\n",
    "        _sum[i] = max(_sum[i-1],\n",
    "                      _sum[i-2] + numlist[i],\n",
    "                      _sum[i-3] + numlist[i-1] + numlist[i]\n",
    "                     )\n",
    "        # Increment the index\n",
    "        i += 1\n",
    "    \n",
    "    # Return the max sum given all elements in the input list\n",
    "    return _sum[-1]"
   ]
  },
  {
   "cell_type": "code",
   "execution_count": 66,
   "metadata": {},
   "outputs": [],
   "source": [
    "# Test cases\n",
    "num_list1 = [5,5,8,5,5]\n",
    "num_list2 = [5,5,12,5,5]\n",
    "num_list3 = [1,2,2,1,2,1,2,5,5]"
   ]
  },
  {
   "cell_type": "code",
   "execution_count": 67,
   "metadata": {
    "scrolled": true
   },
   "outputs": [
    {
     "data": {
      "text/plain": [
       "20"
      ]
     },
     "execution_count": 67,
     "metadata": {},
     "output_type": "execute_result"
    }
   ],
   "source": [
    "maxSum(num_list1) # Right answer: 20"
   ]
  },
  {
   "cell_type": "code",
   "execution_count": 40,
   "metadata": {},
   "outputs": [
    {
     "data": {
      "text/plain": [
       "22"
      ]
     },
     "execution_count": 40,
     "metadata": {},
     "output_type": "execute_result"
    }
   ],
   "source": [
    "maxSum(num_list2) # Right answer: 22"
   ]
  },
  {
   "cell_type": "code",
   "execution_count": 41,
   "metadata": {},
   "outputs": [
    {
     "data": {
      "text/plain": [
       "17"
      ]
     },
     "execution_count": 41,
     "metadata": {},
     "output_type": "execute_result"
    }
   ],
   "source": [
    "maxSum(num_list3) # Right answer: 17"
   ]
  },
  {
   "cell_type": "markdown",
   "metadata": {},
   "source": [
    "# Problem 1.2"
   ]
  },
  {
   "cell_type": "markdown",
   "metadata": {},
   "source": [
    "**Objective**:\n",
    "\n",
    "We are given an $n \\times n$ array $A$ of zeros and ones. We want to find the size of the largest contiguous all-ones square. Give an $O(n2)$-time algorithm for the problem. \n",
    "\n",
    "*Hint*: let $B[i; j]$ be the side-length of the largest square whose bottom-right corner is at position $i, j$.\n",
    "\n",
    "**Define**:\n",
    "\n",
    "- $A$ = a matrix of $n \\times n$ of zeroes and ones\n",
    "- $B[i,j]$ = the side-length of the largest square whose bottom-right corner is at position $i, j$ in matrix A\n",
    "\n",
    "**Recursion**:\n",
    "\n",
    "$\n",
    "B[i,j] = 1 + \\max\n",
    "\\begin{cases}\n",
    "B[i,j-1]\\\\\n",
    "B[i-1,j]\\\\\n",
    "B[i-1,j-1]\\\\\n",
    "\\end{cases}\n",
    "$\n",
    "\n",
    "\n",
    "**Sudo code**:\n",
    "\n",
    "```\n",
    "# B[i,j] = A[i,j] for i,j in the first row and first column of matrix A\n",
    "# First column\n",
    "for i from 1 to n:\n",
    "    B[i,1] = A[i,1]\n",
    "# First row\n",
    "for j from 1 to n:\n",
    "    B[1,j] = A[1,j]\n",
    "\n",
    "# For the rest of cells in matrix\n",
    "for i from 2 to n:\n",
    "    for j from 2 to n:\n",
    "        # When A[i,j] = 1, if the top(B[i-1,j]), left(B[i,j-1]), top-left(B[i-1,j-1]) \n",
    "        # cells of A[i,j] are all 1, then a 2x2 square of ones is formed. \n",
    "        # Same logic for 3x3, 4x4, and etc.\n",
    "        if A[i,j] = 1:\n",
    "            B[i,j] = 1 + min(B[i,j-1],\n",
    "                             B[i-1,j],\n",
    "                             B[i-1,j-1])\n",
    "        else: # A[i,j] = 0\n",
    "            B[i,j] = 0\n",
    "\n",
    "The size of the largest contiguous all-ones square for matrix A with n*n arrays is:\n",
    "\n",
    "(max(B[i,j]))^2, for i from 1 to n, j from 1 to n\n",
    "```"
   ]
  },
  {
   "cell_type": "code",
   "execution_count": 110,
   "metadata": {},
   "outputs": [],
   "source": [
    "def maxOneSize(A):\n",
    "    \n",
    "    # Initialize the matrix B\n",
    "    B = np.matrix(np.zeros((len(A),len(A))))\n",
    "    # Copy the value from first row and first column from input matrix A\n",
    "    for i in range(0, len(A)):\n",
    "        B[i,0] = A[i,0] # First column\n",
    "        B[0,i] = A[0,i] # First row\n",
    "    \n",
    "    # Dynamic programming for the rest of cells in matrix A\n",
    "    for i in range(1, len(A)):\n",
    "        for j in range(1, len(A)):\n",
    "            if A[i,j] == 1:\n",
    "                B[i,j] = 1 + min(B[i,j-1], B[i-1,j], B[i-1,j-1])\n",
    "            else:\n",
    "                B[i,j] = 0\n",
    "    \n",
    "    # Answer\n",
    "    return (B.max())**2"
   ]
  },
  {
   "cell_type": "code",
   "execution_count": 109,
   "metadata": {},
   "outputs": [
    {
     "data": {
      "text/plain": [
       "matrix([[1, 0, 1, 1, 1, 1, 1, 1, 1, 0],\n",
       "        [0, 1, 0, 0, 0, 0, 0, 0, 1, 1],\n",
       "        [0, 1, 1, 1, 1, 0, 0, 1, 1, 0],\n",
       "        [1, 0, 0, 0, 0, 1, 0, 0, 1, 0],\n",
       "        [1, 1, 1, 1, 0, 1, 1, 0, 0, 0],\n",
       "        [1, 1, 0, 1, 0, 0, 0, 0, 0, 1],\n",
       "        [1, 0, 0, 1, 1, 1, 1, 1, 1, 0],\n",
       "        [1, 1, 1, 1, 1, 0, 1, 1, 1, 0],\n",
       "        [1, 0, 0, 0, 1, 1, 1, 0, 0, 1],\n",
       "        [1, 0, 1, 1, 1, 0, 0, 0, 1, 0]])"
      ]
     },
     "execution_count": 109,
     "metadata": {},
     "output_type": "execute_result"
    }
   ],
   "source": [
    "# Test case\n",
    "A = np.matrix(np.random.randint(2, size = (10,10)))\n",
    "A"
   ]
  },
  {
   "cell_type": "code",
   "execution_count": 111,
   "metadata": {},
   "outputs": [
    {
     "data": {
      "text/plain": [
       "4.0"
      ]
     },
     "execution_count": 111,
     "metadata": {},
     "output_type": "execute_result"
    }
   ],
   "source": [
    "maxOneSize(A)"
   ]
  },
  {
   "cell_type": "markdown",
   "metadata": {},
   "source": [
    "# Problem 1.3\n",
    "\n",
    "**Objective**:\n",
    "\n",
    "A shuffle of two strings $A,B$ is formed by interspersing the characters into a new string,\n",
    "keeping the characters of $A$ and $B$ in the same order (for example, `several` is a shuffle of `seal` and `evr`). \n",
    "\n",
    "Given three strings $A = a_1, ..., a_n$, $B = b_1, ..., b_m$, and $C = c_1, ..., c_{m+n}$, we would like to verify whether $C$ is a shuffle of $A$ and $B$. Give a dynamic programming algorithm for the problem\n",
    "\n",
    "**Define**:\n",
    "\n",
    "- $A = a_1, a_2, ..., a_n$\n",
    "- $B = b_1, b_2, ..., b_m$\n",
    "- $C = c_1, c_2, ..., c_{m+n}$\n",
    "- $T[i,j]$ = the True/False answer for whether $c_1, c_2, ..., c_{i+j}$ is a shuffle of $a_1, a_2, ..., a_i$ and $b_1, b_2, ..., b_j$\n",
    "\n",
    "**Recursion**:\n",
    "\n",
    "$\n",
    "T[i,j] =\n",
    "\\begin{cases}\n",
    "T[i-1,j], \\ if \\ A[i-1] = C[i+j-1] \\ and \\ B[j-1] \\ne C[i+j-1]\\\\\n",
    "T[i,j-1], \\ if \\ B[j-1] = C[i+j-1] \\ and \\ A[i-1] \\ne C[i+j-1]\\\\\n",
    "T[i,j-1] \\ or \\ T[i-1,j], \\ if \\ A[i-1] = C[i+j-1] \\ and \\ B[j-1] = C[i+j-1]\\\\\n",
    "\\end{cases}\n",
    "$\n",
    "\n",
    "\n",
    "**Sudo code**\n",
    "\n",
    "```\n",
    "# Dynamic Programming\n",
    "for i from 0 to m:\n",
    "    for j from 0 to n:\n",
    "        ## Base case\n",
    "        \n",
    "        # Both A and B are empty string, \n",
    "        # then the shuffle of empty string must be True for any C\n",
    "        T[i,j] = True\n",
    "        \n",
    "        ## Six cases\n",
    "        \n",
    "        # (1) If A is empty, and the current letter in B (B[j-1]) is the same as \n",
    "        #     j-1 letter in C (C[j-1])\n",
    "        \n",
    "        if i == 0 and B[j-1] == C[j-1]:\n",
    "            T[i,j] = T[i,j-1]\n",
    "        \n",
    "        # (2) If B is empty, and the current letter in A (A[j-1]) is the same as \n",
    "        #     i-1 letter in C (C[i-1])\n",
    "        \n",
    "        else if j == 0 and A[i-1] == C[i-1]:\n",
    "            T[i,j] = T[i-1,j]\n",
    "            \n",
    "        # (3) Both A and B is not empty, letter in C matches only with the current letter in A\n",
    "        else if (A[i-1] == C[i+j-1]) & (B[j-1] != C[i+j-1]):\n",
    "            T[i,j] = T[i-1,j]\n",
    "            \n",
    "        # (3) Both A and B is not empty, letter in C matches only with the current letter in B \n",
    "        else if (B[j-1] == C[i+j-1]) & (A[i-1] != C[i+j-1]):\n",
    "            T[i,j] = T[i,j-1]\n",
    "        \n",
    "        # Both A and B is not empty, \n",
    "        # letter in C matches with both the current letter in A and in B\n",
    "        else if (A[i-1] == C[i+j-1]) & (B[j-1] == C[i+j-1]):\n",
    "            T[i,j] = (T[i,j-1] | T[i-1,j])\n",
    "        \n",
    "        # None of the above condition is met\n",
    "        else:\n",
    "            T[i,j] = False\n",
    "```"
   ]
  },
  {
   "cell_type": "code",
   "execution_count": 152,
   "metadata": {},
   "outputs": [],
   "source": [
    "def isInterleaved(A,B,C):\n",
    "    '''\n",
    "    A = list of letters a1,a2, ..., an\n",
    "    B = list of letters b1,b2, ..., bm\n",
    "    C = list\n",
    "    '''\n",
    "    # Get the value of m and n\n",
    "    m = len(A)\n",
    "    n = len(B)\n",
    "    # Initialize the matrix of T to all False\n",
    "    T = np.matrix(np.reshape(np.array([False]*(m+1)*(n+1)),(m+1,n+1)))\n",
    "    \n",
    "    # Dynamic Porgramming\n",
    "    for i in range(0,m+1):\n",
    "        for j in range(0,n+1):\n",
    "            # Both A and B are empty\n",
    "            if (i == 0) & (j == 0):\n",
    "                T[i,j] = True\n",
    "            # A is empty, so we only need to match letters in B with letter in C one by one\n",
    "            elif (i == 0) & (B[j-1] == C[j-1]):\n",
    "                T[i,j] = T[i,j-1]\n",
    "            # B is empty, so we only need to match letters in A with letter in C one by one\n",
    "            elif (j == 0) & (A[i-1] == C[i-1]):\n",
    "                T[i,j] = T[i-1,j]\n",
    "            # Both A and B is not empty\n",
    "            # letter in C matches only with the current letter in A\n",
    "            elif (A[i-1] == C[i+j-1]) & (B[j-1] != C[i+j-1]):\n",
    "                T[i,j] = T[i-1,j]\n",
    "            # Both A and B is not empty\n",
    "            # letter in C matches only with the current letter in B\n",
    "            elif (B[j-1] == C[i+j-1]) & (A[i-1] != C[i+j-1]):\n",
    "                T[i,j] = T[i,j-1]\n",
    "            # Both A and B is not empty\n",
    "            # letter in C matches with both the current letter in A and in B\n",
    "            elif (A[i-1] == C[i+j-1]) & (B[j-1] == C[i+j-1]):\n",
    "                T[i,j] = (T[i,j-1] | T[i-1,j])\n",
    "            else:\n",
    "                T[i,j] = False\n",
    "            \n",
    "    # Show the memory matrix\n",
    "    print(\"The matrix of T: \\n\")\n",
    "    print(T)\n",
    "    # Return the result\n",
    "    return T[m,n]"
   ]
  },
  {
   "cell_type": "code",
   "execution_count": 148,
   "metadata": {},
   "outputs": [],
   "source": [
    "# Test case\n",
    "A = ['s','e','a','l']\n",
    "B = ['e','v','r']\n",
    "C = ['s','e','v','e','r','a','l']"
   ]
  },
  {
   "cell_type": "code",
   "execution_count": 149,
   "metadata": {},
   "outputs": [
    {
     "name": "stdout",
     "output_type": "stream",
     "text": [
      "The matrix of T: \n",
      "\n",
      "[[ True False False False]\n",
      " [ True  True  True False]\n",
      " [ True False  True  True]\n",
      " [False False False  True]\n",
      " [False False False  True]]\n"
     ]
    },
    {
     "data": {
      "text/plain": [
       "True"
      ]
     },
     "execution_count": 149,
     "metadata": {},
     "output_type": "execute_result"
    }
   ],
   "source": [
    "isInterleaved(A,B,C)"
   ]
  },
  {
   "cell_type": "code",
   "execution_count": null,
   "metadata": {},
   "outputs": [],
   "source": []
  },
  {
   "cell_type": "code",
   "execution_count": null,
   "metadata": {},
   "outputs": [],
   "source": []
  },
  {
   "cell_type": "code",
   "execution_count": null,
   "metadata": {},
   "outputs": [],
   "source": []
  }
 ],
 "metadata": {
  "kernelspec": {
   "display_name": "Python 3",
   "language": "python",
   "name": "python3"
  },
  "language_info": {
   "codemirror_mode": {
    "name": "ipython",
    "version": 3
   },
   "file_extension": ".py",
   "mimetype": "text/x-python",
   "name": "python",
   "nbconvert_exporter": "python",
   "pygments_lexer": "ipython3",
   "version": "3.7.0"
  }
 },
 "nbformat": 4,
 "nbformat_minor": 2
}
