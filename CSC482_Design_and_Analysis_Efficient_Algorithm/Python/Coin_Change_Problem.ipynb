{
 "cells": [
  {
   "cell_type": "markdown",
   "metadata": {},
   "source": [
    "# Coin Change Problem\n",
    "\n",
    "Fixed coin denominations\n",
    "\n",
    "**INPUT**: amount $A$ to be paid\n",
    "\n",
    "**OBJECTIVE**: minimize the number of coins used for the change"
   ]
  },
  {
   "cell_type": "markdown",
   "metadata": {},
   "source": [
    "## Scenario A: unlimited supply of denominations from $1, 15, 10, 20$ (Greedy approach is the optimal approach)"
   ]
  },
  {
   "cell_type": "code",
   "execution_count": 40,
   "metadata": {},
   "outputs": [],
   "source": [
    "# Choices of coins\n",
    "coinList = [1, 15, 10, 20]"
   ]
  },
  {
   "cell_type": "code",
   "execution_count": 41,
   "metadata": {},
   "outputs": [],
   "source": [
    "def coinChange_greedy(A, coins):\n",
    "    # Iterate the coins from coin list in descending order (Start using the largest coin value first)\n",
    "    for c in sorted(coins, reverse = True):\n",
    "        # If the amount need to pay is greater than the current value of coin\n",
    "        if A > c:\n",
    "            # How many number of coins of current value can be used\n",
    "            numCurrentCoin = A // c\n",
    "            # Print message\n",
    "            print(\"Use {} of ${}, remain ${}\".format(numCurrentCoin, c, (A % c)))\n",
    "            # Deduct the paid amount from the original amount\n",
    "            A = A - c*numCurrentCoin"
   ]
  },
  {
   "cell_type": "code",
   "execution_count": 42,
   "metadata": {},
   "outputs": [
    {
     "name": "stdout",
     "output_type": "stream",
     "text": [
      "Use 1 of $15, remain $2\n",
      "Use 2 of $1, remain $0\n"
     ]
    }
   ],
   "source": [
    "coinChange_greedy(17, coinList)"
   ]
  },
  {
   "cell_type": "markdown",
   "metadata": {},
   "source": [
    "## Scenario B: unlimited supply of denominations from $1, 5, 11$ (Greedy approach is not the optimal approach)"
   ]
  },
  {
   "cell_type": "markdown",
   "metadata": {},
   "source": [
    "| $A$ | 0 | 1 | 2 | 3 | 4 | 5 | 6 | 7 | 8 | 9 | 10 | 11 | ... |\n",
    "|---|---|---|---|---|---|---|---|---|---|---|----|----|----|\n",
    "| $S$ | 0 | 1 | 2 | 3 | 4 | 1 | 2 | 3 | 4 | 5 | 2  | 1  |  ...  |"
   ]
  },
  {
   "cell_type": "code",
   "execution_count": 80,
   "metadata": {},
   "outputs": [],
   "source": [
    "# Choices of coins\n",
    "coinList = [1, 5, 11]"
   ]
  },
  {
   "cell_type": "code",
   "execution_count": 95,
   "metadata": {},
   "outputs": [],
   "source": [
    "def coinChange_unlimited(A, coins):\n",
    "    '''\n",
    "    Input:\n",
    "    This function takes in two parameters A and coins\n",
    "    1. A is the amount of money need to change\n",
    "    2. coins is a list of numbers contains possible value of coins that can be used for \n",
    "       the coin change problem\n",
    "    \n",
    "    Output: A list contains the least number of coins needed to change any integer amount of value\n",
    "            that is smaller than A\n",
    "    '''\n",
    "    # Initialize the solution list\n",
    "    S = [None]*(A+1)\n",
    "    # Initialize the zero index (0 coin is needed for the change of $0)\n",
    "    S[0] = 0\n",
    "    \n",
    "    # Iterate through all possible value <= A\n",
    "    for a in range(1,A+1):\n",
    "        # Iterate through choices of coins for change\n",
    "        for i in range(len(coins)):\n",
    "            # If the current choice of coin is smaller than the amount need to be paid\n",
    "            if a-coins[i] >= 0:\n",
    "                # If the current amount coin change problem does not have any solution\n",
    "                if S[a] is None:\n",
    "                    # Add the current solution (# of coins used for change) to the solution list\n",
    "                    S[a] = 1 + S[a-coins[i]]\n",
    "                # If the current amount coin change problem already have a solution\n",
    "                else:\n",
    "                    # If the original solution is better than the current one. Make no changes\n",
    "                    if S[a] <= 1 + S[a-coins[i]]:\n",
    "                        pass\n",
    "                    # If the original solution is worse than the current one. Substitue it with the current one.\n",
    "                    else:\n",
    "                        S[a] = 1 + S[a-coins[i]]\n",
    "    # Return the solution list\n",
    "    return S"
   ]
  },
  {
   "cell_type": "code",
   "execution_count": 98,
   "metadata": {},
   "outputs": [
    {
     "data": {
      "text/plain": [
       "[0, 1, 2, 3, 4, 1, 2, 3, 4, 5, 2, 1, 2, 3, 4, 3]"
      ]
     },
     "execution_count": 98,
     "metadata": {},
     "output_type": "execute_result"
    }
   ],
   "source": [
    "solution = coinChange_unlimited(15,coinList)\n",
    "solution"
   ]
  },
  {
   "cell_type": "code",
   "execution_count": 99,
   "metadata": {},
   "outputs": [
    {
     "data": {
      "text/plain": [
       "3"
      ]
     },
     "execution_count": 99,
     "metadata": {},
     "output_type": "execute_result"
    }
   ],
   "source": [
    "solution[15] # The least number of coins needed to change for $15"
   ]
  },
  {
   "cell_type": "markdown",
   "metadata": {},
   "source": [
    "## Scenario C: limited supply of denominations from $1,1,5,10,10,25,25$"
   ]
  },
  {
   "cell_type": "code",
   "execution_count": 103,
   "metadata": {},
   "outputs": [],
   "source": [
    "# Choices of coins\n",
    "coinList = [1,1,5,10,10,25,25]"
   ]
  },
  {
   "cell_type": "code",
   "execution_count": null,
   "metadata": {},
   "outputs": [],
   "source": [
    "def coinChange_limited(A, coins):\n",
    "    # Initialize the boolean list\n",
    "    S = [None] * (A+1)\n",
    "    # Initialize the zero index\n",
    "    S[0] = True\n",
    "    \n",
    "    for a in range(1, A+1):\n",
    "        for l in range(len(coins)):\n",
    "            \n",
    "    "
   ]
  },
  {
   "cell_type": "code",
   "execution_count": null,
   "metadata": {},
   "outputs": [],
   "source": []
  }
 ],
 "metadata": {
  "kernelspec": {
   "display_name": "Python 3",
   "language": "python",
   "name": "python3"
  },
  "language_info": {
   "codemirror_mode": {
    "name": "ipython",
    "version": 3
   },
   "file_extension": ".py",
   "mimetype": "text/x-python",
   "name": "python",
   "nbconvert_exporter": "python",
   "pygments_lexer": "ipython3",
   "version": "3.7.0"
  }
 },
 "nbformat": 4,
 "nbformat_minor": 2
}
