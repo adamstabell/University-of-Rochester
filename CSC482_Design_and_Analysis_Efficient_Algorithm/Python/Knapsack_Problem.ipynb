{
 "cells": [
  {
   "cell_type": "code",
   "execution_count": 1,
   "metadata": {},
   "outputs": [],
   "source": [
    "import numpy as np"
   ]
  },
  {
   "cell_type": "markdown",
   "metadata": {},
   "source": [
    "# Knapsack Problem\n",
    "\n",
    "**INPUT**: $v_1, v_2, ..., v_n$ and $w_1, w_2, ..., w_n$ are positive integers\n",
    "\n",
    "- $v_i$ = the value of $ith$ item\n",
    "- $w_i$ = weight of $ith$ item\n",
    "- $L$ = weight limit\n",
    "\n",
    "**OUTPUT**: the subset of the items that has maximize the total value and fits in the weight limit\n",
    "\n",
    "- $\\max \\sum_{i \\in S} v_i$\n",
    "- $S \\subseteq \\{1,2,...,n\\}$\n",
    "- $\\sum_{i \\in S} w_i \\le L$"
   ]
  },
  {
   "cell_type": "markdown",
   "metadata": {},
   "source": [
    "## Scenario A\n",
    "\n",
    "**Define**: $T[l,i]$ = the maximum value of a subset of the first $i$ items (items $1,2,...,i$) whose weight does not exceed $l$\n",
    "\n",
    "$\n",
    "T[l,i] = \\max\n",
    "\\begin{cases}\n",
    "T[l,i-1],\\\\\n",
    "T[l-w_i,i-1] + v_i\\\\\n",
    "\\end{cases}\n",
    "$\n",
    "\n",
    "**Example**:\n",
    "\n",
    "- $n = 3, L = 5$\n",
    "- $v_1 = 5$, $w_1 = 1$\n",
    "- $v_2 = 6$, $w_2 = 3$\n",
    "- $v_3 = 7$, $w_3 = 2$"
   ]
  },
  {
   "cell_type": "code",
   "execution_count": 102,
   "metadata": {},
   "outputs": [],
   "source": [
    "# Item list\n",
    "v = [5,7,6]\n",
    "# Weight list\n",
    "w = [1,2,3]"
   ]
  },
  {
   "cell_type": "code",
   "execution_count": 103,
   "metadata": {},
   "outputs": [],
   "source": [
    "def knapsack(L,v,w):\n",
    "    '''\n",
    "    This is a function to solve knapsack problem\n",
    "    \n",
    "    Input:\n",
    "    This function takes in 4 parameters:\n",
    "    1. L is the weight limit\n",
    "    2. v is a list, containing all item value\n",
    "    3. w is a list, containing all weights associated with corresponding item\n",
    "    \n",
    "    Output:\n",
    "    A matrix:\n",
    "    1. Columns indicate all possible weight limit (l) that is smaller or equal to L.\n",
    "    2. Rows indicate all possible subset of first ith item where i is smaller or equal to the total number of items (n)\n",
    "    3. Each cell indicate the maximum total value that can be achieved using the first ith item and does not exceed l\n",
    "    '''\n",
    "    # Number of items\n",
    "    n = len(v)\n",
    "    # Initialize the output matrix\n",
    "    T = np.zeros([n+1, L+1]) # +1 is for the zero column and row\n",
    "    \n",
    "    for l in range(0, L+1): # +1 because range() exclude the last number\n",
    "        # Initialize values when i is zero\n",
    "        T[0,l] = 0 # Maximum value of a subset of the firt zero items is zero\n",
    "\n",
    "    # Iterate through all possible combination of i and l where i <= n and l <= L\n",
    "    for i in range(1, n+1):\n",
    "        for l in range(0, L+1):\n",
    "            # Fill the current slot with the result using i-1 item\n",
    "            # Assuming we cannot use the ith item (Worst case)\n",
    "            T[i,l] = T[i-1,l]\n",
    "            # If it might be possible to use the ith item\n",
    "            if w[i-1] <= l: # w[i-1] to accommodate list starting from 0 index\n",
    "                # Find the larger value and substitue the original value in the slot\n",
    "                T[i,l] = max(T[i-1,l],T[i-1,l-w[i-1]]+v[i-1]) # w[i-1],v[i-1] to accommodate list starting from 0 index\n",
    "    \n",
    "    return T"
   ]
  },
  {
   "cell_type": "code",
   "execution_count": 104,
   "metadata": {},
   "outputs": [
    {
     "data": {
      "text/plain": [
       "array([[ 0.,  0.,  0.,  0.,  0.,  0.],\n",
       "       [ 0.,  5.,  5.,  5.,  5.,  5.],\n",
       "       [ 0.,  5.,  7., 12., 12., 12.],\n",
       "       [ 0.,  5.,  7., 12., 12., 13.]])"
      ]
     },
     "execution_count": 104,
     "metadata": {},
     "output_type": "execute_result"
    }
   ],
   "source": [
    "optimal = knapsack(5,v,w)\n",
    "optimal"
   ]
  },
  {
   "cell_type": "code",
   "execution_count": 74,
   "metadata": {},
   "outputs": [
    {
     "data": {
      "text/plain": [
       "13.0"
      ]
     },
     "execution_count": 74,
     "metadata": {},
     "output_type": "execute_result"
    }
   ],
   "source": [
    "# The maximum value of a subset of the first 3 items whose weight does not exceed 5\n",
    "optimal[3,5] \n",
    "# Notice that optimal[3,5] = T[i,l] defined in code = T[l,i] defined in problem"
   ]
  },
  {
   "cell_type": "markdown",
   "metadata": {},
   "source": [
    "## Scenario B\n",
    "\n",
    "Transform the original question:\n",
    "\n",
    "- The maximum value ($T[L,i]$) of a subset of the first $i$ items whose weight does not exceed $L$\n",
    "\n",
    "$\\Rightarrow$\n",
    "\n",
    "- The minimum weight ($S[i,v]$) of a subset of the first $i$ items whose total value is at least $v$\n",
    "\n",
    "Where, $L = S[i,v]$ and $v = T[L,i]$\n",
    "\n",
    "**Define**: \n",
    "\n",
    "- $S[i,v]$ = minimum weight of a subset of the first $i$ items whose total value is at least $v$\n",
    "- Let $S[i,v] = \\infty$, if total value of first $i$ items is less than $v$\n",
    "- $\\hat{V} = \\sum v_i$\n",
    "\n",
    "$\n",
    "S[i,v] = \\min\n",
    "\\begin{cases}\n",
    "S[i-1,v],\\\\\n",
    "S[i-1,v-v_i] + w_i\\\\\n",
    "\\end{cases}\n",
    "$\n",
    "\n",
    "**Example**:\n",
    "\n",
    "- $w_1 = 1$, $v_1 = 2$\n",
    "- $w_2 = 3$, $v_2 = 3$\n",
    "- $w_3 = 2$, $v_3 = 4$"
   ]
  },
  {
   "cell_type": "code",
   "execution_count": 89,
   "metadata": {},
   "outputs": [],
   "source": [
    "# Value list\n",
    "V = [2,3,4]\n",
    "# Weight list\n",
    "w = [1,3,2]"
   ]
  },
  {
   "cell_type": "code",
   "execution_count": 95,
   "metadata": {},
   "outputs": [],
   "source": [
    "def knapsack_v2(V,w):\n",
    "    '''\n",
    "    This is a function to solve knapsack problem. Especially when we have \n",
    "    * Small values\n",
    "    * Large weights\n",
    "    \n",
    "    Input:\n",
    "    This function takes in 2 parameters:\n",
    "    2. V is a list, containing all item value\n",
    "    3. w is a list, containing all weights associated with corresponding item\n",
    "    \n",
    "    Output:\n",
    "    A matrix:\n",
    "    1. Columns indicate all possible total value (v) for a given value list, V\n",
    "    2. Rows indicate all possible subset of first ith item where i is smaller or equal to the total number of items (n)\n",
    "    3. Each cell indicate the minimum weights that can be achieved using the first ith item and has total value at least v\n",
    "    '''\n",
    "    # Number of items\n",
    "    n = len(V)\n",
    "    # All possible total value\n",
    "    V_hat = sum(V)\n",
    "    # Initialize the output matrix\n",
    "    S = np.zeros([n+1, V_hat+1]) # +1 is for the zero column and row\n",
    "    \n",
    "    for v in range(1, V_hat+1): # +1 because range() exclude the last number\n",
    "        # Initialize weight when we have zero items\n",
    "        S[0,v] = np.inf # Set the weight to positive infinity because that indicate impossible \n",
    "                        # and will always be greater than any real solution\n",
    "    \n",
    "    for i in range(1, n+1):\n",
    "        for v in range(0, V_hat+1):\n",
    "            # Fill the current slot with the result using i-1 item\n",
    "            # Assuming we cannot use the ith item (Worst case)\n",
    "            S[i,v] = S[i-1,v]\n",
    "            # If we might be able to use the ith item alone to fulfill the requirement\n",
    "            if V[i-1] >= v: # v[i-1] to accommodate list starting from 0 index\n",
    "                S[i,v] = min(S[i,v], w[i-1]) # w[i-1] to accommodate list starting from 0 index\n",
    "            # Otherwise\n",
    "            else:\n",
    "                S[i,v] = min(S[i,v], S[i-1, v-V[i-1]] + w[i-1]) # v[i-1], w[i-1] to accommodate list starting from 0 index\n",
    "    \n",
    "    return S"
   ]
  },
  {
   "cell_type": "code",
   "execution_count": 97,
   "metadata": {},
   "outputs": [
    {
     "data": {
      "text/plain": [
       "array([[ 0., inf, inf, inf, inf, inf, inf, inf, inf, inf],\n",
       "       [ 0.,  1.,  1., inf, inf, inf, inf, inf, inf, inf],\n",
       "       [ 0.,  1.,  1.,  3.,  4.,  4., inf, inf, inf, inf],\n",
       "       [ 0.,  1.,  1.,  2.,  2.,  3.,  3.,  5.,  6.,  6.]])"
      ]
     },
     "execution_count": 97,
     "metadata": {},
     "output_type": "execute_result"
    }
   ],
   "source": [
    "optimal_v2 = knapsack_v2(V,w)\n",
    "optimal_v2"
   ]
  },
  {
   "cell_type": "code",
   "execution_count": 107,
   "metadata": {},
   "outputs": [
    {
     "data": {
      "text/plain": [
       "array([7])"
      ]
     },
     "execution_count": 107,
     "metadata": {},
     "output_type": "execute_result"
    }
   ],
   "source": [
    "# If the weight limit is 5, what is the maximum total value that can be reached using the given item list\n",
    "np.where(optimal_v2==5)[1]\n",
    "# Notice that the answer will only exist in the last row. Because you have all the items to choose only in last row"
   ]
  },
  {
   "cell_type": "code",
   "execution_count": null,
   "metadata": {},
   "outputs": [],
   "source": []
  }
 ],
 "metadata": {
  "kernelspec": {
   "display_name": "Python 3",
   "language": "python",
   "name": "python3"
  },
  "language_info": {
   "codemirror_mode": {
    "name": "ipython",
    "version": 3
   },
   "file_extension": ".py",
   "mimetype": "text/x-python",
   "name": "python",
   "nbconvert_exporter": "python",
   "pygments_lexer": "ipython3",
   "version": "3.7.0"
  }
 },
 "nbformat": 4,
 "nbformat_minor": 2
}
