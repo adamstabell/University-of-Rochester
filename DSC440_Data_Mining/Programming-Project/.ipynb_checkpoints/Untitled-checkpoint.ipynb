{
 "cells": [
  {
   "cell_type": "markdown",
   "metadata": {},
   "source": [
    "## Apriori"
   ]
  },
  {
   "cell_type": "code",
   "execution_count": 30,
   "metadata": {},
   "outputs": [],
   "source": [
    "def create_database(file):\n",
    "    print('Opening input file...')\n",
    "    with open(file) as f:\n",
    "        print('Loading data from input file...')\n",
    "        database = list()\n",
    "        for line in f.read().splitlines():\n",
    "            database.append(line.split(', '))\n",
    "        print('Complete the construction of database!')\n",
    "        return database"
   ]
  },
  {
   "cell_type": "code",
   "execution_count": 13,
   "metadata": {},
   "outputs": [],
   "source": [
    "def find_frequent_1_itemsets(database):\n",
    "    itemsets = []\n",
    "    for transaction in database:\n",
    "        for item in transaction:\n",
    "            if item not in itemsets:\n",
    "                itemsets.append(item)\n",
    "    \n",
    "    return tuple(itemsets)"
   ]
  },
  {
   "cell_type": "code",
   "execution_count": null,
   "metadata": {},
   "outputs": [],
   "source": [
    "def apriori_gen(Lk_sub1):\n",
    "    Ck = []\n",
    "    \n",
    "    for i in range(len(Lk_sub1)):\n",
    "        for j in range(1, len(Lk_sub1)):\n",
    "            l1 = sorted(list(Lk_sub1[i]))\n",
    "            l2 = sorted(list(Lk_sub1[j]))\n",
    "            \n"
   ]
  },
  {
   "cell_type": "code",
   "execution_count": null,
   "metadata": {},
   "outputs": [],
   "source": [
    "def has_infrequent_subset(c, Lk_sub1):\n",
    "    "
   ]
  },
  {
   "cell_type": "code",
   "execution_count": null,
   "metadata": {},
   "outputs": [],
   "source": [
    "def main():\n",
    "    db = create_database(file = 'adult.data')\n",
    "    L1 = find_frequent_1_itemsets(database=db)\n",
    "    "
   ]
  },
  {
   "cell_type": "code",
   "execution_count": 31,
   "metadata": {},
   "outputs": [
    {
     "name": "stdout",
     "output_type": "stream",
     "text": [
      "Opening input file...\n",
      "Loading data from input file...\n",
      "Complete the construction of database!\n"
     ]
    }
   ],
   "source": [
    "db = create_database(file = 'adult.data')"
   ]
  },
  {
   "cell_type": "code",
   "execution_count": 40,
   "metadata": {},
   "outputs": [
    {
     "data": {
      "text/plain": [
       "32562"
      ]
     },
     "execution_count": 40,
     "metadata": {},
     "output_type": "execute_result"
    }
   ],
   "source": [
    "len(db)"
   ]
  },
  {
   "cell_type": "markdown",
   "metadata": {},
   "source": [
    "# FP-growth"
   ]
  },
  {
   "cell_type": "code",
   "execution_count": 11,
   "metadata": {},
   "outputs": [],
   "source": [
    "class treeNode:\n",
    "    def __init__(self, item, count, parent):\n",
    "        # Item contained in the node\n",
    "        self.item = item\n",
    "        # The frequency of the item\n",
    "        self.count = count\n",
    "        # The link between similar items\n",
    "        self.nodeLink = None\n",
    "        # Parent node\n",
    "        self.parent = parent\n",
    "        # Child nodes\n",
    "        self.children = {}\n",
    "        \n",
    "    def increment(self, num_occur):\n",
    "        self.count += num_occur\n",
    "\n",
    "    def disp(self, ind=1):\n",
    "        print(' '*ind + str(self.item) + ' ' + str(self.count))\n",
    "        for child in self.children.values():\n",
    "            child.disp(ind+1)"
   ]
  },
  {
   "cell_type": "code",
   "execution_count": 12,
   "metadata": {},
   "outputs": [],
   "source": [
    "rootNode = treeNode('pyramid',9, None)"
   ]
  },
  {
   "cell_type": "code",
   "execution_count": 13,
   "metadata": {},
   "outputs": [],
   "source": [
    "rootNode.children['eye']=treeNode('eye', 13, None)"
   ]
  },
  {
   "cell_type": "code",
   "execution_count": 14,
   "metadata": {},
   "outputs": [
    {
     "name": "stdout",
     "output_type": "stream",
     "text": [
      " pyramid 9\n",
      "  eye 13\n"
     ]
    }
   ],
   "source": [
    "rootNode.disp()"
   ]
  },
  {
   "cell_type": "code",
   "execution_count": 16,
   "metadata": {},
   "outputs": [],
   "source": [
    "rootNode.children['phoenix']=treeNode('phoenix', 3, None)"
   ]
  },
  {
   "cell_type": "code",
   "execution_count": 17,
   "metadata": {},
   "outputs": [
    {
     "name": "stdout",
     "output_type": "stream",
     "text": [
      " pyramid 9\n",
      "  eye 13\n",
      "  phoenix 3\n"
     ]
    }
   ],
   "source": [
    "rootNode.disp()"
   ]
  },
  {
   "cell_type": "code",
   "execution_count": 52,
   "metadata": {},
   "outputs": [],
   "source": [
    "def createInitSet(db):\n",
    "    \"\"\"\n",
    "    Initialize the database, {'Transaction1':1, 'Transaction#2':1, ...}\n",
    "    \"\"\"\n",
    "    # Initialize a dictionary to store all transactions\n",
    "    d = {}\n",
    "    # For each transaction in the database, record it in the dictionary and set frequency to 1\n",
    "    for trans in db:\n",
    "        d[frozenset(trans)] = 1\n",
    "\n",
    "    return d"
   ]
  },
  {
   "cell_type": "code",
   "execution_count": 53,
   "metadata": {},
   "outputs": [],
   "source": [
    "initSet = createInitSet(db)"
   ]
  },
  {
   "cell_type": "code",
   "execution_count": 63,
   "metadata": {},
   "outputs": [],
   "source": [
    "db = initSet\n",
    "min_sup = 0.2\n",
    "# The header table contains the names of all items and their counts\n",
    "headerTable = {}\n",
    "\n",
    "# Fill the header table\n",
    "for transaction in db:\n",
    "    for item in transaction:\n",
    "        headerTable[item] = headerTable.get(item, 0) + db[transaction]\n",
    "\n",
    "itemSet = set(headerTable.keys())\n",
    "# Remove items from header table if not meeting the minimum support\n",
    "for item in itemSet:  \n",
    "    if headerTable[item] < min_sup:\n",
    "        del headerTable[item]"
   ]
  },
  {
   "cell_type": "code",
   "execution_count": 64,
   "metadata": {},
   "outputs": [
    {
     "data": {
      "text/plain": [
       "1"
      ]
     },
     "execution_count": 64,
     "metadata": {},
     "output_type": "execute_result"
    }
   ],
   "source": [
    "headerTable[item]"
   ]
  },
  {
   "cell_type": "code",
   "execution_count": 60,
   "metadata": {},
   "outputs": [
    {
     "ename": "AttributeError",
     "evalue": "'list' object has no attribute 'keys'",
     "output_type": "error",
     "traceback": [
      "\u001b[0;31m----------------------------------------\u001b[0m",
      "\u001b[0;31mAttributeError\u001b[0mTraceback (most recent call last)",
      "\u001b[0;32m<ipython-input-60-7646db6076a2>\u001b[0m in \u001b[0;36m<module>\u001b[0;34m()\u001b[0m\n\u001b[0;32m----> 1\u001b[0;31m \u001b[0mdb\u001b[0m\u001b[0;34m.\u001b[0m\u001b[0mkeys\u001b[0m\u001b[0;34m(\u001b[0m\u001b[0;34m)\u001b[0m\u001b[0;34m[\u001b[0m\u001b[0;36m0\u001b[0m\u001b[0;34m:\u001b[0m\u001b[0;36m10\u001b[0m\u001b[0;34m]\u001b[0m\u001b[0;34m\u001b[0m\u001b[0m\n\u001b[0m",
      "\u001b[0;31mAttributeError\u001b[0m: 'list' object has no attribute 'keys'"
     ]
    }
   ],
   "source": [
    "db.keys()[0:10]"
   ]
  },
  {
   "cell_type": "code",
   "execution_count": null,
   "metadata": {},
   "outputs": [],
   "source": []
  }
 ],
 "metadata": {
  "kernelspec": {
   "display_name": "Python 3",
   "language": "python",
   "name": "python3"
  },
  "language_info": {
   "codemirror_mode": {
    "name": "ipython",
    "version": 3
   },
   "file_extension": ".py",
   "mimetype": "text/x-python",
   "name": "python",
   "nbconvert_exporter": "python",
   "pygments_lexer": "ipython3",
   "version": "3.7.0"
  }
 },
 "nbformat": 4,
 "nbformat_minor": 2
}
