{
 "cells": [
  {
   "cell_type": "code",
   "execution_count": 1,
   "metadata": {},
   "outputs": [],
   "source": [
    "import numpy as np\n",
    "from sklearn.cluster import KMeans\n",
    "from scipy.special import comb\n",
    "seed = 0"
   ]
  },
  {
   "cell_type": "code",
   "execution_count": 3,
   "metadata": {},
   "outputs": [],
   "source": [
    "data = np.array([[2,10],[2,5],[8,4],[5,8],[7,5],[6,4],[1,2],[4,9]])\n",
    "fix_init = np.array([[2,10],[5,8],[1,2]])"
   ]
  },
  {
   "cell_type": "code",
   "execution_count": 8,
   "metadata": {},
   "outputs": [
    {
     "name": "stderr",
     "output_type": "stream",
     "text": [
      "/Library/Frameworks/Python.framework/Versions/3.7/lib/python3.7/site-packages/sklearn/cluster/k_means_.py:896: RuntimeWarning: Explicit initial center position passed: performing only one init in k-means instead of n_init=10\n",
      "  return_n_iter=True)\n"
     ]
    }
   ],
   "source": [
    "my_kmeans = KMeans(n_clusters=3, init=fix_init, random_state=seed, max_iter=1).fit(data)"
   ]
  },
  {
   "cell_type": "code",
   "execution_count": 9,
   "metadata": {},
   "outputs": [
    {
     "data": {
      "text/plain": [
       "array([[ 2. , 10. ],\n",
       "       [ 6. ,  6. ],\n",
       "       [ 1.5,  3.5]])"
      ]
     },
     "execution_count": 9,
     "metadata": {},
     "output_type": "execute_result"
    }
   ],
   "source": [
    "my_kmeans.cluster_centers_"
   ]
  },
  {
   "cell_type": "code",
   "execution_count": 11,
   "metadata": {},
   "outputs": [
    {
     "name": "stderr",
     "output_type": "stream",
     "text": [
      "/Library/Frameworks/Python.framework/Versions/3.7/lib/python3.7/site-packages/sklearn/cluster/k_means_.py:896: RuntimeWarning: Explicit initial center position passed: performing only one init in k-means instead of n_init=10\n",
      "  return_n_iter=True)\n"
     ]
    }
   ],
   "source": [
    "my_kmeans = KMeans(n_clusters=3, init=fix_init, random_state=seed).fit(data)"
   ]
  },
  {
   "cell_type": "code",
   "execution_count": 12,
   "metadata": {},
   "outputs": [
    {
     "data": {
      "text/plain": [
       "array([[3.66666667, 9.        ],\n",
       "       [7.        , 4.33333333],\n",
       "       [1.5       , 3.5       ]])"
      ]
     },
     "execution_count": 12,
     "metadata": {},
     "output_type": "execute_result"
    }
   ],
   "source": [
    "my_kmeans.cluster_centers_"
   ]
  },
  {
   "cell_type": "code",
   "execution_count": 13,
   "metadata": {},
   "outputs": [
    {
     "data": {
      "text/plain": [
       "array([0, 2, 1, 0, 1, 1, 2, 0], dtype=int32)"
      ]
     },
     "execution_count": 13,
     "metadata": {},
     "output_type": "execute_result"
    }
   ],
   "source": [
    "my_kmeans.predict(data)"
   ]
  },
  {
   "cell_type": "code",
   "execution_count": 3,
   "metadata": {},
   "outputs": [
    {
     "data": {
      "text/plain": [
       "1.0"
      ]
     },
     "execution_count": 3,
     "metadata": {},
     "output_type": "execute_result"
    }
   ],
   "source": [
    "comb(N = 7, k = 7)"
   ]
  },
  {
   "cell_type": "code",
   "execution_count": 13,
   "metadata": {},
   "outputs": [],
   "source": [
    "from scipy.special import comb\n",
    "import pandas as pd\n",
    "import numpy as np"
   ]
  },
  {
   "cell_type": "code",
   "execution_count": 4,
   "metadata": {},
   "outputs": [],
   "source": [
    "def Euclidean_Ada_Bob(x):\n",
    "    numerator = comb(N=7,k=x-3)*comb(N=990,k=10-x)\n",
    "    denominator = comb(N=997,k=7)\n",
    "    return(numerator/denominator)"
   ]
  },
  {
   "cell_type": "code",
   "execution_count": 5,
   "metadata": {},
   "outputs": [],
   "source": [
    "def Euclidean_Ada_Cathy(x):\n",
    "    numerator = comb(N=10,k=x)*comb(N=990,k=10-x)\n",
    "    denominator = comb(N=1000,k=10)\n",
    "    return(numerator/denominator)"
   ]
  },
  {
   "cell_type": "code",
   "execution_count": 20,
   "metadata": {},
   "outputs": [
    {
     "data": {
      "text/html": [
       "<div>\n",
       "<style scoped>\n",
       "    .dataframe tbody tr th:only-of-type {\n",
       "        vertical-align: middle;\n",
       "    }\n",
       "\n",
       "    .dataframe tbody tr th {\n",
       "        vertical-align: top;\n",
       "    }\n",
       "\n",
       "    .dataframe thead th {\n",
       "        text-align: right;\n",
       "    }\n",
       "</style>\n",
       "<table border=\"1\" class=\"dataframe\">\n",
       "  <thead>\n",
       "    <tr style=\"text-align: right;\">\n",
       "      <th></th>\n",
       "      <th>x</th>\n",
       "      <th>Euclidean_Distance</th>\n",
       "      <th>Probablity</th>\n",
       "    </tr>\n",
       "  </thead>\n",
       "  <tbody>\n",
       "    <tr>\n",
       "      <th>0</th>\n",
       "      <td>3</td>\n",
       "      <td>1.732051</td>\n",
       "      <td>9.517334e-01</td>\n",
       "    </tr>\n",
       "    <tr>\n",
       "      <th>1</th>\n",
       "      <td>4</td>\n",
       "      <td>2.000000</td>\n",
       "      <td>4.739323e-02</td>\n",
       "    </tr>\n",
       "    <tr>\n",
       "      <th>2</th>\n",
       "      <td>5</td>\n",
       "      <td>2.236068</td>\n",
       "      <td>8.660691e-04</td>\n",
       "    </tr>\n",
       "    <tr>\n",
       "      <th>3</th>\n",
       "      <td>6</td>\n",
       "      <td>2.449490</td>\n",
       "      <td>7.319719e-06</td>\n",
       "    </tr>\n",
       "    <tr>\n",
       "      <th>4</th>\n",
       "      <td>7</td>\n",
       "      <td>2.645751</td>\n",
       "      <td>2.966451e-08</td>\n",
       "    </tr>\n",
       "    <tr>\n",
       "      <th>5</th>\n",
       "      <td>8</td>\n",
       "      <td>2.828427</td>\n",
       "      <td>5.404466e-11</td>\n",
       "    </tr>\n",
       "    <tr>\n",
       "      <th>6</th>\n",
       "      <td>9</td>\n",
       "      <td>3.000000</td>\n",
       "      <td>3.643051e-14</td>\n",
       "    </tr>\n",
       "    <tr>\n",
       "      <th>7</th>\n",
       "      <td>10</td>\n",
       "      <td>3.162278</td>\n",
       "      <td>5.256928e-18</td>\n",
       "    </tr>\n",
       "  </tbody>\n",
       "</table>\n",
       "</div>"
      ],
      "text/plain": [
       "    x  Euclidean_Distance    Probablity\n",
       "0   3            1.732051  9.517334e-01\n",
       "1   4            2.000000  4.739323e-02\n",
       "2   5            2.236068  8.660691e-04\n",
       "3   6            2.449490  7.319719e-06\n",
       "4   7            2.645751  2.966451e-08\n",
       "5   8            2.828427  5.404466e-11\n",
       "6   9            3.000000  3.643051e-14\n",
       "7  10            3.162278  5.256928e-18"
      ]
     },
     "execution_count": 20,
     "metadata": {},
     "output_type": "execute_result"
    }
   ],
   "source": [
    "Ada_Bob = pd.DataFrame({'x':[x for x in range(3,11)],\n",
    "                        'Euclidean_Distance':[np.sqrt(x) for x in range(3,11)],\n",
    "                        'Probablity':[Euclidean_Ada_Bob(x) for x in range(3,11)]})\n",
    "Ada_Bob"
   ]
  },
  {
   "cell_type": "code",
   "execution_count": 26,
   "metadata": {},
   "outputs": [
    {
     "data": {
      "text/html": [
       "<div>\n",
       "<style scoped>\n",
       "    .dataframe tbody tr th:only-of-type {\n",
       "        vertical-align: middle;\n",
       "    }\n",
       "\n",
       "    .dataframe tbody tr th {\n",
       "        vertical-align: top;\n",
       "    }\n",
       "\n",
       "    .dataframe thead th {\n",
       "        text-align: right;\n",
       "    }\n",
       "</style>\n",
       "<table border=\"1\" class=\"dataframe\">\n",
       "  <thead>\n",
       "    <tr style=\"text-align: right;\">\n",
       "      <th></th>\n",
       "      <th>x</th>\n",
       "      <th>Euclidean_Distance</th>\n",
       "      <th>Probablity</th>\n",
       "    </tr>\n",
       "  </thead>\n",
       "  <tbody>\n",
       "    <tr>\n",
       "      <th>0</th>\n",
       "      <td>1</td>\n",
       "      <td>1.000000</td>\n",
       "      <td>9.214765e-02</td>\n",
       "    </tr>\n",
       "    <tr>\n",
       "      <th>1</th>\n",
       "      <td>2</td>\n",
       "      <td>1.414214</td>\n",
       "      <td>3.800387e-03</td>\n",
       "    </tr>\n",
       "    <tr>\n",
       "      <th>2</th>\n",
       "      <td>3</td>\n",
       "      <td>1.732051</td>\n",
       "      <td>8.247703e-05</td>\n",
       "    </tr>\n",
       "    <tr>\n",
       "      <th>3</th>\n",
       "      <td>4</td>\n",
       "      <td>2.000000</td>\n",
       "      <td>1.026772e-06</td>\n",
       "    </tr>\n",
       "    <tr>\n",
       "      <th>4</th>\n",
       "      <td>5</td>\n",
       "      <td>2.236068</td>\n",
       "      <td>7.505338e-09</td>\n",
       "    </tr>\n",
       "    <tr>\n",
       "      <th>5</th>\n",
       "      <td>6</td>\n",
       "      <td>2.449490</td>\n",
       "      <td>3.171627e-11</td>\n",
       "    </tr>\n",
       "    <tr>\n",
       "      <th>6</th>\n",
       "      <td>7</td>\n",
       "      <td>2.645751</td>\n",
       "      <td>7.344917e-14</td>\n",
       "    </tr>\n",
       "    <tr>\n",
       "      <th>7</th>\n",
       "      <td>8</td>\n",
       "      <td>2.828427</td>\n",
       "      <td>8.363392e-17</td>\n",
       "    </tr>\n",
       "    <tr>\n",
       "      <th>8</th>\n",
       "      <td>9</td>\n",
       "      <td>3.000000</td>\n",
       "      <td>3.758406e-20</td>\n",
       "    </tr>\n",
       "    <tr>\n",
       "      <th>9</th>\n",
       "      <td>10</td>\n",
       "      <td>3.162278</td>\n",
       "      <td>3.796369e-24</td>\n",
       "    </tr>\n",
       "  </tbody>\n",
       "</table>\n",
       "</div>"
      ],
      "text/plain": [
       "    x  Euclidean_Distance    Probablity\n",
       "0   1            1.000000  9.214765e-02\n",
       "1   2            1.414214  3.800387e-03\n",
       "2   3            1.732051  8.247703e-05\n",
       "3   4            2.000000  1.026772e-06\n",
       "4   5            2.236068  7.505338e-09\n",
       "5   6            2.449490  3.171627e-11\n",
       "6   7            2.645751  7.344917e-14\n",
       "7   8            2.828427  8.363392e-17\n",
       "8   9            3.000000  3.758406e-20\n",
       "9  10            3.162278  3.796369e-24"
      ]
     },
     "execution_count": 26,
     "metadata": {},
     "output_type": "execute_result"
    }
   ],
   "source": [
    "Ada_Cathy = pd.DataFrame({'x':[x for x in range(1,11)],\n",
    "                          'Euclidean_Distance':[np.sqrt(x) for x in range(1,11)],\n",
    "                          'Probablity':[Euclidean_Ada_Cathy(x) for x in range(1,11)]})\n",
    "Ada_Cathy"
   ]
  },
  {
   "cell_type": "code",
   "execution_count": 42,
   "metadata": {},
   "outputs": [
    {
     "data": {
      "text/plain": [
       "1    0.0038\n",
       "Name: Probablity, dtype: float64"
      ]
     },
     "execution_count": 42,
     "metadata": {},
     "output_type": "execute_result"
    }
   ],
   "source": [
    "Ada_Cathy.Probablity[Ada_Cathy.x == 2]"
   ]
  },
  {
   "cell_type": "code",
   "execution_count": 47,
   "metadata": {},
   "outputs": [
    {
     "data": {
      "text/plain": [
       "array([0.00380039])"
      ]
     },
     "execution_count": 47,
     "metadata": {},
     "output_type": "execute_result"
    }
   ],
   "source": [
    "t = 0\n",
    "t = t + np.unwrap(Ada_Cathy.Probablity[Ada_Cathy.x == 2])\n",
    "t"
   ]
  },
  {
   "cell_type": "code",
   "execution_count": 50,
   "metadata": {},
   "outputs": [],
   "source": [
    "prob = 0\n",
    "for x in range(3,10):\n",
    "    AddCathy_probsum = 0\n",
    "    for y in range(x+1,11):\n",
    "        AddCathy_probsum += np.unwrap(Ada_Cathy.Probablity[Ada_Cathy.x == y])\n",
    "    prob += np.unwrap(Ada_Bob.Probablity[Ada_Bob.x == x])*AddCathy_probsum"
   ]
  },
  {
   "cell_type": "code",
   "execution_count": 51,
   "metadata": {},
   "outputs": [
    {
     "data": {
      "text/plain": [
       "array([9.8474368e-07])"
      ]
     },
     "execution_count": 51,
     "metadata": {},
     "output_type": "execute_result"
    }
   ],
   "source": [
    "prob"
   ]
  },
  {
   "cell_type": "code",
   "execution_count": 55,
   "metadata": {},
   "outputs": [
    {
     "data": {
      "text/html": [
       "<div>\n",
       "<style scoped>\n",
       "    .dataframe tbody tr th:only-of-type {\n",
       "        vertical-align: middle;\n",
       "    }\n",
       "\n",
       "    .dataframe tbody tr th {\n",
       "        vertical-align: top;\n",
       "    }\n",
       "\n",
       "    .dataframe thead th {\n",
       "        text-align: right;\n",
       "    }\n",
       "</style>\n",
       "<table border=\"1\" class=\"dataframe\">\n",
       "  <thead>\n",
       "    <tr style=\"text-align: right;\">\n",
       "      <th></th>\n",
       "      <th>x</th>\n",
       "      <th>Euclidean_Distance</th>\n",
       "      <th>Jaccard_Distance</th>\n",
       "      <th>Probablity</th>\n",
       "    </tr>\n",
       "  </thead>\n",
       "  <tbody>\n",
       "    <tr>\n",
       "      <th>0</th>\n",
       "      <td>3</td>\n",
       "      <td>1.732051</td>\n",
       "      <td>0.176471</td>\n",
       "      <td>9.517334e-01</td>\n",
       "    </tr>\n",
       "    <tr>\n",
       "      <th>1</th>\n",
       "      <td>4</td>\n",
       "      <td>2.000000</td>\n",
       "      <td>0.250000</td>\n",
       "      <td>4.739323e-02</td>\n",
       "    </tr>\n",
       "    <tr>\n",
       "      <th>2</th>\n",
       "      <td>5</td>\n",
       "      <td>2.236068</td>\n",
       "      <td>0.333333</td>\n",
       "      <td>8.660691e-04</td>\n",
       "    </tr>\n",
       "    <tr>\n",
       "      <th>3</th>\n",
       "      <td>6</td>\n",
       "      <td>2.449490</td>\n",
       "      <td>0.428571</td>\n",
       "      <td>7.319719e-06</td>\n",
       "    </tr>\n",
       "    <tr>\n",
       "      <th>4</th>\n",
       "      <td>7</td>\n",
       "      <td>2.645751</td>\n",
       "      <td>0.538462</td>\n",
       "      <td>2.966451e-08</td>\n",
       "    </tr>\n",
       "    <tr>\n",
       "      <th>5</th>\n",
       "      <td>8</td>\n",
       "      <td>2.828427</td>\n",
       "      <td>0.666667</td>\n",
       "      <td>5.404466e-11</td>\n",
       "    </tr>\n",
       "    <tr>\n",
       "      <th>6</th>\n",
       "      <td>9</td>\n",
       "      <td>3.000000</td>\n",
       "      <td>0.818182</td>\n",
       "      <td>3.643051e-14</td>\n",
       "    </tr>\n",
       "    <tr>\n",
       "      <th>7</th>\n",
       "      <td>10</td>\n",
       "      <td>3.162278</td>\n",
       "      <td>1.000000</td>\n",
       "      <td>5.256928e-18</td>\n",
       "    </tr>\n",
       "  </tbody>\n",
       "</table>\n",
       "</div>"
      ],
      "text/plain": [
       "    x  Euclidean_Distance  Jaccard_Distance    Probablity\n",
       "0   3            1.732051          0.176471  9.517334e-01\n",
       "1   4            2.000000          0.250000  4.739323e-02\n",
       "2   5            2.236068          0.333333  8.660691e-04\n",
       "3   6            2.449490          0.428571  7.319719e-06\n",
       "4   7            2.645751          0.538462  2.966451e-08\n",
       "5   8            2.828427          0.666667  5.404466e-11\n",
       "6   9            3.000000          0.818182  3.643051e-14\n",
       "7  10            3.162278          1.000000  5.256928e-18"
      ]
     },
     "execution_count": 55,
     "metadata": {},
     "output_type": "execute_result"
    }
   ],
   "source": [
    "Ada_Bob = pd.DataFrame({'x':[x for x in range(3,11)],\n",
    "                        'Euclidean_Distance':[np.sqrt(x) for x in range(3,11)],\n",
    "                        'Jaccard_Distance':[x/(20-x) for x in range(3,11)],\n",
    "                        'Probablity':[Euclidean_Ada_Bob(x) for x in range(3,11)]})\n",
    "Ada_Bob"
   ]
  },
  {
   "cell_type": "code",
   "execution_count": 53,
   "metadata": {},
   "outputs": [
    {
     "data": {
      "text/html": [
       "<div>\n",
       "<style scoped>\n",
       "    .dataframe tbody tr th:only-of-type {\n",
       "        vertical-align: middle;\n",
       "    }\n",
       "\n",
       "    .dataframe tbody tr th {\n",
       "        vertical-align: top;\n",
       "    }\n",
       "\n",
       "    .dataframe thead th {\n",
       "        text-align: right;\n",
       "    }\n",
       "</style>\n",
       "<table border=\"1\" class=\"dataframe\">\n",
       "  <thead>\n",
       "    <tr style=\"text-align: right;\">\n",
       "      <th></th>\n",
       "      <th>x</th>\n",
       "      <th>Euclidean_Distance</th>\n",
       "      <th>Jaccard_Distance</th>\n",
       "      <th>Probablity</th>\n",
       "    </tr>\n",
       "  </thead>\n",
       "  <tbody>\n",
       "    <tr>\n",
       "      <th>0</th>\n",
       "      <td>1</td>\n",
       "      <td>1.000000</td>\n",
       "      <td>0.052632</td>\n",
       "      <td>9.214765e-02</td>\n",
       "    </tr>\n",
       "    <tr>\n",
       "      <th>1</th>\n",
       "      <td>2</td>\n",
       "      <td>1.414214</td>\n",
       "      <td>0.111111</td>\n",
       "      <td>3.800387e-03</td>\n",
       "    </tr>\n",
       "    <tr>\n",
       "      <th>2</th>\n",
       "      <td>3</td>\n",
       "      <td>1.732051</td>\n",
       "      <td>0.176471</td>\n",
       "      <td>8.247703e-05</td>\n",
       "    </tr>\n",
       "    <tr>\n",
       "      <th>3</th>\n",
       "      <td>4</td>\n",
       "      <td>2.000000</td>\n",
       "      <td>0.250000</td>\n",
       "      <td>1.026772e-06</td>\n",
       "    </tr>\n",
       "    <tr>\n",
       "      <th>4</th>\n",
       "      <td>5</td>\n",
       "      <td>2.236068</td>\n",
       "      <td>0.333333</td>\n",
       "      <td>7.505338e-09</td>\n",
       "    </tr>\n",
       "    <tr>\n",
       "      <th>5</th>\n",
       "      <td>6</td>\n",
       "      <td>2.449490</td>\n",
       "      <td>0.428571</td>\n",
       "      <td>3.171627e-11</td>\n",
       "    </tr>\n",
       "    <tr>\n",
       "      <th>6</th>\n",
       "      <td>7</td>\n",
       "      <td>2.645751</td>\n",
       "      <td>0.538462</td>\n",
       "      <td>7.344917e-14</td>\n",
       "    </tr>\n",
       "    <tr>\n",
       "      <th>7</th>\n",
       "      <td>8</td>\n",
       "      <td>2.828427</td>\n",
       "      <td>0.666667</td>\n",
       "      <td>8.363392e-17</td>\n",
       "    </tr>\n",
       "    <tr>\n",
       "      <th>8</th>\n",
       "      <td>9</td>\n",
       "      <td>3.000000</td>\n",
       "      <td>0.818182</td>\n",
       "      <td>3.758406e-20</td>\n",
       "    </tr>\n",
       "    <tr>\n",
       "      <th>9</th>\n",
       "      <td>10</td>\n",
       "      <td>3.162278</td>\n",
       "      <td>1.000000</td>\n",
       "      <td>3.796369e-24</td>\n",
       "    </tr>\n",
       "  </tbody>\n",
       "</table>\n",
       "</div>"
      ],
      "text/plain": [
       "    x  Euclidean_Distance  Jaccard_Distance    Probablity\n",
       "0   1            1.000000          0.052632  9.214765e-02\n",
       "1   2            1.414214          0.111111  3.800387e-03\n",
       "2   3            1.732051          0.176471  8.247703e-05\n",
       "3   4            2.000000          0.250000  1.026772e-06\n",
       "4   5            2.236068          0.333333  7.505338e-09\n",
       "5   6            2.449490          0.428571  3.171627e-11\n",
       "6   7            2.645751          0.538462  7.344917e-14\n",
       "7   8            2.828427          0.666667  8.363392e-17\n",
       "8   9            3.000000          0.818182  3.758406e-20\n",
       "9  10            3.162278          1.000000  3.796369e-24"
      ]
     },
     "execution_count": 53,
     "metadata": {},
     "output_type": "execute_result"
    }
   ],
   "source": [
    "Ada_Cathy = pd.DataFrame({'x':[x for x in range(1,11)],\n",
    "                          'Euclidean_Distance':[np.sqrt(x) for x in range(1,11)],\n",
    "                          'Jaccard_Distance':[x/(20-x) for x in range(1,11)],\n",
    "                          'Probablity':[Euclidean_Ada_Cathy(x) for x in range(1,11)]})\n",
    "Ada_Cathy"
   ]
  },
  {
   "cell_type": "code",
   "execution_count": 56,
   "metadata": {},
   "outputs": [
    {
     "data": {
      "text/plain": [
       "array([0.09595202])"
      ]
     },
     "execution_count": 56,
     "metadata": {},
     "output_type": "execute_result"
    }
   ],
   "source": [
    "prob = 0\n",
    "for x in range(3,11):\n",
    "    AddCathy_probsum = 0\n",
    "    for y in range(1,x):\n",
    "        AddCathy_probsum += np.unwrap(Ada_Cathy.Probablity[Ada_Cathy.x == y])\n",
    "    prob += np.unwrap(Ada_Bob.Probablity[Ada_Bob.x == x])*AddCathy_probsum\n",
    "prob"
   ]
  },
  {
   "cell_type": "code",
   "execution_count": null,
   "metadata": {},
   "outputs": [],
   "source": []
  }
 ],
 "metadata": {
  "kernelspec": {
   "display_name": "Python 3",
   "language": "python",
   "name": "python3"
  },
  "language_info": {
   "codemirror_mode": {
    "name": "ipython",
    "version": 3
   },
   "file_extension": ".py",
   "mimetype": "text/x-python",
   "name": "python",
   "nbconvert_exporter": "python",
   "pygments_lexer": "ipython3",
   "version": "3.7.0"
  }
 },
 "nbformat": 4,
 "nbformat_minor": 2
}
