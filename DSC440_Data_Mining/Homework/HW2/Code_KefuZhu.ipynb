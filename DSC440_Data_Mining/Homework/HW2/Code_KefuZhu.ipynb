{
 "cells": [
  {
   "cell_type": "code",
   "execution_count": 1,
   "metadata": {},
   "outputs": [],
   "source": [
    "import numpy as np"
   ]
  },
  {
   "cell_type": "markdown",
   "metadata": {},
   "source": [
    "## 3.13 (a)"
   ]
  },
  {
   "cell_type": "code",
   "execution_count": 2,
   "metadata": {},
   "outputs": [],
   "source": [
    "A = np.random.randint(low=1, high=50, size=20)\n",
    "B = np.random.randint(low=1, high=50, size=20)\n",
    "C = np.random.randint(low=1, high=50, size=20)"
   ]
  },
  {
   "cell_type": "code",
   "execution_count": 3,
   "metadata": {},
   "outputs": [],
   "source": [
    "A_unique = []\n",
    "B_unique = []\n",
    "C_unique = []\n",
    "\n",
    "for a in A:\n",
    "    if a not in A_unique:\n",
    "        A_unique.append(a)\n",
    "\n",
    "for b in B:\n",
    "    if b not in B_unique:\n",
    "        B_unique.append(b)\n",
    "        \n",
    "for c in C:\n",
    "    if c not in C_unique:\n",
    "        C_unique.append(c)"
   ]
  },
  {
   "cell_type": "code",
   "execution_count": 4,
   "metadata": {},
   "outputs": [
    {
     "data": {
      "text/plain": [
       "[10, 13, 8, 14, 20, 3, 21, 2, 25, 34, 22, 38, 45, 4, 44, 17, 19]"
      ]
     },
     "execution_count": 4,
     "metadata": {},
     "output_type": "execute_result"
    }
   ],
   "source": [
    "A_unique"
   ]
  },
  {
   "cell_type": "code",
   "execution_count": 5,
   "metadata": {},
   "outputs": [
    {
     "data": {
      "text/plain": [
       "[10, 11, 26, 29, 34, 24, 6, 12, 45, 13, 23, 4, 30, 22, 17]"
      ]
     },
     "execution_count": 5,
     "metadata": {},
     "output_type": "execute_result"
    }
   ],
   "source": [
    "B_unique"
   ]
  },
  {
   "cell_type": "code",
   "execution_count": 6,
   "metadata": {},
   "outputs": [
    {
     "data": {
      "text/plain": [
       "[43, 27, 1, 33, 26, 15, 19, 30, 9, 28, 31, 12, 49, 45, 18, 22, 29, 10]"
      ]
     },
     "execution_count": 6,
     "metadata": {},
     "output_type": "execute_result"
    }
   ],
   "source": [
    "C_unique"
   ]
  },
  {
   "cell_type": "code",
   "execution_count": 7,
   "metadata": {},
   "outputs": [],
   "source": [
    "concept_hierarchy = {'A': len(A_unique), 'B':len(B_unique), 'C':len(C_unique)}"
   ]
  },
  {
   "cell_type": "code",
   "execution_count": 8,
   "metadata": {},
   "outputs": [
    {
     "data": {
      "text/plain": [
       "[('B', 15), ('A', 17), ('C', 18)]"
      ]
     },
     "execution_count": 8,
     "metadata": {},
     "output_type": "execute_result"
    }
   ],
   "source": [
    "sorted(concept_hierarchy.items(), key = lambda x : x[1])"
   ]
  },
  {
   "cell_type": "markdown",
   "metadata": {},
   "source": [
    "## 3.13 (b)"
   ]
  },
  {
   "cell_type": "code",
   "execution_count": 9,
   "metadata": {},
   "outputs": [],
   "source": [
    "age_data = np.random.randint(low=1, high=50, size=34)\n",
    "salary_data = np.random.randint(low=0, high=100, size=34)"
   ]
  },
  {
   "cell_type": "code",
   "execution_count": 10,
   "metadata": {},
   "outputs": [],
   "source": [
    "# User defined parameters\n",
    "width_1 = 10\n",
    "width_2 = 20\n",
    "_min_1 = 0\n",
    "_max_1 = 50\n",
    "_min_2 = 0\n",
    "_max_2 = 100\n",
    "\n",
    "level_1 = int((_max_1 - _min_1)/width_1)\n",
    "level_2 = int((_max_2 - _min_2)/width_2)\n",
    "concept_hierarchy = {}\n",
    "\n",
    "for i in range(1,level_1+1):\n",
    "    concept_hierarchy[i] = {'Current':[]}\n",
    "    for j in range(1, level_2+1):\n",
    "        concept_hierarchy[i][j] = {'Current':[]}\n",
    "    \n",
    "cur_min_1 = _min_1\n",
    "cur_max_1 = cur_min_1 + width_1\n",
    "    \n",
    "for i in range(1,level_1+1):\n",
    "    for age in age_data:\n",
    "        if age >= cur_min_1 and age < cur_max_1:\n",
    "            if concept_hierarchy[i]:\n",
    "                concept_hierarchy[i]['Current'].append(age)\n",
    "            else:\n",
    "                concept_hierarchy[i]['Current'] = [age]\n",
    "        else:\n",
    "            pass\n",
    "    cur_min_1 = cur_max_1\n",
    "    cur_max_1 = cur_min_1 + width_1\n",
    "    \n",
    "for i in range(1,level_1+1):\n",
    "    # Reset min and max for level in hierarchy-2\n",
    "    cur_min_2 = _min_2\n",
    "    cur_max_2 = cur_min_2 + width_2\n",
    "    # Obtain data points in current level in hierarchy-1\n",
    "    curr_data_position = [x in concept_hierarchy[i]['Current'] for x in age_data]\n",
    "    salary_data_sub = salary_data[curr_data_position]\n",
    "    \n",
    "    for j in range(1, level_2+1):\n",
    "        for salary in salary_data_sub:\n",
    "            if salary >= cur_min_2 and salary < cur_max_2:\n",
    "                if concept_hierarchy[i][j]:\n",
    "                    concept_hierarchy[i][j]['Current'].append(salary)\n",
    "                else:\n",
    "                    concept_hierarchy[i][j]['Current'] = [salary]\n",
    "            else:\n",
    "                pass\n",
    "        cur_min_2 = cur_max_2\n",
    "        cur_max_2 = cur_min_2 + width_2"
   ]
  },
  {
   "cell_type": "code",
   "execution_count": 11,
   "metadata": {},
   "outputs": [
    {
     "data": {
      "text/plain": [
       "array([17,  1, 32,  9, 14,  4,  2, 49, 14, 34,  1, 12,  2, 23, 24, 12, 38,\n",
       "       19, 40, 43, 47, 35,  1, 43, 34,  1, 45, 24, 11, 49, 35, 22, 24, 35])"
      ]
     },
     "execution_count": 11,
     "metadata": {},
     "output_type": "execute_result"
    }
   ],
   "source": [
    "age_data"
   ]
  },
  {
   "cell_type": "code",
   "execution_count": 12,
   "metadata": {},
   "outputs": [
    {
     "data": {
      "text/plain": [
       "array([55, 33, 55,  7, 81, 59, 63, 83, 17, 42, 60, 16, 77, 44, 35, 92, 50,\n",
       "       64, 91, 88, 86, 22, 20, 79, 74,  6, 29, 50, 24,  8,  1, 76, 69, 36])"
      ]
     },
     "execution_count": 12,
     "metadata": {},
     "output_type": "execute_result"
    }
   ],
   "source": [
    "salary_data"
   ]
  },
  {
   "cell_type": "code",
   "execution_count": 13,
   "metadata": {},
   "outputs": [
    {
     "data": {
      "text/plain": [
       "{1: {'Current': [1, 9, 4, 2, 1, 2, 1, 1],\n",
       "  1: {'Current': [7, 6]},\n",
       "  2: {'Current': [33, 20]},\n",
       "  3: {'Current': [59]},\n",
       "  4: {'Current': [63, 60, 77]},\n",
       "  5: {'Current': []}},\n",
       " 2: {'Current': [17, 14, 14, 12, 12, 19, 11],\n",
       "  1: {'Current': [17, 16]},\n",
       "  2: {'Current': [24]},\n",
       "  3: {'Current': [55]},\n",
       "  4: {'Current': [64]},\n",
       "  5: {'Current': [81, 92]}},\n",
       " 3: {'Current': [23, 24, 24, 22, 24],\n",
       "  1: {'Current': []},\n",
       "  2: {'Current': [35]},\n",
       "  3: {'Current': [44, 50]},\n",
       "  4: {'Current': [76, 69]},\n",
       "  5: {'Current': []}},\n",
       " 4: {'Current': [32, 34, 38, 35, 34, 35, 35],\n",
       "  1: {'Current': [1]},\n",
       "  2: {'Current': [22, 36]},\n",
       "  3: {'Current': [55, 42, 50]},\n",
       "  4: {'Current': [74]},\n",
       "  5: {'Current': []}},\n",
       " 5: {'Current': [49, 40, 43, 47, 43, 45, 49],\n",
       "  1: {'Current': [8]},\n",
       "  2: {'Current': [29]},\n",
       "  3: {'Current': []},\n",
       "  4: {'Current': [79]},\n",
       "  5: {'Current': [83, 91, 88, 86]}}}"
      ]
     },
     "execution_count": 13,
     "metadata": {},
     "output_type": "execute_result"
    }
   ],
   "source": [
    "concept_hierarchy"
   ]
  },
  {
   "cell_type": "code",
   "execution_count": null,
   "metadata": {},
   "outputs": [],
   "source": []
  }
 ],
 "metadata": {
  "kernelspec": {
   "display_name": "Python 3",
   "language": "python",
   "name": "python3"
  },
  "language_info": {
   "codemirror_mode": {
    "name": "ipython",
    "version": 3
   },
   "file_extension": ".py",
   "mimetype": "text/x-python",
   "name": "python",
   "nbconvert_exporter": "python",
   "pygments_lexer": "ipython3",
   "version": "3.7.0"
  }
 },
 "nbformat": 4,
 "nbformat_minor": 2
}
