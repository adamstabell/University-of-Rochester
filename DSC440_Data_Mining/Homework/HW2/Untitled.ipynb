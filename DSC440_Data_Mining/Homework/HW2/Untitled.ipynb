{
 "cells": [
  {
   "cell_type": "code",
   "execution_count": 302,
   "metadata": {},
   "outputs": [],
   "source": [
    "import numpy as np\n",
    "import scipy.stats as ss\n",
    "import seaborn as sns\n",
    "import matplotlib.pyplot as plt\n",
    "import random\n",
    "import pandas as pd"
   ]
  },
  {
   "cell_type": "code",
   "execution_count": 303,
   "metadata": {},
   "outputs": [],
   "source": [
    "def Euclidean(x,y):\n",
    "    return np.sqrt(np.sum([(a - b) ** 2 for a, b in zip(x, y)]))"
   ]
  },
  {
   "cell_type": "code",
   "execution_count": 304,
   "metadata": {},
   "outputs": [],
   "source": [
    "def Manhattan(x,y):\n",
    "     return sum(abs(a-b) for a,b in zip(x,y))"
   ]
  },
  {
   "cell_type": "code",
   "execution_count": 311,
   "metadata": {},
   "outputs": [],
   "source": [
    "def supremum(x,y):\n",
    "    return round(max([abs(a-b) for a,b in zip(x,y)]),2)"
   ]
  },
  {
   "cell_type": "code",
   "execution_count": 306,
   "metadata": {},
   "outputs": [],
   "source": [
    "def cosine_similarity(x,y):\n",
    "    numerator = np.dot(x,y)\n",
    "    denominator = (np.sqrt(np.sum([a ** 2 for a in x])))*(np.sqrt(np.sum([b ** 2 for b in y])))\n",
    "    return numerator/denominator"
   ]
  },
  {
   "cell_type": "code",
   "execution_count": 307,
   "metadata": {},
   "outputs": [],
   "source": [
    "def normalize(x):\n",
    "    return [round(a/sum(x),4) for a in x]"
   ]
  },
  {
   "cell_type": "code",
   "execution_count": 308,
   "metadata": {},
   "outputs": [],
   "source": [
    "data_list = [(1.5,1.7),(2,1.9),(1.6,1.8),(1.2,1.5),(1.5,1.0)]\n",
    "x = (1.4,1.6)"
   ]
  },
  {
   "cell_type": "code",
   "execution_count": 314,
   "metadata": {},
   "outputs": [
    {
     "data": {
      "text/plain": [
       "[0.999991391443956,\n",
       " 0.9957522612528874,\n",
       " 0.9999694838187877,\n",
       " 0.9990282349375618,\n",
       " 0.9653633930282662]"
      ]
     },
     "execution_count": 314,
     "metadata": {},
     "output_type": "execute_result"
    }
   ],
   "source": [
    "[cosine_similarity(x, y) for y in data_list]"
   ]
  },
  {
   "cell_type": "code",
   "execution_count": 21,
   "metadata": {},
   "outputs": [
    {
     "data": {
      "text/plain": [
       "array([1., 5., 3., 2., 4.])"
      ]
     },
     "execution_count": 21,
     "metadata": {},
     "output_type": "execute_result"
    }
   ],
   "source": [
    "ss.rankdata([Euclidean(x, y) for y in data_list])"
   ]
  },
  {
   "cell_type": "code",
   "execution_count": 23,
   "metadata": {},
   "outputs": [
    {
     "data": {
      "text/plain": [
       "array([1., 5., 3., 2., 4.])"
      ]
     },
     "execution_count": 23,
     "metadata": {},
     "output_type": "execute_result"
    }
   ],
   "source": [
    "ss.rankdata([Manhattan(x, y) for y in data_list])"
   ]
  },
  {
   "cell_type": "code",
   "execution_count": 313,
   "metadata": {},
   "outputs": [
    {
     "data": {
      "text/plain": [
       "array([1. , 4.5, 2.5, 2.5, 4.5])"
      ]
     },
     "execution_count": 313,
     "metadata": {},
     "output_type": "execute_result"
    }
   ],
   "source": [
    "ss.rankdata([supremum(x, y) for y in data_list])"
   ]
  },
  {
   "cell_type": "code",
   "execution_count": 315,
   "metadata": {
    "scrolled": true
   },
   "outputs": [
    {
     "data": {
      "text/plain": [
       "array([5., 2., 4., 3., 1.])"
      ]
     },
     "execution_count": 315,
     "metadata": {},
     "output_type": "execute_result"
    }
   ],
   "source": [
    "ss.rankdata([cosine_similarity(x, y) for y in data_list])"
   ]
  },
  {
   "cell_type": "code",
   "execution_count": 51,
   "metadata": {},
   "outputs": [],
   "source": [
    "norm_data_list = [normalize(data) for data in data_list]\n",
    "norm_x = normalize(x)"
   ]
  },
  {
   "cell_type": "code",
   "execution_count": 53,
   "metadata": {},
   "outputs": [
    {
     "data": {
      "text/plain": [
       "array([1., 4., 2., 3., 5.])"
      ]
     },
     "execution_count": 53,
     "metadata": {},
     "output_type": "execute_result"
    }
   ],
   "source": [
    "ss.rankdata([Euclidean(norm_x, y) for y in norm_data_list])"
   ]
  },
  {
   "cell_type": "code",
   "execution_count": 54,
   "metadata": {},
   "outputs": [
    {
     "data": {
      "text/plain": [
       "[0.4667, 0.5333]"
      ]
     },
     "execution_count": 54,
     "metadata": {},
     "output_type": "execute_result"
    }
   ],
   "source": [
    "norm_x"
   ]
  },
  {
   "cell_type": "code",
   "execution_count": 58,
   "metadata": {},
   "outputs": [],
   "source": [
    "num_list = [13, 15, 16, 16, 19, 20, 20, 21, 22, 22, 25, 25, 25, 25, \n",
    "            30, 33, 33, 35, 35, 35, 35, 36, 40, 45, 46, 52, 70]"
   ]
  },
  {
   "cell_type": "code",
   "execution_count": 59,
   "metadata": {},
   "outputs": [],
   "source": [
    "def min_max_norm(x, num_list, new_min, new_max):\n",
    "    orig_min = min(num_list)\n",
    "    orig_max = max(num_list)\n",
    "    \n",
    "    return ((x - orig_min)/(orig_max - orig_min))*(new_max - new_min) + new_min"
   ]
  },
  {
   "cell_type": "code",
   "execution_count": 64,
   "metadata": {},
   "outputs": [],
   "source": [
    "def z_score_norm(x, num_list, sd):\n",
    "    return (x - np.mean(num_list))/sd"
   ]
  },
  {
   "cell_type": "code",
   "execution_count": 316,
   "metadata": {},
   "outputs": [
    {
     "data": {
      "text/plain": [
       "0.38596491228070173"
      ]
     },
     "execution_count": 316,
     "metadata": {},
     "output_type": "execute_result"
    }
   ],
   "source": [
    "min_max_norm(35, num_list = num_list, new_min = 0, new_max = 1)"
   ]
  },
  {
   "cell_type": "code",
   "execution_count": 317,
   "metadata": {},
   "outputs": [
    {
     "data": {
      "text/plain": [
       "0.38926097658709724"
      ]
     },
     "execution_count": 317,
     "metadata": {},
     "output_type": "execute_result"
    }
   ],
   "source": [
    "z_score_norm(35, num_list = num_list, sd = 12.94)"
   ]
  },
  {
   "cell_type": "code",
   "execution_count": 82,
   "metadata": {},
   "outputs": [
    {
     "data": {
      "text/plain": [
       "(array([5, 9, 8, 3, 1, 1]), array([10, 20, 30, 40, 50, 60, 70]))"
      ]
     },
     "execution_count": 82,
     "metadata": {},
     "output_type": "execute_result"
    }
   ],
   "source": [
    "np.histogram(num_list, bins = np.arange(10,80,10))"
   ]
  },
  {
   "cell_type": "code",
   "execution_count": 91,
   "metadata": {},
   "outputs": [
    {
     "data": {
      "text/plain": [
       "(array([5., 9., 8., 3., 1., 1.]),\n",
       " array([10, 20, 30, 40, 50, 60, 70]),\n",
       " <a list of 6 Patch objects>)"
      ]
     },
     "execution_count": 91,
     "metadata": {},
     "output_type": "execute_result"
    },
    {
     "data": {
      "image/png": "[encoded data removed]",
      "text/plain": [
       "<Figure size 432x288 with 1 Axes>"
      ]
     },
     "metadata": {},
     "output_type": "display_data"
    }
   ],
   "source": [
    "plt.hist(num_list, bins = np.arange(10,80,10), label = 'Equal-width Histogram')"
   ]
  },
  {
   "cell_type": "code",
   "execution_count": 96,
   "metadata": {},
   "outputs": [
    {
     "data": {
      "text/plain": [
       "array([40, 16, 35, 25, 20])"
      ]
     },
     "execution_count": 96,
     "metadata": {},
     "output_type": "execute_result"
    }
   ],
   "source": [
    "np.random.choice(num_list, size = 5, replace = False)"
   ]
  },
  {
   "cell_type": "code",
   "execution_count": 98,
   "metadata": {},
   "outputs": [
    {
     "data": {
      "text/plain": [
       "array([22, 16, 40, 16, 30])"
      ]
     },
     "execution_count": 98,
     "metadata": {},
     "output_type": "execute_result"
    }
   ],
   "source": [
    "np.random.choice(num_list, size = 5, replace = True)"
   ]
  },
  {
   "cell_type": "markdown",
   "metadata": {},
   "source": [
    "## 3.13 (a)"
   ]
  },
  {
   "cell_type": "code",
   "execution_count": 236,
   "metadata": {},
   "outputs": [],
   "source": [
    "A = np.random.randint(low=1, high=50, size=20)\n",
    "B = np.random.randint(low=1, high=50, size=20)\n",
    "C = np.random.randint(low=1, high=50, size=20)"
   ]
  },
  {
   "cell_type": "code",
   "execution_count": 237,
   "metadata": {},
   "outputs": [],
   "source": [
    "A_unique = []\n",
    "B_unique = []\n",
    "C_unique = []\n",
    "\n",
    "for a in A:\n",
    "    if a not in A_unique:\n",
    "        A_unique.append(a)\n",
    "\n",
    "for b in B:\n",
    "    if b not in B_unique:\n",
    "        B_unique.append(b)\n",
    "        \n",
    "for c in C:\n",
    "    if c not in C_unique:\n",
    "        C_unique.append(c)"
   ]
  },
  {
   "cell_type": "code",
   "execution_count": 238,
   "metadata": {},
   "outputs": [
    {
     "data": {
      "text/plain": [
       "[20, 14, 1, 38, 26, 46, 19, 8, 31, 42, 9, 6, 11, 24, 10, 12]"
      ]
     },
     "execution_count": 238,
     "metadata": {},
     "output_type": "execute_result"
    }
   ],
   "source": [
    "A_unique"
   ]
  },
  {
   "cell_type": "code",
   "execution_count": 239,
   "metadata": {},
   "outputs": [
    {
     "data": {
      "text/plain": [
       "[9, 4, 27, 42, 1, 16, 10, 33, 20, 28, 36, 38, 26, 17, 18]"
      ]
     },
     "execution_count": 239,
     "metadata": {},
     "output_type": "execute_result"
    }
   ],
   "source": [
    "B_unique"
   ]
  },
  {
   "cell_type": "code",
   "execution_count": 240,
   "metadata": {},
   "outputs": [
    {
     "data": {
      "text/plain": [
       "[5, 48, 43, 41, 21, 10, 38, 30, 44, 23, 26, 31, 8, 32, 42, 22, 47, 14]"
      ]
     },
     "execution_count": 240,
     "metadata": {},
     "output_type": "execute_result"
    }
   ],
   "source": [
    "C_unique"
   ]
  },
  {
   "cell_type": "code",
   "execution_count": 242,
   "metadata": {},
   "outputs": [],
   "source": [
    "concept_hierarchy = {'A': len(A_unique), 'B':len(B_unique), 'C':len(C_unique)}"
   ]
  },
  {
   "cell_type": "code",
   "execution_count": 244,
   "metadata": {},
   "outputs": [
    {
     "data": {
      "text/plain": [
       "[('B', 15), ('A', 16), ('C', 18)]"
      ]
     },
     "execution_count": 244,
     "metadata": {},
     "output_type": "execute_result"
    }
   ],
   "source": [
    "sorted(concept_hierarchy.items(), key = lambda x : x[1])"
   ]
  },
  {
   "cell_type": "markdown",
   "metadata": {},
   "source": [
    "## 3.13 (b)"
   ]
  },
  {
   "cell_type": "code",
   "execution_count": 294,
   "metadata": {},
   "outputs": [],
   "source": [
    "age_data = np.random.randint(low=1, high=50, size=34)\n",
    "salary_data = np.random.randint(low=0, high=100, size=34)"
   ]
  },
  {
   "cell_type": "code",
   "execution_count": 295,
   "metadata": {},
   "outputs": [],
   "source": [
    "# 3.13 - b\n",
    "width_1 = 10\n",
    "width_2 = 20\n",
    "_min_1 = 0\n",
    "_max_1 = 50\n",
    "_min_2 = 0\n",
    "_max_2 = 100\n",
    "\n",
    "level_1 = int((_max_1 - _min_1)/width_1)\n",
    "level_2 = int((_max_2 - _min_2)/width_2)\n",
    "concept_hierarchy = {}\n",
    "\n",
    "for i in range(1,level_1+1):\n",
    "    concept_hierarchy[i] = {'Current':[]}\n",
    "    for j in range(1, level_2+1):\n",
    "        concept_hierarchy[i][j] = {'Current':[]}\n",
    "    \n",
    "cur_min_1 = _min_1\n",
    "cur_max_1 = cur_min_1 + width_1\n",
    "    \n",
    "for i in range(1,level_1+1):\n",
    "    for age in age_data:\n",
    "        if age >= cur_min_1 and age < cur_max_1:\n",
    "            if concept_hierarchy[i]:\n",
    "                concept_hierarchy[i]['Current'].append(age)\n",
    "            else:\n",
    "                concept_hierarchy[i]['Current'] = [age]\n",
    "        else:\n",
    "            pass\n",
    "    cur_min_1 = cur_max_1\n",
    "    cur_max_1 = cur_min_1 + width_1\n",
    "    \n",
    "for i in range(1,level_1+1):\n",
    "    # Reset min and max for level in hierarchy-2\n",
    "    cur_min_2 = _min_2\n",
    "    cur_max_2 = cur_min_2 + width_2\n",
    "    # Obtain data points in current level in hierarchy-1\n",
    "    curr_data_position = [x in concept_hierarchy[i]['Current'] for x in age_data]\n",
    "    salary_data_sub = salary_data[curr_data_position]\n",
    "    \n",
    "    for j in range(1, level_2+1):\n",
    "        for salary in salary_data_sub:\n",
    "            if salary >= cur_min_2 and salary < cur_max_2:\n",
    "                if concept_hierarchy[i][j]:\n",
    "                    concept_hierarchy[i][j]['Current'].append(salary)\n",
    "                else:\n",
    "                    concept_hierarchy[i][j]['Current'] = [salary]\n",
    "            else:\n",
    "                pass\n",
    "        cur_min_2 = cur_max_2\n",
    "        cur_max_2 = cur_min_2 + width_2"
   ]
  },
  {
   "cell_type": "code",
   "execution_count": 296,
   "metadata": {},
   "outputs": [
    {
     "data": {
      "text/plain": [
       "array([ 3, 28, 29, 24,  4, 42, 47, 40, 16, 42,  9,  1, 28,  5, 36, 22, 49,\n",
       "        8, 44, 32, 49, 47, 44, 48,  6, 45, 40, 33, 29, 18, 16, 10, 31, 42])"
      ]
     },
     "execution_count": 296,
     "metadata": {},
     "output_type": "execute_result"
    }
   ],
   "source": [
    "age_data"
   ]
  },
  {
   "cell_type": "code",
   "execution_count": 297,
   "metadata": {},
   "outputs": [
    {
     "data": {
      "text/plain": [
       "array([77, 29, 43, 28, 83, 69, 22, 13, 22, 47, 50, 29,  7, 84, 59, 41, 41,\n",
       "       35, 63, 74,  5, 22, 89, 78,  3, 53, 72, 15, 85, 26, 21, 42, 30, 82])"
      ]
     },
     "execution_count": 297,
     "metadata": {},
     "output_type": "execute_result"
    }
   ],
   "source": [
    "salary_data"
   ]
  },
  {
   "cell_type": "code",
   "execution_count": 298,
   "metadata": {},
   "outputs": [
    {
     "data": {
      "text/plain": [
       "{1: {'Current': [3, 4, 9, 1, 5, 8, 6],\n",
       "  1: {'Current': [3]},\n",
       "  2: {'Current': [29, 35]},\n",
       "  3: {'Current': [50]},\n",
       "  4: {'Current': [77]},\n",
       "  5: {'Current': [83, 84]}},\n",
       " 2: {'Current': [16, 18, 16, 10],\n",
       "  1: {'Current': []},\n",
       "  2: {'Current': [22, 26, 21]},\n",
       "  3: {'Current': [42]},\n",
       "  4: {'Current': []},\n",
       "  5: {'Current': []}},\n",
       " 3: {'Current': [28, 29, 24, 28, 22, 29],\n",
       "  1: {'Current': [7]},\n",
       "  2: {'Current': [29, 28]},\n",
       "  3: {'Current': [43, 41]},\n",
       "  4: {'Current': []},\n",
       "  5: {'Current': [85]}},\n",
       " 4: {'Current': [36, 32, 33, 31],\n",
       "  1: {'Current': [15]},\n",
       "  2: {'Current': [30]},\n",
       "  3: {'Current': [59]},\n",
       "  4: {'Current': [74]},\n",
       "  5: {'Current': []}},\n",
       " 5: {'Current': [42, 47, 40, 42, 49, 44, 49, 47, 44, 48, 45, 40, 42],\n",
       "  1: {'Current': [13, 5]},\n",
       "  2: {'Current': [22, 22]},\n",
       "  3: {'Current': [47, 41, 53]},\n",
       "  4: {'Current': [69, 63, 78, 72]},\n",
       "  5: {'Current': [89, 82]}}}"
      ]
     },
     "execution_count": 298,
     "metadata": {},
     "output_type": "execute_result"
    }
   ],
   "source": [
    "concept_hierarchy"
   ]
  },
  {
   "cell_type": "code",
   "execution_count": null,
   "metadata": {},
   "outputs": [],
   "source": []
  },
  {
   "cell_type": "code",
   "execution_count": null,
   "metadata": {},
   "outputs": [],
   "source": []
  }
 ],
 "metadata": {
  "kernelspec": {
   "display_name": "Python 3",
   "language": "python",
   "name": "python3"
  },
  "language_info": {
   "codemirror_mode": {
    "name": "ipython",
    "version": 3
   },
   "file_extension": ".py",
   "mimetype": "text/x-python",
   "name": "python",
   "nbconvert_exporter": "python",
   "pygments_lexer": "ipython3",
   "version": "3.7.0"
  }
 },
 "nbformat": 4,
 "nbformat_minor": 2
}
