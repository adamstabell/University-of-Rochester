{
 "cells": [
  {
   "cell_type": "code",
   "execution_count": null,
   "metadata": {},
   "outputs": [],
   "source": [
    "# Import library\n",
    "import random"
   ]
  },
  {
   "cell_type": "markdown",
   "metadata": {},
   "source": [
    "# 1. Devise an experiment to verify that the list index operator is O(1)"
   ]
  },
  {
   "cell_type": "code",
   "execution_count": 10,
   "metadata": {},
   "outputs": [],
   "source": [
    "# Create a list of number from 1 to 10\n",
    "nlist1 = list(range(10))\n",
    "nlist2 = list(range(100))\n",
    "nlist3 = list(range(1000))"
   ]
  },
  {
   "cell_type": "code",
   "execution_count": 22,
   "metadata": {},
   "outputs": [
    {
     "name": "stdout",
     "output_type": "stream",
     "text": [
      "76 ns ± 6.61 ns per loop (mean ± std. dev. of 7 runs, 10000000 loops each)\n",
      "73.9 ns ± 2.23 ns per loop (mean ± std. dev. of 7 runs, 10000000 loops each)\n",
      "71.2 ns ± 1.78 ns per loop (mean ± std. dev. of 7 runs, 10000000 loops each)\n"
     ]
    }
   ],
   "source": [
    "# Obtain random index\n",
    "index1 = random.randrange(len(nlist1))\n",
    "index2 = random.randrange(len(nlist2))\n",
    "index3 = random.randrange(len(nlist3))\n",
    "# Time to access element in list by index\n",
    "%timeit nlist1[index1]\n",
    "%timeit nlist2[index2]\n",
    "%timeit nlist3[index3]"
   ]
  },
  {
   "cell_type": "markdown",
   "metadata": {},
   "source": [
    "# 2. Devise an experiment to verify that get item and set item are O(1) for dictionaries"
   ]
  },
  {
   "cell_type": "code",
   "execution_count": 12,
   "metadata": {},
   "outputs": [],
   "source": [
    "d1 = dict(zip([random.random() for i in range(10)],[random.random() for i in range(10)])) \n",
    "d2 = dict(zip([random.random() for i in range(100)],[random.random() for i in range(100)])) \n",
    "d3 = dict(zip([random.random() for i in range(1000)],[random.random() for i in range(1000)])) "
   ]
  },
  {
   "cell_type": "code",
   "execution_count": 20,
   "metadata": {},
   "outputs": [
    {
     "name": "stdout",
     "output_type": "stream",
     "text": [
      "105 ns ± 7.16 ns per loop (mean ± std. dev. of 7 runs, 10000000 loops each)\n",
      "109 ns ± 2.04 ns per loop (mean ± std. dev. of 7 runs, 10000000 loops each)\n",
      "102 ns ± 4.41 ns per loop (mean ± std. dev. of 7 runs, 10000000 loops each)\n"
     ]
    }
   ],
   "source": [
    "# Obtain random keys\n",
    "k1 = list(d1.keys())[random.randrange(len(d1))]\n",
    "k2 = list(d2.keys())[random.randrange(len(d2))]\n",
    "k3 = list(d3.keys())[random.randrange(len(d3))]\n",
    "# Time to retrieve values from dictionaries\n",
    "%timeit d1[k1]\n",
    "%timeit d2[k2]\n",
    "%timeit d3[k3]"
   ]
  },
  {
   "cell_type": "code",
   "execution_count": 21,
   "metadata": {},
   "outputs": [
    {
     "name": "stdout",
     "output_type": "stream",
     "text": [
      "142 ns ± 3.41 ns per loop (mean ± std. dev. of 7 runs, 10000000 loops each)\n",
      "151 ns ± 2.33 ns per loop (mean ± std. dev. of 7 runs, 10000000 loops each)\n",
      "151 ns ± 2.33 ns per loop (mean ± std. dev. of 7 runs, 10000000 loops each)\n"
     ]
    }
   ],
   "source": [
    "# Time to set item in dictionaries\n",
    "%timeit d1[k1] = -999\n",
    "%timeit d2[k2] = -999\n",
    "%timeit d3[k3] = -999"
   ]
  },
  {
   "cell_type": "code",
   "execution_count": null,
   "metadata": {},
   "outputs": [],
   "source": []
  }
 ],
 "metadata": {
  "kernelspec": {
   "display_name": "Python 3",
   "language": "python",
   "name": "python3"
  },
  "language_info": {
   "codemirror_mode": {
    "name": "ipython",
    "version": 3
   },
   "file_extension": ".py",
   "mimetype": "text/x-python",
   "name": "python",
   "nbconvert_exporter": "python",
   "pygments_lexer": "ipython3",
   "version": "3.6.4"
  }
 },
 "nbformat": 4,
 "nbformat_minor": 2
}
