{
 "cells": [
  {
   "cell_type": "code",
   "execution_count": 45,
   "metadata": {},
   "outputs": [],
   "source": [
    "class HashTable:\n",
    "    \n",
    "    def __init__(self, size = 10):\n",
    "        self.size = size\n",
    "        self.slots = [None] * self.size\n",
    "        self.data = [None] * self.size\n",
    "    \n",
    "    def length(self):\n",
    "        counter = 0\n",
    "        \n",
    "        for key in self.slots:\n",
    "            if key != None:\n",
    "                counter += 1\n",
    "        return counter\n",
    "    \n",
    "    def myhash(self,astring):\n",
    "        _sum = 0\n",
    "        for i,c in enumerate(astring,start=1):\n",
    "            _sum = _sum + ord(c)*i\n",
    "\n",
    "        return _sum%self.size\n",
    "    \n",
    "    def hashfunction(self, key):\n",
    "        if isinstance(key, int):\n",
    "            h = self.myhash(str(key))\n",
    "        elif isinstance(key, str):            \n",
    "            h = self.myhash(key)\n",
    "        else:\n",
    "            raise NotImplementedError(\"This datatype isn't developed for key\")\n",
    "        \n",
    "        return h\n",
    "    \n",
    "    def rehash(self, oldhash):\n",
    "        return (oldhash + 1) % self.size\n",
    "    \n",
    "    def put(self, key, data):\n",
    "        hashvalue = self.hashfunction(key)\n",
    "        \n",
    "        if self.slots[hashvalue] == None:\n",
    "            self.slots[hashvalue] = key\n",
    "            self.data[hashvalue] = data\n",
    "        else:\n",
    "            if self.slots[hashvalue] == key:\n",
    "                self.data[hashvalue] = data # Update value for the same key\n",
    "            else: # Collision\n",
    "                nextslot = self.rehash(hashvalue)\n",
    "                while self.slots[nextslot] != None and self.slots[nextslot] != key:\n",
    "                    nextslot = self.rehash(nextslot)\n",
    "                \n",
    "                if self.slots[nextslot] == None:\n",
    "                    self.slots[nextslot] = key\n",
    "                    self.data[nextslot] = data\n",
    "                else:\n",
    "                    self.data[nextslot] = data # Update\n",
    "    \n",
    "    def get(self, key):\n",
    "        startslot = self.hashfunction(key)\n",
    "        \n",
    "        data = None\n",
    "        stop = False\n",
    "        found = False\n",
    "        position = startslot\n",
    "        \n",
    "        while self.slots[position] != None and not found and not stop:\n",
    "            if self.slots[position] == key:\n",
    "                found = True\n",
    "                data = self.data[position]\n",
    "            else:\n",
    "                position = self.rehash(position)\n",
    "                if position == startslot: # Key not found\n",
    "                    stop = True\n",
    "        \n",
    "        return data\n",
    "    \n",
    "    def isEmpty(self):\n",
    "        # How many None we have in the hashtable slots\n",
    "        none_num = sum([1 for x in self.slots if x is None])\n",
    "        \n",
    "        return none_num == self.size\n",
    "    \n",
    "    def __getitem__(self, key):\n",
    "        return self.get(key)\n",
    "    \n",
    "    def __setitem__(self, key, data):\n",
    "        self.put(key, data)\n",
    "    \n",
    "    def __len__(self):\n",
    "        return self.length()\n",
    "    \n",
    "    def __contains__(self, key):\n",
    "        return True if self.get(key) is not None else False\n",
    "    \n",
    "    def __str__(self):\n",
    "        \n",
    "        # If the hashtable is empty\n",
    "        if self.isEmpty():\n",
    "            out = \"HashTable:{}\"\n",
    "        else:\n",
    "            # Initialize the output string\n",
    "            out = \"HashTable:{\"\n",
    "            # Loop through all keys and vlaues and add them one by one to the output string\n",
    "            for key,value in zip(self.slots, self.data):\n",
    "                # Just show the valid key (Do not show the default None)\n",
    "                if key:\n",
    "                    # Add item and value\n",
    "                    out += \"'{}':'{}', \".format(key,value)\n",
    "            # Close the output string\n",
    "            out = out[:-2] + \"}\"\n",
    "        \n",
    "        return out\n",
    "    \n",
    "    def __repr__(self):\n",
    "        return 'HashTable({})'.format(self.size)"
   ]
  },
  {
   "cell_type": "code",
   "execution_count": 46,
   "metadata": {},
   "outputs": [],
   "source": [
    "H = HashTable(15)"
   ]
  },
  {
   "cell_type": "code",
   "execution_count": 47,
   "metadata": {},
   "outputs": [
    {
     "data": {
      "text/plain": [
       "HashTable(15)"
      ]
     },
     "execution_count": 47,
     "metadata": {},
     "output_type": "execute_result"
    }
   ],
   "source": [
    "H"
   ]
  },
  {
   "cell_type": "code",
   "execution_count": 48,
   "metadata": {},
   "outputs": [
    {
     "name": "stdout",
     "output_type": "stream",
     "text": [
      "HashTable:{}\n"
     ]
    }
   ],
   "source": [
    "print(H)"
   ]
  },
  {
   "cell_type": "code",
   "execution_count": 49,
   "metadata": {},
   "outputs": [],
   "source": [
    "H[\"apple\"] = \"MacBook Pro\"\n",
    "H[\"google\"] = \"Pixel\"\n",
    "H[\"Microsoft\"] = \"Surface Book Pro\""
   ]
  },
  {
   "cell_type": "code",
   "execution_count": 50,
   "metadata": {},
   "outputs": [
    {
     "name": "stdout",
     "output_type": "stream",
     "text": [
      "HashTable:{'Microsoft':'Surface Book Pro', 'apple':'MacBook Pro', 'google':'Pixel'}\n"
     ]
    }
   ],
   "source": [
    "print(H)"
   ]
  },
  {
   "cell_type": "code",
   "execution_count": 51,
   "metadata": {},
   "outputs": [
    {
     "data": {
      "text/plain": [
       "True"
      ]
     },
     "execution_count": 51,
     "metadata": {},
     "output_type": "execute_result"
    }
   ],
   "source": [
    "'apple' in H"
   ]
  },
  {
   "cell_type": "code",
   "execution_count": 52,
   "metadata": {},
   "outputs": [
    {
     "data": {
      "text/plain": [
       "3"
      ]
     },
     "execution_count": 52,
     "metadata": {},
     "output_type": "execute_result"
    }
   ],
   "source": [
    "len(H)"
   ]
  },
  {
   "cell_type": "code",
   "execution_count": 28,
   "metadata": {},
   "outputs": [
    {
     "data": {
      "text/plain": [
       "'MacBook Pro'"
      ]
     },
     "execution_count": 28,
     "metadata": {},
     "output_type": "execute_result"
    }
   ],
   "source": [
    "H['apple']"
   ]
  },
  {
   "cell_type": "code",
   "execution_count": null,
   "metadata": {},
   "outputs": [],
   "source": []
  }
 ],
 "metadata": {
  "kernelspec": {
   "display_name": "Python 3",
   "language": "python",
   "name": "python3"
  },
  "language_info": {
   "codemirror_mode": {
    "name": "ipython",
    "version": 3
   },
   "file_extension": ".py",
   "mimetype": "text/x-python",
   "name": "python",
   "nbconvert_exporter": "python",
   "pygments_lexer": "ipython3",
   "version": "3.6.4"
  }
 },
 "nbformat": 4,
 "nbformat_minor": 2
}
