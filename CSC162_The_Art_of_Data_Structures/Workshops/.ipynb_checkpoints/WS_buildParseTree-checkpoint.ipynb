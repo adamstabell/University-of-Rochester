{
 "cells": [
  {
   "cell_type": "code",
   "execution_count": 1,
   "metadata": {},
   "outputs": [],
   "source": [
    "import operator"
   ]
  },
  {
   "cell_type": "code",
   "execution_count": 2,
   "metadata": {},
   "outputs": [],
   "source": [
    "class Stack:\n",
    "    def __init__(self):\n",
    "        self.items = []\n",
    "        \n",
    "    def isEmpty(self):\n",
    "        return self.items == []\n",
    "    \n",
    "    def push(self,item):\n",
    "        self.items.append(item)\n",
    "    \n",
    "    def pop(self):\n",
    "        if self.isEmpty():\n",
    "            raise IndexError(\"Pop from an empty stack\")\n",
    "        item = self.items[-1]\n",
    "        del self.items[-1]\n",
    "        return item\n",
    "    \n",
    "    def peek(self):\n",
    "        return self.items[-1]\n",
    "    \n",
    "    def size(self):\n",
    "        return len(self.items)"
   ]
  },
  {
   "cell_type": "code",
   "execution_count": 3,
   "metadata": {},
   "outputs": [],
   "source": [
    "class BinaryTree:\n",
    "    def __init__(self, rootObj):\n",
    "        self.key = rootObj\n",
    "        self.leftChild = None\n",
    "        self.rightChild = None\n",
    "    \n",
    "    def insertLeft(self, newNode):\n",
    "        if self.leftChild == None:\n",
    "            self.leftChild = BinaryTree(newNode)\n",
    "        else:\n",
    "            t = BinaryTree(newNode)\n",
    "            t.leftChild = self.leftChild\n",
    "            self.leftChild = t\n",
    "    \n",
    "    def insertRight(self, newNode):\n",
    "        if self.rightChild == None:\n",
    "            self.rightChild = BinaryTree(newNode)\n",
    "        else:\n",
    "            t = BinaryTree(newNode)\n",
    "            t.rightChild = self.rightChild\n",
    "            self.rightChild = t\n",
    "    \n",
    "    def getRightChild(self):\n",
    "        return self.rightChild\n",
    "    \n",
    "    def getLeftChild(self):\n",
    "        return self.leftChild\n",
    "    \n",
    "    def setRootVal(self, obj):\n",
    "        self.key = obj\n",
    "    \n",
    "    def getRootVal(self):\n",
    "        return self.key"
   ]
  },
  {
   "cell_type": "code",
   "execution_count": 57,
   "metadata": {},
   "outputs": [],
   "source": [
    "def buildParseTree(fpexp):\n",
    "    \n",
    "    # Handles expression that does not have spaces between every characters\n",
    "    \n",
    "    # Solution: Just add extra spaces before and after any mathematical expressions.\n",
    "    #           split() will take care of redundant spaces\n",
    "    newExp = \"\"\n",
    "    for char in fpexp:\n",
    "        if char in ['(','+', '-', '*', '/', ')']:\n",
    "            newExp += ' ' + char + ' '\n",
    "        else:\n",
    "            newExp += char\n",
    "    newExp.strip()\n",
    "    \n",
    "    fplist = newExp.split()\n",
    "    print(\"Parsed Expression: {}\".format(fplist))\n",
    "    pStack = Stack()\n",
    "    eTree = BinaryTree('')\n",
    "    pStack.push(eTree)\n",
    "    currentTree = eTree\n",
    "    for i in fplist:\n",
    "        if i == '(':\n",
    "            currentTree.insertLeft('')\n",
    "            pStack.push(currentTree)\n",
    "            currentTree = currentTree.getLeftChild()\n",
    "        elif i not in ['+', '-', '*', '/', ')']:\n",
    "            currentTree.setRootVal(int(i))\n",
    "            parent = pStack.pop()\n",
    "            currentTree = parent\n",
    "        elif i in ['+', '-', '*', '/']:\n",
    "            currentTree.setRootVal(i)\n",
    "            currentTree.insertRight('')\n",
    "            pStack.push(currentTree)\n",
    "            currentTree = currentTree.getRightChild()\n",
    "        elif i == ')':\n",
    "            currentTree = pStack.pop()\n",
    "        else:\n",
    "            raise ValueError\n",
    "    return eTree"
   ]
  },
  {
   "cell_type": "code",
   "execution_count": 58,
   "metadata": {},
   "outputs": [],
   "source": [
    "def evaluate(parseTree):\n",
    "    opers = {'+':operator.add, '-':operator.sub, '*':operator.mul, '/':operator.truediv}\n",
    "\n",
    "    leftC = parseTree.getLeftChild()\n",
    "    rightC = parseTree.getRightChild()\n",
    "\n",
    "    if leftC and rightC:\n",
    "        fn = opers[parseTree.getRootVal()]\n",
    "        return fn(evaluate(leftC),evaluate(rightC))\n",
    "    else:\n",
    "        return parseTree.getRootVal()"
   ]
  },
  {
   "cell_type": "code",
   "execution_count": 59,
   "metadata": {},
   "outputs": [
    {
     "name": "stdout",
     "output_type": "stream",
     "text": [
      "Parsed Expression: ['(', '(', '10', '+', '5', ')', '*', '3', ')']\n"
     ]
    }
   ],
   "source": [
    "pt = buildParseTree(\"( ( 10 + 5 ) * 3 )\")"
   ]
  },
  {
   "cell_type": "code",
   "execution_count": 60,
   "metadata": {},
   "outputs": [
    {
     "name": "stdout",
     "output_type": "stream",
     "text": [
      "Parsed Expression: ['(', '(', '10', '+', '5', ')', '*', '3', ')']\n"
     ]
    }
   ],
   "source": [
    "pt = buildParseTree(\"((10+5)*3)\")"
   ]
  },
  {
   "cell_type": "code",
   "execution_count": 61,
   "metadata": {},
   "outputs": [
    {
     "data": {
      "text/plain": [
       "45"
      ]
     },
     "execution_count": 61,
     "metadata": {},
     "output_type": "execute_result"
    }
   ],
   "source": [
    "evaluate(pt)"
   ]
  },
  {
   "cell_type": "code",
   "execution_count": 62,
   "metadata": {},
   "outputs": [
    {
     "data": {
      "text/plain": [
       "'*'"
      ]
     },
     "execution_count": 62,
     "metadata": {},
     "output_type": "execute_result"
    }
   ],
   "source": [
    "pt.getRootVal()"
   ]
  },
  {
   "cell_type": "code",
   "execution_count": 40,
   "metadata": {},
   "outputs": [
    {
     "data": {
      "text/plain": [
       "'+'"
      ]
     },
     "execution_count": 40,
     "metadata": {},
     "output_type": "execute_result"
    }
   ],
   "source": [
    "pt.getLeftChild().getRootVal()"
   ]
  },
  {
   "cell_type": "code",
   "execution_count": 41,
   "metadata": {},
   "outputs": [
    {
     "data": {
      "text/plain": [
       "10"
      ]
     },
     "execution_count": 41,
     "metadata": {},
     "output_type": "execute_result"
    }
   ],
   "source": [
    "pt.getLeftChild().getLeftChild().getRootVal()"
   ]
  },
  {
   "cell_type": "code",
   "execution_count": 42,
   "metadata": {},
   "outputs": [
    {
     "data": {
      "text/plain": [
       "5"
      ]
     },
     "execution_count": 42,
     "metadata": {},
     "output_type": "execute_result"
    }
   ],
   "source": [
    "pt.getLeftChild().getRightChild().getRootVal()"
   ]
  },
  {
   "cell_type": "code",
   "execution_count": 43,
   "metadata": {},
   "outputs": [
    {
     "data": {
      "text/plain": [
       "3"
      ]
     },
     "execution_count": 43,
     "metadata": {},
     "output_type": "execute_result"
    }
   ],
   "source": [
    "pt.getRightChild().getRootVal()"
   ]
  },
  {
   "cell_type": "code",
   "execution_count": null,
   "metadata": {},
   "outputs": [],
   "source": [
    "def buildParseTree(fpexp):\n",
    "    \n",
    "    # Handles expression that does not have spaces between every characters\n",
    "    \n",
    "    # Solution: Just add extra spaces before and after any mathematical expressions.\n",
    "    #           split() will take care of redundant spaces\n",
    "    \n",
    "    # Parse the input expression string\n",
    "    newExp = \"\"\n",
    "    for char in fpexp:\n",
    "        if char in ['(','+', '-', '*', '/', ')']:\n",
    "            newExp += ' ' + char + ' '\n",
    "        else:\n",
    "            newExp += char\n",
    "    # Remove redundant leading and trailing spaces\n",
    "    newExp.strip()\n",
    "    # Split the expression into list by white space\n",
    "    fplist = newExp.split()\n",
    "    # Create an empty stack for parsing\n",
    "    pStack = Stack()\n",
    "    # Initialize an empty binary tree\n",
    "    eTree = BinaryTree('')\n",
    "    # Push the tree onto the stack\n",
    "    pStack.push(eTree)\n",
    "    # Set current tree\n",
    "    currentTree = eTree\n",
    "    # For each element in the parsed list\n",
    "    for i in fplist:\n",
    "        # If the current element is left open parenthesis\n",
    "        if i == '(':\n",
    "#             print('Element: {}'.format(i))\n",
    "#             print('Insert empty tree to left child')\n",
    "            # Insert empty node to the left of tree\n",
    "            currentTree.insertLeft('')\n",
    "#             print('Push currentTree onto Stack')\n",
    "            # Push the current tree onto the stack\n",
    "            pStack.push(currentTree)\n",
    "#             print('Set currentTree to left child')\n",
    "            # Reset the current tree to the left child (because the old current tree has been pushed downward after the insertion)\n",
    "            currentTree = currentTree.getLeftChild()\n",
    "        # If the element is not any operator\n",
    "        elif i not in ['+', '-', '*', '/', ')','and','or','not']:\n",
    "#             print('Element: {}'.format(i))\n",
    "            # If the element is a boolean\n",
    "            if i in ['True','False']:\n",
    "                # Set the root of the current tree\n",
    "#                 print('Add {} to root'.format(i))\n",
    "                currentTree.setRootVal(eval(i))\n",
    "            # If the element is a integer\n",
    "            else:\n",
    "#                 print('Add {} to root'.format(i))\n",
    "                currentTree.setRootVal(int(i))\n",
    "#             print('Pop item out of stack. Set that to currentTree')\n",
    "            # Pop a tree out of the stack\n",
    "            parent = pStack.pop()\n",
    "            # Reset the current tree\n",
    "            currentTree = parent\n",
    "        elif i == 'not':\n",
    "#             print('Pop item out of stack. Set that to currentTree')\n",
    "            currentTree = pStack.pop()\n",
    "#             print('Add {} to root'.format(i))\n",
    "            currentTree.setRootVal(i)\n",
    "            \n",
    "            # If the \"not\" operator is the first element => Only negation. No inequalaity test\n",
    "            if pStack.size() == 0:\n",
    "#                 print('Insert empty tree to left child')\n",
    "                currentTree.insertLeft('')\n",
    "#             print('Insert empty tree to right child')\n",
    "            currentTree.insertRight('')\n",
    "#             print('Push currentTree onto Stack')\n",
    "            pStack.push(currentTree)\n",
    "#             print('Set currentTree to right child')\n",
    "            currentTree = currentTree.getRightChild()\n",
    "        elif i in ['+', '-', '*', '/','and','or']:\n",
    "#             print('Element: {}'.format(i))\n",
    "#             print('Add {} to root'.format(i))\n",
    "            currentTree.setRootVal(i)\n",
    "#             print('Insert empty tree to right child')\n",
    "            currentTree.insertRight('')\n",
    "#             print('Push currentTree onto Stack')\n",
    "            pStack.push(currentTree)\n",
    "#             print('Set currentTree to right child')\n",
    "            currentTree = currentTree.getRightChild()\n",
    "        elif i == ')':\n",
    "#             print('Element: {}'.format(i))\n",
    "#             print('Pop item out of stack. Set that to currentTree')\n",
    "            currentTree = pStack.pop()\n",
    "        else:\n",
    "            raise ValueError('{} is not implemented'.format(i))\n",
    "    return eTree"
   ]
  },
  {
   "cell_type": "code",
   "execution_count": null,
   "metadata": {},
   "outputs": [],
   "source": [
    "def evaluate(parseTree):\n",
    "    opers = {'+':operator.add, '-':operator.sub, '*':operator.mul, '/':operator.truediv,\n",
    "             'and':operator.and_, 'or':operator.or_, 'not':operator.not_}\n",
    "\n",
    "    leftC = parseTree.getLeftChild()\n",
    "    rightC = parseTree.getRightChild()\n",
    "    \n",
    "    # Scenario for single value (integers or boolean values)\n",
    "    if leftC is None and rightC is None:\n",
    "        return parseTree.getRootVal()\n",
    "    # Scenario for any operators\n",
    "    elif leftC and rightC:        \n",
    "        fn = opers[parseTree.getRootVal()]\n",
    "        \n",
    "        evalRightC = rightC\n",
    "        # Recursion: If the right child is a BinaryParseTree, not any basic integer or boolean value\n",
    "        while not isinstance(evalRightC,(int,bool)):\n",
    "            # Continue the evaluation of the right subtree until it returns a result\n",
    "            evalRightC = evaluate(evalRightC)\n",
    "            \n",
    "        # Base case: The current parseTree only have height of 1 for its right subtree\n",
    "        if isinstance(evalRightC,(int,bool)): # This is unnecessary. But just put here for clarification\n",
    "            # Case for \"not\" operator\n",
    "            if fn == operator.not_:\n",
    "                # Check whether the child is boolean type (Has to check bool first because bool is a subclass of int)\n",
    "                # Perform negation if child is boolean variable\n",
    "                if isinstance(rightC.getRootVal(),bool):\n",
    "                    return fn(evaluate(rightC))\n",
    "                # Perform inequality test if child is integer\n",
    "                elif isinstance(rightC.getRootVal(),int):\n",
    "                    fn = operator.ne\n",
    "                    return fn(evaluate(leftC),evaluate(rightC))\n",
    "                else:\n",
    "                    raise ValueError(\"Element: '{}', Type {} has not been implemented\".format(rightC.getRootVal(),type(rightC.getRootVal())))\n",
    "            # Case for \"and\" operator\n",
    "            elif fn == operator.and_:\n",
    "                # Check whether the child is boolean type (Has to check bool first because bool is a subclass of int)\n",
    "                # Perform negation if child is boolean variable\n",
    "                if isinstance(rightC.getRootVal(),bool):\n",
    "                    pass\n",
    "                # Perform addition action if child is integer\n",
    "                elif isinstance(rightC.getRootVal(),int):\n",
    "                    fn = operator.add\n",
    "                else:\n",
    "                    print('Root: {}, Left: {}, Right: {}'.format(parseTree.getRootVal(), leftC, rightC))\n",
    "                    raise ValueError(\"Element: '{}', Type {} has not been implemented\".format(rightC.getRootVal(),type(rightC.getRootVal())))\n",
    "                # Perform evaluation\n",
    "                return fn(evaluate(leftC),evaluate(rightC))\n",
    "            # Case for \"or\" operator\n",
    "            elif fn == operator.or_:\n",
    "                # Check whether the child is boolean type (Has to check bool first because bool is a subclass of int)\n",
    "                # Perform bitwise or if child is boolean variable\n",
    "                if isinstance(rightC.getRootVal(),bool):\n",
    "                    return fn(evaluate(leftC),evaluate(rightC))\n",
    "                # If child is integer, add evaluation results from both left and right child into a list. Return the list\n",
    "                elif isinstance(rightC.getRootVal(),int):\n",
    "                    alist = []\n",
    "                    alist.append(evaluate(leftC))\n",
    "                    alist.append(evaluate(rightC))\n",
    "                    return alist\n",
    "                else:\n",
    "                    raise ValueError(\"Element: '{}', Type {} has not been implemented\".format(rightC.getRootVal(),type(rightC.getRootVal())))            \n",
    "            else:\n",
    "                return fn(evaluate(leftC),evaluate(rightC))\n",
    "            \n",
    "    # This should not happen\n",
    "    else:\n",
    "        raise ValueError(\"Tree is corrupted\")\n",
    "    \n",
    "#     # Scenario for single value (integers or boolean values)\n",
    "#     if leftC is None and rightC is None:\n",
    "#         return parseTree.getRootVal()\n",
    "#     # Scenario for \"not\" (Only right child has value. Left chiild either has '' as root value)\n",
    "#     elif leftC.getRootVal() == \"\" and rightC is not None:\n",
    "#         fn = opers[parseTree.getRootVal()]\n",
    "#         return fn(evaluate(rightC))\n",
    "#     # Scenario for any operators except \"not\" (Both left and right child have value)\n",
    "#     elif leftC and rightC:        \n",
    "#         fn = opers[parseTree.getRootVal()]\n",
    "#         return fn(evaluate(leftC),evaluate(rightC))\n",
    "#     # This should not happen\n",
    "#     else:\n",
    "#         raise ValueError(\"Tree is corrupted\")"
   ]
  }
 ],
 "metadata": {
  "kernelspec": {
   "display_name": "Python 3",
   "language": "python",
   "name": "python3"
  },
  "language_info": {
   "codemirror_mode": {
    "name": "ipython",
    "version": 3
   },
   "file_extension": ".py",
   "mimetype": "text/x-python",
   "name": "python",
   "nbconvert_exporter": "python",
   "pygments_lexer": "ipython3",
   "version": "3.6.4"
  }
 },
 "nbformat": 4,
 "nbformat_minor": 2
}
