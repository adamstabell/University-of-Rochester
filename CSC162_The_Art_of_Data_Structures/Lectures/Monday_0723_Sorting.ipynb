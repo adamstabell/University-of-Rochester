{
 "cells": [
  {
   "cell_type": "code",
   "execution_count": 34,
   "metadata": {},
   "outputs": [],
   "source": [
    "from random import choices\n",
    "nums = choices(range(1_000_000), k = 8000)"
   ]
  },
  {
   "cell_type": "markdown",
   "metadata": {},
   "source": [
    "## Bubble Sort\n",
    "\n",
    "Bubble sort pushes the largest number to the end of the list every time.\n",
    "\n",
    "**Big O complexity**:\n",
    "1. Best case: $O(N)$\n",
    "2. Average case: $O(N^2)$\n",
    "3. Worst case: $O(N^2)$"
   ]
  },
  {
   "cell_type": "code",
   "execution_count": 23,
   "metadata": {},
   "outputs": [],
   "source": [
    "def bubbleSort(alist):\n",
    "#     print('Original list:{}'.format(alist))\n",
    "    for passnum in range(len(alist)-1,0,-1):\n",
    "        for i in range(passnum):\n",
    "            if alist[i] > alist[i+1]:\n",
    "                temp = alist[i]\n",
    "                alist[i] = alist[i+1]\n",
    "                alist[i+1] = temp\n",
    "#                 print('passnum: {}, i:{}, list:{}'.format(passnum, i, alist))"
   ]
  },
  {
   "cell_type": "code",
   "execution_count": 35,
   "metadata": {},
   "outputs": [
    {
     "name": "stdout",
     "output_type": "stream",
     "text": [
      "Wall time: 9.28 s\n"
     ]
    }
   ],
   "source": [
    "%%time\n",
    "bubbleSort(nums)"
   ]
  },
  {
   "cell_type": "markdown",
   "metadata": {},
   "source": [
    "### Optimization\n",
    "A bubble sort is often considered the most inefficient sorting method since it must exchange items before the final location is known. These “wasted” exchange operations are very costly. However, because the bubble sort makes passes through the entire unsorted portion of the list, it has the capability to do something most sorting algorithms cannot. In particular, if during a pass there are no exchanges, then we know that the list must be sorted. **A bubble sort can be modified to stop early if it finds that the list has become sorted. This means that for lists that require just a few passes, a bubble sort may have an advantage in that it will recognize the sorted list and stop**"
   ]
  },
  {
   "cell_type": "code",
   "execution_count": 25,
   "metadata": {},
   "outputs": [],
   "source": [
    "def shortBubbleSort(alist):\n",
    "    exchange = True\n",
    "    passnum = len(alist) - 1\n",
    "    while passnum > 0 and exchange:\n",
    "        exchange = False\n",
    "        for i in range(passnum):\n",
    "            if alist[i] > alist[i+1]:\n",
    "                exchange = True\n",
    "                temp = alist[i]\n",
    "                alist[i] = alist[i+1]\n",
    "                alist[i + 1] = temp\n",
    "        \n",
    "        passnum -=1"
   ]
  },
  {
   "cell_type": "code",
   "execution_count": 40,
   "metadata": {},
   "outputs": [],
   "source": [
    "nums = choices(range(1_000_000), k = 8000)"
   ]
  },
  {
   "cell_type": "code",
   "execution_count": 41,
   "metadata": {},
   "outputs": [
    {
     "name": "stdout",
     "output_type": "stream",
     "text": [
      "Wall time: 8.96 s\n"
     ]
    }
   ],
   "source": [
    "%%time\n",
    "shortBubbleSort(nums)"
   ]
  },
  {
   "cell_type": "code",
   "execution_count": 38,
   "metadata": {},
   "outputs": [
    {
     "name": "stdout",
     "output_type": "stream",
     "text": [
      "Wall time: 4.01 ms\n"
     ]
    }
   ],
   "source": [
    "%%time\n",
    "# Best case: The list has already been sorted\n",
    "shortBubbleSort(nums)"
   ]
  },
  {
   "cell_type": "markdown",
   "metadata": {},
   "source": [
    "## Selection Sort\n",
    "\n",
    "Selection sort find the max number in each iteration and swap it with the last possible position (the last possible position moves toward the front of list for each iteration. Because a portion of the list tail has already been sorted) of the list\n",
    "\n",
    "**Big O complexity**:\n",
    "1. Best case: $O(N^2)$\n",
    "2. Average case: $O(N^2)$\n",
    "3. Worst case: $O(N^2)$"
   ]
  },
  {
   "cell_type": "code",
   "execution_count": 19,
   "metadata": {},
   "outputs": [],
   "source": [
    "def selectionSort(alist):\n",
    "    for fillslot in range(len(alist)-1,0,-1):\n",
    "        positionOfMax = 0\n",
    "        for location in range(1, fillslot + 1):\n",
    "            if alist[location] > alist[positionOfMax]:\n",
    "                positionOfMax = location\n",
    "        \n",
    "        temp = alist[fillslot]\n",
    "        alist[fillslot] = alist[positionOfMax]\n",
    "        alist[positionOfMax] = temp"
   ]
  },
  {
   "cell_type": "code",
   "execution_count": 31,
   "metadata": {},
   "outputs": [],
   "source": [
    "nums = choices(range(1_000_000), k = 8000)"
   ]
  },
  {
   "cell_type": "code",
   "execution_count": 32,
   "metadata": {},
   "outputs": [
    {
     "name": "stdout",
     "output_type": "stream",
     "text": [
      "Wall time: 3.59 s\n"
     ]
    }
   ],
   "source": [
    "%%time\n",
    "selectionSort(nums)"
   ]
  },
  {
   "cell_type": "code",
   "execution_count": 33,
   "metadata": {},
   "outputs": [
    {
     "name": "stdout",
     "output_type": "stream",
     "text": [
      "Wall time: 4.04 s\n"
     ]
    }
   ],
   "source": [
    "%%time\n",
    "# Best case: The list has already been sorted (Worst, Average, Best case takes roughly the same run time)\n",
    "selectionSort(nums)"
   ]
  },
  {
   "cell_type": "markdown",
   "metadata": {},
   "source": [
    "## Insertion Sort\n",
    "\n",
    "Insertion sort holds a current value and moves it to the correct position where all numbers on the right hand side is larger than the current value. Such performance will be done through multiple iterations until the whole list has been scanned\n",
    "\n",
    "**Big O complexity**:\n",
    "1. Best case: $O(N)$\n",
    "2. Average case: $O(N^2)$\n",
    "3. Worst case: $O(N^2)$"
   ]
  },
  {
   "cell_type": "code",
   "execution_count": 39,
   "metadata": {},
   "outputs": [],
   "source": [
    "def insertionSort(alist):\n",
    "    for index in range(1,len(alist)):\n",
    "        currentvalue = alist[index]\n",
    "        position = index\n",
    "        \n",
    "        while position > 0 and alist[position-1] > currentvalue:\n",
    "            alist[position] = alist[position-1]\n",
    "            position -= 1\n",
    "        \n",
    "        alist[position] = currentvalue"
   ]
  },
  {
   "cell_type": "code",
   "execution_count": 42,
   "metadata": {},
   "outputs": [],
   "source": [
    "nums = choices(range(1_000_000), k = 8000)"
   ]
  },
  {
   "cell_type": "code",
   "execution_count": 43,
   "metadata": {},
   "outputs": [
    {
     "name": "stdout",
     "output_type": "stream",
     "text": [
      "Wall time: 4.62 s\n"
     ]
    }
   ],
   "source": [
    "%%time\n",
    "insertionSort(nums)"
   ]
  },
  {
   "cell_type": "code",
   "execution_count": 44,
   "metadata": {},
   "outputs": [
    {
     "name": "stdout",
     "output_type": "stream",
     "text": [
      "Wall time: 4 ms\n"
     ]
    }
   ],
   "source": [
    "%%time\n",
    "# Best case\n",
    "insertionSort(nums)"
   ]
  },
  {
   "cell_type": "markdown",
   "metadata": {},
   "source": [
    "## Shell Sort\n",
    "\n",
    "Break the list into sublists by picking certain positions with gap of choices. Perform selection sort for each sublist, which makes the whole list closer to be sorted (Not sorted yet).\n",
    "\n",
    "Such performance will be done recursively, each time with smaller size of gap, until after doing the final insertion sort (Use gap of 1).\n",
    "\n",
    "**Big O complexity**:\n",
    "1. Best case: $O(Nlog(N))$\n",
    "2. Average case: $O(N(log(N))^2)$\n",
    "3. Worst case: $O(N(log(N))^2)$"
   ]
  },
  {
   "cell_type": "code",
   "execution_count": 1,
   "metadata": {},
   "outputs": [],
   "source": [
    "def shellSort(alist):\n",
    "    gap = 2\n",
    "    sublistcount = len(alist)//gap\n",
    "    while sublistcount > 0:\n",
    "        print(sublistcount)\n",
    "        for startposition in range(sublistcount):\n",
    "            gapInsertionSort(alist,startposition, sublistcount)\n",
    "            \n",
    "        print(\"After increment of size\",sublistcount,\"The list is\",alist)\n",
    "        \n",
    "        sublistcount = sublistcount // gap"
   ]
  },
  {
   "cell_type": "code",
   "execution_count": 2,
   "metadata": {},
   "outputs": [],
   "source": [
    "def gapInsertionSort(alist,start,gap):\n",
    "    for i in range(start+gap,len(alist),gap):        \n",
    "        currentvalue = alist[i]\n",
    "        position = i\n",
    "        print('current value: {}'.format(currentvalue))\n",
    "        \n",
    "        while position >= gap and alist[position-gap] > currentvalue:\n",
    "            alist[position] = alist[position-gap]\n",
    "            position = position-gap\n",
    "            print(\"i: {}, position:{}, list:{}\".format(i,position,alist))\n",
    "        \n",
    "        alist[position] = currentvalue\n",
    "        print(\"i: {}, position:{}, list:{}\".format(i,position,alist))"
   ]
  },
  {
   "cell_type": "code",
   "execution_count": 3,
   "metadata": {},
   "outputs": [],
   "source": [
    "t = [94, 46, 5, 84, 71]"
   ]
  },
  {
   "cell_type": "code",
   "execution_count": 4,
   "metadata": {},
   "outputs": [
    {
     "name": "stdout",
     "output_type": "stream",
     "text": [
      "2\n",
      "current value: 5\n",
      "i: 2, position:0, list:[94, 46, 94, 84, 71]\n",
      "i: 2, position:0, list:[5, 46, 94, 84, 71]\n",
      "current value: 71\n",
      "i: 4, position:2, list:[5, 46, 94, 84, 94]\n",
      "i: 4, position:2, list:[5, 46, 71, 84, 94]\n",
      "current value: 84\n",
      "i: 3, position:3, list:[5, 46, 71, 84, 94]\n",
      "After increment of size 2 The list is [5, 46, 71, 84, 94]\n",
      "1\n",
      "current value: 46\n",
      "i: 1, position:1, list:[5, 46, 71, 84, 94]\n",
      "current value: 71\n",
      "i: 2, position:2, list:[5, 46, 71, 84, 94]\n",
      "current value: 84\n",
      "i: 3, position:3, list:[5, 46, 71, 84, 94]\n",
      "current value: 94\n",
      "i: 4, position:4, list:[5, 46, 71, 84, 94]\n",
      "After increment of size 1 The list is [5, 46, 71, 84, 94]\n"
     ]
    }
   ],
   "source": [
    "shellSort(t)"
   ]
  },
  {
   "cell_type": "markdown",
   "metadata": {},
   "source": [
    "## Merge Sort\n",
    "\n",
    "**Big O complexity**:\n",
    "1. Best case: $O(Nlog(N))$\n",
    "2. Average case: $O(Nlog(N))$\n",
    "3. Worst case: $O(Nlog(N))$"
   ]
  },
  {
   "cell_type": "code",
   "execution_count": 61,
   "metadata": {},
   "outputs": [],
   "source": [
    "def mergeSort(alist):\n",
    "    print(\"Splitting \",alist)\n",
    "    if len(alist) > 1:\n",
    "        mid = len(alist)//2\n",
    "        lefthalf = alist[:mid]\n",
    "        righthalf = alist[mid:]\n",
    "        \n",
    "        # Recursively call merge sort on left sublist and right sublist\n",
    "        # (continue breaking down sublist into smaller sublists, until the sublist only contain 1 element)\n",
    "        mergeSort(lefthalf)\n",
    "        mergeSort(righthalf)\n",
    "        \n",
    "        i = 0 # Index for left sublist\n",
    "        j = 0 # Index for right sublist\n",
    "        k = 0 # Index for original list\n",
    "        \n",
    "        # ** MERGE **\n",
    "        \n",
    "        # Merge the left sublist and right sublist\n",
    "        while i < len(lefthalf) and j < len(righthalf):\n",
    "            # If the current value in left sublist is smaller than the current value in right sublist\n",
    "            if lefthalf[i] < righthalf[j]:\n",
    "                # Put the value from left sublist into the correct kth position in original list\n",
    "                alist[k] = lefthalf[i]\n",
    "                # Increment the index pointer (i) for left sublist\n",
    "                i = i + 1\n",
    "            # If the current value in right sublist is smaller than or equal to the current value in left sublist\n",
    "            else:\n",
    "                # Put the value from right sublist into the correct kth position in original list\n",
    "                alist[k] = righthalf[j]\n",
    "                # Increment the index pointer (j) for right sublist\n",
    "                j = j + 1\n",
    "            # Increment the index pointer (k) for the original list\n",
    "            k = k + 1\n",
    "        \n",
    "        # When the above while loop is done, it means that all items from one of the sublist (left or right) have been put\n",
    "        # into the correct position in the original list\n",
    "        \n",
    "        # Therefore, start putting the rest of the items from the non-empty sublist (left or right) into the original list one by one\n",
    "        \n",
    "        # Left list is not empty\n",
    "        while i < len(lefthalf):\n",
    "            alist[k] = lefthalf[i]\n",
    "            i = i + 1\n",
    "            k = k + 1\n",
    "            \n",
    "        # Right list is not empty\n",
    "        while j < len(righthalf):\n",
    "            alist[k] = righthalf[j]\n",
    "            j = j + 1\n",
    "            k = k + 1\n",
    "            \n",
    "    print(\"Merging \",alist)"
   ]
  },
  {
   "cell_type": "code",
   "execution_count": 64,
   "metadata": {},
   "outputs": [
    {
     "data": {
      "text/plain": [
       "[56, 11, 29, 47, 21, 42, 41, 57, 76, 63, 7, 57, 12]"
      ]
     },
     "execution_count": 64,
     "metadata": {},
     "output_type": "execute_result"
    }
   ],
   "source": [
    "nums = choices(range(100), k = 13)\n",
    "nums"
   ]
  },
  {
   "cell_type": "code",
   "execution_count": 65,
   "metadata": {},
   "outputs": [
    {
     "name": "stdout",
     "output_type": "stream",
     "text": [
      "Splitting  [56, 11, 29, 47, 21, 42, 41, 57, 76, 63, 7, 57, 12]\n",
      "Splitting  [56, 11, 29, 47, 21, 42]\n",
      "Splitting  [56, 11, 29]\n",
      "Splitting  [56]\n",
      "Merging  [56]\n",
      "Splitting  [11, 29]\n",
      "Splitting  [11]\n",
      "Merging  [11]\n",
      "Splitting  [29]\n",
      "Merging  [29]\n",
      "Merging  [11, 29]\n",
      "Merging  [11, 29, 56]\n",
      "Splitting  [47, 21, 42]\n",
      "Splitting  [47]\n",
      "Merging  [47]\n",
      "Splitting  [21, 42]\n",
      "Splitting  [21]\n",
      "Merging  [21]\n",
      "Splitting  [42]\n",
      "Merging  [42]\n",
      "Merging  [21, 42]\n",
      "Merging  [21, 42, 47]\n",
      "Merging  [11, 21, 29, 42, 47, 56]\n",
      "Splitting  [41, 57, 76, 63, 7, 57, 12]\n",
      "Splitting  [41, 57, 76]\n",
      "Splitting  [41]\n",
      "Merging  [41]\n",
      "Splitting  [57, 76]\n",
      "Splitting  [57]\n",
      "Merging  [57]\n",
      "Splitting  [76]\n",
      "Merging  [76]\n",
      "Merging  [57, 76]\n",
      "Merging  [41, 57, 76]\n",
      "Splitting  [63, 7, 57, 12]\n",
      "Splitting  [63, 7]\n",
      "Splitting  [63]\n",
      "Merging  [63]\n",
      "Splitting  [7]\n",
      "Merging  [7]\n",
      "Merging  [7, 63]\n",
      "Splitting  [57, 12]\n",
      "Splitting  [57]\n",
      "Merging  [57]\n",
      "Splitting  [12]\n",
      "Merging  [12]\n",
      "Merging  [12, 57]\n",
      "Merging  [7, 12, 57, 63]\n",
      "Merging  [7, 12, 41, 57, 57, 63, 76]\n",
      "Merging  [7, 11, 12, 21, 29, 41, 42, 47, 56, 57, 57, 63, 76]\n"
     ]
    }
   ],
   "source": [
    "mergeSort(nums)"
   ]
  },
  {
   "cell_type": "markdown",
   "metadata": {},
   "source": [
    "## Quick Sort"
   ]
  },
  {
   "cell_type": "code",
   "execution_count": 66,
   "metadata": {},
   "outputs": [],
   "source": [
    "def quickSort(alist):\n",
    "    quickSortHelper(alist,0,len(alist)-1)"
   ]
  },
  {
   "cell_type": "code",
   "execution_count": 67,
   "metadata": {},
   "outputs": [],
   "source": [
    "def quickSortHelper(alist,first,last):\n",
    "    if first < last:\n",
    "        splitpoint = partition(alist,first,last)\n",
    "        \n",
    "        quickSortHelper(alist, first, splitpoint-1)\n",
    "        quickSortHelper(alist, splitpoint + 1, last)"
   ]
  },
  {
   "cell_type": "code",
   "execution_count": 68,
   "metadata": {},
   "outputs": [],
   "source": [
    "def partition(alist,first,last):\n",
    "    pivotvalue = alist[first]\n",
    "    \n",
    "    leftmark = first + 1\n",
    "    rightmark = last\n",
    "    \n",
    "    done = False\n",
    "    while not done:\n",
    "        \n",
    "        while leftmark <= rightmark and alist[leftmark] <= pivotvalue:\n",
    "            leftmark = leftmark + 1\n",
    "        \n",
    "        while rightmark >= leftmark and alist[rightmark] >= pivotvalue:\n",
    "            rightmark = rightmark+ 1\n",
    "        \n",
    "        if rightmark < leftmark:\n",
    "            done = True\n",
    "        else:\n",
    "            temp = alist[leftmark]\n",
    "            alist[leftmark] = alist[rightmark]\n",
    "            alist[rightmark] = temp\n",
    "    \n",
    "    temp = alist[first]\n",
    "    alist[first] = alist[rightmark]\n",
    "    alist[rightmark] = temp\n",
    "    \n",
    "    return rightmark"
   ]
  },
  {
   "cell_type": "code",
   "execution_count": null,
   "metadata": {},
   "outputs": [],
   "source": []
  }
 ],
 "metadata": {
  "kernelspec": {
   "display_name": "Python 3",
   "language": "python",
   "name": "python3"
  },
  "language_info": {
   "codemirror_mode": {
    "name": "ipython",
    "version": 3
   },
   "file_extension": ".py",
   "mimetype": "text/x-python",
   "name": "python",
   "nbconvert_exporter": "python",
   "pygments_lexer": "ipython3",
   "version": "3.6.4"
  }
 },
 "nbformat": 4,
 "nbformat_minor": 2
}
