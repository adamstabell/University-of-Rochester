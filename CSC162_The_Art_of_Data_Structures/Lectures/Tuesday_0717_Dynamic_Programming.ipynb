{
 "cells": [
  {
   "cell_type": "code",
   "execution_count": 1,
   "metadata": {},
   "outputs": [],
   "source": [
    "def recMC(coinValueList, change):\n",
    "    minCoins = change\n",
    "    print('minCoins: {}'.format(minCoins))\n",
    "    if change in coinValueList:\n",
    "        return 1\n",
    "    else:\n",
    "        for i in [c for c in coinValueList if c <= change]:\n",
    "            numCoins = 1 + recMC(coinValueList, change - i)\n",
    "            print('numCoins: {}'.format(numCoins))\n",
    "            if numCoins < minCoins:\n",
    "                minCoins = numCoins\n",
    "    \n",
    "    return minCoins"
   ]
  },
  {
   "cell_type": "code",
   "execution_count": null,
   "metadata": {},
   "outputs": [],
   "source": [
    "value = 63\n",
    "recMC([1,5,10,25],value)"
   ]
  },
  {
   "cell_type": "code",
   "execution_count": 60,
   "metadata": {},
   "outputs": [],
   "source": [
    "def recDC(coinValueList, change ,knownResults):\n",
    "    minCoins = change\n",
    "    if change in coinValueList:\n",
    "        knownResults[change] = 1\n",
    "        print('KNOWN CHAGNED: change: {} knownResuls: {}'.format(change,knownResults))\n",
    "        return 1\n",
    "    elif knownResults[change] > 0:\n",
    "        return knownResults[change]\n",
    "    else:\n",
    "        for i in [c for c in coinValueList if c <= change]:\n",
    "            print('change: {} i: {} knownResuls: {}\\n'.format(change,i,knownResults))\n",
    "            numCoins = 1 + recDC(coinValueList, change - i, knownResults)\n",
    "            \n",
    "            print(numCoins)\n",
    "            if numCoins < minCoins:\n",
    "                minCoins = numCoins\n",
    "                knownResults[change] = minCoins\n",
    "                print('KNOWN CHAGNED IN LOOP: change: {} knownResuls: {}'.format(change,knownResults))\n",
    "    \n",
    "    print(knownResults)\n",
    "    return minCoins"
   ]
  },
  {
   "cell_type": "code",
   "execution_count": 61,
   "metadata": {},
   "outputs": [
    {
     "name": "stdout",
     "output_type": "stream",
     "text": [
      "change: 12 i: 1 knownResuls: [0, 0, 0, 0, 0, 0, 0, 0, 0, 0, 0, 0, 0]\n",
      "\n",
      "change: 11 i: 1 knownResuls: [0, 0, 0, 0, 0, 0, 0, 0, 0, 0, 0, 0, 0]\n",
      "\n",
      "KNOWN CHAGNED: change: 10 knownResuls: [0, 0, 0, 0, 0, 0, 0, 0, 0, 0, 1, 0, 0]\n",
      "2\n",
      "KNOWN CHAGNED IN LOOP: change: 11 knownResuls: [0, 0, 0, 0, 0, 0, 0, 0, 0, 0, 1, 2, 0]\n",
      "change: 11 i: 5 knownResuls: [0, 0, 0, 0, 0, 0, 0, 0, 0, 0, 1, 2, 0]\n",
      "\n",
      "change: 6 i: 1 knownResuls: [0, 0, 0, 0, 0, 0, 0, 0, 0, 0, 1, 2, 0]\n",
      "\n",
      "KNOWN CHAGNED: change: 5 knownResuls: [0, 0, 0, 0, 0, 1, 0, 0, 0, 0, 1, 2, 0]\n",
      "2\n",
      "KNOWN CHAGNED IN LOOP: change: 6 knownResuls: [0, 0, 0, 0, 0, 1, 2, 0, 0, 0, 1, 2, 0]\n",
      "change: 6 i: 5 knownResuls: [0, 0, 0, 0, 0, 1, 2, 0, 0, 0, 1, 2, 0]\n",
      "\n",
      "KNOWN CHAGNED: change: 1 knownResuls: [0, 1, 0, 0, 0, 1, 2, 0, 0, 0, 1, 2, 0]\n",
      "2\n",
      "[0, 1, 0, 0, 0, 1, 2, 0, 0, 0, 1, 2, 0]\n",
      "3\n",
      "change: 11 i: 10 knownResuls: [0, 1, 0, 0, 0, 1, 2, 0, 0, 0, 1, 2, 0]\n",
      "\n",
      "KNOWN CHAGNED: change: 1 knownResuls: [0, 1, 0, 0, 0, 1, 2, 0, 0, 0, 1, 2, 0]\n",
      "2\n",
      "[0, 1, 0, 0, 0, 1, 2, 0, 0, 0, 1, 2, 0]\n",
      "3\n",
      "KNOWN CHAGNED IN LOOP: change: 12 knownResuls: [0, 1, 0, 0, 0, 1, 2, 0, 0, 0, 1, 2, 3]\n",
      "change: 12 i: 5 knownResuls: [0, 1, 0, 0, 0, 1, 2, 0, 0, 0, 1, 2, 3]\n",
      "\n",
      "change: 7 i: 1 knownResuls: [0, 1, 0, 0, 0, 1, 2, 0, 0, 0, 1, 2, 3]\n",
      "\n",
      "3\n",
      "KNOWN CHAGNED IN LOOP: change: 7 knownResuls: [0, 1, 0, 0, 0, 1, 2, 3, 0, 0, 1, 2, 3]\n",
      "change: 7 i: 5 knownResuls: [0, 1, 0, 0, 0, 1, 2, 3, 0, 0, 1, 2, 3]\n",
      "\n",
      "change: 2 i: 1 knownResuls: [0, 1, 0, 0, 0, 1, 2, 3, 0, 0, 1, 2, 3]\n",
      "\n",
      "KNOWN CHAGNED: change: 1 knownResuls: [0, 1, 0, 0, 0, 1, 2, 3, 0, 0, 1, 2, 3]\n",
      "2\n",
      "[0, 1, 0, 0, 0, 1, 2, 3, 0, 0, 1, 2, 3]\n",
      "3\n",
      "[0, 1, 0, 0, 0, 1, 2, 3, 0, 0, 1, 2, 3]\n",
      "4\n",
      "change: 12 i: 10 knownResuls: [0, 1, 0, 0, 0, 1, 2, 3, 0, 0, 1, 2, 3]\n",
      "\n",
      "change: 2 i: 1 knownResuls: [0, 1, 0, 0, 0, 1, 2, 3, 0, 0, 1, 2, 3]\n",
      "\n",
      "KNOWN CHAGNED: change: 1 knownResuls: [0, 1, 0, 0, 0, 1, 2, 3, 0, 0, 1, 2, 3]\n",
      "2\n",
      "[0, 1, 0, 0, 0, 1, 2, 3, 0, 0, 1, 2, 3]\n",
      "3\n",
      "[0, 1, 0, 0, 0, 1, 2, 3, 0, 0, 1, 2, 3]\n"
     ]
    },
    {
     "data": {
      "text/plain": [
       "3"
      ]
     },
     "execution_count": 61,
     "metadata": {},
     "output_type": "execute_result"
    }
   ],
   "source": [
    "value = 12\n",
    "recDC([1,5,10,25],value, [0]*(value + 1))"
   ]
  },
  {
   "cell_type": "code",
   "execution_count": 14,
   "metadata": {},
   "outputs": [],
   "source": [
    "def dpMakeChange(coinValueList, change, minCoins, coinsUsed):\n",
    "    for cents in range(change+1):\n",
    "        coinCount = cents\n",
    "        newCoin = 1\n",
    "        for j in [c for c in coinValueList if c <= cents]:\n",
    "            if minCoins[cents-j] + 1 < coinCount:\n",
    "                coinCount = minCoins[cents-j] + 1\n",
    "                newCoin = j\n",
    "        minCoins[cents] = coinCount\n",
    "        coinsUsed[cents] = newCoin\n",
    "        \n",
    "    return minCoins[change]"
   ]
  },
  {
   "cell_type": "code",
   "execution_count": 21,
   "metadata": {},
   "outputs": [],
   "source": [
    "def printCoins(coinsUsed, change):\n",
    "    coin = change\n",
    "    while coin > 0:\n",
    "        thisCoin = coinsUsed[coin]\n",
    "        print(thisCoin)\n",
    "        coin = coin - thisCoin"
   ]
  },
  {
   "cell_type": "code",
   "execution_count": 26,
   "metadata": {},
   "outputs": [],
   "source": [
    "def main():\n",
    "    amnt = 63\n",
    "    clist = [1,5,10,25]\n",
    "    coinsUsed = [0] * (amnt+1)\n",
    "    coinCount = [0] * (amnt+1)\n",
    "    \n",
    "    print(\"Make change for\",amnt,\"requires\")\n",
    "    print(dpMakeChange(clist,amnt,coinCount,coinsUsed),\"coins\")\n",
    "    print(\"They are:\")\n",
    "    printCoins(coinsUsed,amnt)\n",
    "    print(\"The used list is as follows:\")\n",
    "    print(coinsUsed)"
   ]
  },
  {
   "cell_type": "code",
   "execution_count": 27,
   "metadata": {},
   "outputs": [
    {
     "name": "stdout",
     "output_type": "stream",
     "text": [
      "Make change for 63 requires\n",
      "6 coins\n",
      "They are:\n",
      "1\n",
      "1\n",
      "1\n",
      "10\n",
      "25\n",
      "25\n",
      "The used list is as follows:\n",
      "[1, 1, 1, 1, 1, 5, 1, 1, 1, 1, 10, 1, 1, 1, 1, 5, 1, 1, 1, 1, 10, 1, 1, 1, 1, 25, 1, 1, 1, 1, 5, 1, 1, 1, 1, 10, 1, 1, 1, 1, 5, 1, 1, 1, 1, 10, 1, 1, 1, 1, 25, 1, 1, 1, 1, 5, 1, 1, 1, 1, 10, 1, 1, 1]\n"
     ]
    }
   ],
   "source": [
    "main()"
   ]
  },
  {
   "cell_type": "code",
   "execution_count": null,
   "metadata": {},
   "outputs": [],
   "source": []
  },
  {
   "cell_type": "code",
   "execution_count": null,
   "metadata": {},
   "outputs": [],
   "source": []
  }
 ],
 "metadata": {
  "kernelspec": {
   "display_name": "Python 3",
   "language": "python",
   "name": "python3"
  },
  "language_info": {
   "codemirror_mode": {
    "name": "ipython",
    "version": 3
   },
   "file_extension": ".py",
   "mimetype": "text/x-python",
   "name": "python",
   "nbconvert_exporter": "python",
   "pygments_lexer": "ipython3",
   "version": "3.6.4"
  }
 },
 "nbformat": 4,
 "nbformat_minor": 2
}
