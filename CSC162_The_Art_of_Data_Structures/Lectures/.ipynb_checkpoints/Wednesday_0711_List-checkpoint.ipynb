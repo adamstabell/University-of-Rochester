{
 "cells": [
  {
   "cell_type": "code",
   "execution_count": 9,
   "metadata": {},
   "outputs": [],
   "source": [
    "class Node:\n",
    "    def __init__(self,initdata):\n",
    "        self.data = initdata\n",
    "        self.next = None\n",
    "    \n",
    "    def getData(self):\n",
    "        return self.data\n",
    "    \n",
    "    def getNext(self):\n",
    "        return self.next\n",
    "    \n",
    "    def setData(self, newdata):\n",
    "        self.data = newdata\n",
    "    \n",
    "    def setNext(self, newnext):\n",
    "        self.next = newnext\n",
    "        \n",
    "    def __repr__(self):\n",
    "        return \"Node({})\".format(self.data)\n",
    "    \n",
    "    def __str__(self):\n",
    "        return \"<node: {} next: {}>\".format(self.data, id(self.next) if self.next else None)"
   ]
  },
  {
   "cell_type": "code",
   "execution_count": 10,
   "metadata": {},
   "outputs": [
    {
     "data": {
      "text/plain": [
       "Node(93)"
      ]
     },
     "execution_count": 10,
     "metadata": {},
     "output_type": "execute_result"
    }
   ],
   "source": [
    "temp = Node(93)\n",
    "temp"
   ]
  },
  {
   "cell_type": "code",
   "execution_count": 11,
   "metadata": {},
   "outputs": [
    {
     "name": "stdout",
     "output_type": "stream",
     "text": [
      "<node: 93 next: None>\n"
     ]
    }
   ],
   "source": [
    "print(temp)"
   ]
  },
  {
   "cell_type": "markdown",
   "metadata": {},
   "source": [
    "# Unordered List"
   ]
  },
  {
   "cell_type": "code",
   "execution_count": 21,
   "metadata": {},
   "outputs": [],
   "source": [
    "class UnorderedList:\n",
    "    \n",
    "    def __init__(self):\n",
    "        self.head = None\n",
    "        \n",
    "    def isEmpty(self):\n",
    "        return self.head == None\n",
    "    \n",
    "    def add(self, item):\n",
    "        temp = Node(item)\n",
    "        temp.setNext(self.head)\n",
    "        self.head = temp\n",
    "        \n",
    "    def length(self):\n",
    "        current = self.head\n",
    "        count = 0\n",
    "        while current != None:\n",
    "            count += 1\n",
    "            current = current.getNext()\n",
    "            \n",
    "        return count\n",
    "\n",
    "    def search(self, item):\n",
    "        current = self.head\n",
    "        found = False\n",
    "        \n",
    "        while current != None and not found:\n",
    "            if current.getData() == item:\n",
    "                found = True\n",
    "            else:\n",
    "                current = current.getNext()\n",
    "                \n",
    "        return found\n",
    "    \n",
    "    def remove(self, item):\n",
    "        current = self.head\n",
    "        prev = None\n",
    "        found = False\n",
    "        \n",
    "        while current != None and not found:\n",
    "            if current.getData() == item:\n",
    "                found = True\n",
    "            else:\n",
    "                prev = current\n",
    "                current = current.getNext()\n",
    "        \n",
    "        if prev is None:\n",
    "            self.head = current.getNext() # self.head = self.head.getNext()\n",
    "        else:\n",
    "            prev.setNext(current.getNext())\n",
    "    \n",
    "        del current\n",
    "        \n",
    "        if not found:\n",
    "            raise ValueError(\"Items not found in the list!\")\n",
    "        else:\n",
    "            return found"
   ]
  },
  {
   "cell_type": "code",
   "execution_count": 29,
   "metadata": {},
   "outputs": [],
   "source": [
    "from random import randrange\n",
    "\n",
    "ul = UnorderedList()\n",
    "\n",
    "for i in range(100):\n",
    "    ul.add(randrange(33,999))"
   ]
  },
  {
   "cell_type": "code",
   "execution_count": 30,
   "metadata": {},
   "outputs": [
    {
     "data": {
      "text/plain": [
       "100"
      ]
     },
     "execution_count": 30,
     "metadata": {},
     "output_type": "execute_result"
    }
   ],
   "source": [
    "ul.length()"
   ]
  },
  {
   "cell_type": "code",
   "execution_count": 33,
   "metadata": {},
   "outputs": [
    {
     "data": {
      "text/plain": [
       "True"
      ]
     },
     "execution_count": 33,
     "metadata": {},
     "output_type": "execute_result"
    }
   ],
   "source": [
    "ul.search(123)"
   ]
  },
  {
   "cell_type": "code",
   "execution_count": 35,
   "metadata": {},
   "outputs": [
    {
     "data": {
      "text/plain": [
       "Node(764)"
      ]
     },
     "execution_count": 35,
     "metadata": {},
     "output_type": "execute_result"
    }
   ],
   "source": [
    "ul.head"
   ]
  },
  {
   "cell_type": "code",
   "execution_count": 38,
   "metadata": {},
   "outputs": [],
   "source": [
    "# current = ul.head\n",
    "# while current != None:\n",
    "#     print(current)\n",
    "#     current = current.getNext()"
   ]
  },
  {
   "cell_type": "markdown",
   "metadata": {},
   "source": [
    "# Ordered List"
   ]
  },
  {
   "cell_type": "code",
   "execution_count": 46,
   "metadata": {},
   "outputs": [],
   "source": [
    "class OrderedList:\n",
    "    def __init__(self):\n",
    "        self.head = None\n",
    "    \n",
    "    def search(self, item):\n",
    "        current = self.head\n",
    "        found = False\n",
    "        stop = False\n",
    "        \n",
    "        while current != None and not found and not stop:\n",
    "            if current.getData() == item:\n",
    "                found = True\n",
    "            else:\n",
    "                if current.getData() > item:\n",
    "                    stop = True\n",
    "                else:\n",
    "                    current = current.getNext()\n",
    "                    \n",
    "        return found\n",
    "    \n",
    "    def add(self, item):\n",
    "        current = self.head\n",
    "        prev = None\n",
    "        stop = False\n",
    "        \n",
    "        while current != None and not stop:\n",
    "            if current.getData() > item:\n",
    "                stop = True\n",
    "            else:\n",
    "                prev = current\n",
    "                current = current.getNext()\n",
    "        \n",
    "        temp = Node(item)\n",
    "        if prev == None:\n",
    "            temp.setNext(self.head)\n",
    "            self.head = temp\n",
    "        else:\n",
    "            temp.setNext(current)\n",
    "            prev.setNext(temp)"
   ]
  },
  {
   "cell_type": "code",
   "execution_count": 47,
   "metadata": {},
   "outputs": [],
   "source": [
    "ol = OrderedList()\n",
    "\n",
    "for i in range(100):\n",
    "    ol.add(randrange(33,999))"
   ]
  },
  {
   "cell_type": "code",
   "execution_count": 48,
   "metadata": {},
   "outputs": [
    {
     "name": "stdout",
     "output_type": "stream",
     "text": [
      "<node: 52 next: 1194767558920>\n",
      "<node: 71 next: 1194767559144>\n",
      "<node: 80 next: 1194767557856>\n",
      "<node: 98 next: 1194767540408>\n",
      "<node: 111 next: 1194767540576>\n",
      "<node: 116 next: 1194767559480>\n",
      "<node: 133 next: 1194767557240>\n",
      "<node: 137 next: 1194767560432>\n",
      "<node: 140 next: 1194767560376>\n",
      "<node: 144 next: 1194767559760>\n"
     ]
    }
   ],
   "source": [
    "current = ol.head\n",
    "for i in range(10):\n",
    "    print(current)\n",
    "    current = current.getNext()\n",
    "    i +=1 "
   ]
  },
  {
   "cell_type": "code",
   "execution_count": null,
   "metadata": {},
   "outputs": [],
   "source": []
  }
 ],
 "metadata": {
  "kernelspec": {
   "display_name": "Python 3",
   "language": "python",
   "name": "python3"
  },
  "language_info": {
   "codemirror_mode": {
    "name": "ipython",
    "version": 3
   },
   "file_extension": ".py",
   "mimetype": "text/x-python",
   "name": "python",
   "nbconvert_exporter": "python",
   "pygments_lexer": "ipython3",
   "version": "3.6.4"
  }
 },
 "nbformat": 4,
 "nbformat_minor": 2
}
