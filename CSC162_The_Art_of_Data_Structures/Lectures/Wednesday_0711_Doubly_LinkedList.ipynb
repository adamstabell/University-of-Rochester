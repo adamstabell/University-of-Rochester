{
 "cells": [
  {
   "cell_type": "code",
   "execution_count": 19,
   "metadata": {},
   "outputs": [],
   "source": [
    "class DNode:\n",
    "    def __init__(self, initdata):\n",
    "        self.data = initdata\n",
    "        self.next = None\n",
    "        self.prev = None\n",
    "        \n",
    "    def getData(self):\n",
    "        return self.data\n",
    "    \n",
    "    def getNext(self):\n",
    "        return self.next\n",
    "    \n",
    "    def getPrev(self):\n",
    "        return self.prev\n",
    "    \n",
    "    def setData(self, newdata):\n",
    "        self.data = newdata\n",
    "        \n",
    "    def setNext(self, newnext):\n",
    "        self.next = newnext\n",
    "        \n",
    "    def setPrev(self, newprev):\n",
    "        self.prev = newprev\n",
    "    \n",
    "    def __str__(self):\n",
    "        return \"<Dnode: {}({}) prev: {} next: {}>\".format(self.data, id(self), id(self.prev), id(self.next) if self.next else None)\n",
    "    "
   ]
  },
  {
   "cell_type": "code",
   "execution_count": 20,
   "metadata": {},
   "outputs": [],
   "source": [
    "from random import randrange"
   ]
  },
  {
   "cell_type": "code",
   "execution_count": 21,
   "metadata": {},
   "outputs": [],
   "source": [
    "head = DNode(22)\n",
    "\n",
    "current = head\n",
    "for i in range(100):\n",
    "    rand = randrange(24, 999)\n",
    "    \n",
    "    temp = DNode(rand)\n",
    "    current.setNext(temp)\n",
    "    temp.setPrev(current)\n",
    "    current = temp"
   ]
  },
  {
   "cell_type": "code",
   "execution_count": 22,
   "metadata": {},
   "outputs": [
    {
     "name": "stdout",
     "output_type": "stream",
     "text": [
      "<Dnode: 22(1337359399680) prev: 1399301264 next: 1337359398280>\n",
      "<Dnode: 954(1337359398280) prev: 1337359399680 next: 1337359397720>\n",
      "<Dnode: 91(1337359397720) prev: 1337359398280 next: 1337359399176>\n",
      "<Dnode: 124(1337359399176) prev: 1337359397720 next: 1337359399792>\n",
      "<Dnode: 752(1337359399792) prev: 1337359399176 next: 1337359400016>\n",
      "<Dnode: 132(1337359400016) prev: 1337359399792 next: 1337359453768>\n",
      "<Dnode: 873(1337359453768) prev: 1337359400016 next: 1337359454048>\n",
      "<Dnode: 50(1337359454048) prev: 1337359453768 next: 1337359451416>\n",
      "<Dnode: 659(1337359451416) prev: 1337359454048 next: 1337359451024>\n",
      "<Dnode: 867(1337359451024) prev: 1337359451416 next: 1337359453824>\n"
     ]
    }
   ],
   "source": [
    "current = head\n",
    "for i in range(10):\n",
    "    print(current)\n",
    "    current = current.getNext()\n",
    "    i +=1 "
   ]
  },
  {
   "cell_type": "code",
   "execution_count": null,
   "metadata": {},
   "outputs": [],
   "source": []
  }
 ],
 "metadata": {
  "kernelspec": {
   "display_name": "Python 3",
   "language": "python",
   "name": "python3"
  },
  "language_info": {
   "codemirror_mode": {
    "name": "ipython",
    "version": 3
   },
   "file_extension": ".py",
   "mimetype": "text/x-python",
   "name": "python",
   "nbconvert_exporter": "python",
   "pygments_lexer": "ipython3",
   "version": "3.6.4"
  }
 },
 "nbformat": 4,
 "nbformat_minor": 2
}
