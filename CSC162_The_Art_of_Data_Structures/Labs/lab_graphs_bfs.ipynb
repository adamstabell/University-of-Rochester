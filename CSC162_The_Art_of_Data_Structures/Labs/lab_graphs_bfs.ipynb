{
 "cells": [
  {
   "cell_type": "markdown",
   "metadata": {
    "button": false,
    "new_sheet": false,
    "run_control": {
     "read_only": false
    }
   },
   "source": [
    "# Lab 17: Graphs: Breadth-First Searching"
   ]
  },
  {
   "cell_type": "markdown",
   "metadata": {
    "button": false,
    "new_sheet": false,
    "run_control": {
     "read_only": false
    }
   },
   "source": [
    "## <font color=DarkRed>Your Exercise: All Pairs Shortest Path</font>\n",
    "\n",
    "Using breadth first search write an algorithm that can determine the shortest path from each vertex to every other vertex. This is called the all pairs shortest path problem."
   ]
  },
  {
   "cell_type": "markdown",
   "metadata": {
    "button": false,
    "new_sheet": false,
    "run_control": {
     "read_only": false
    }
   },
   "source": [
    "## <font color=green>Your Solution</font>\n",
    "\n",
    "*Use a variety of code, Markdown (text) cells below to create your solution. Nice outputs would be timing results, and even plots. You will be graded not only on correctness, but the clarity of your code, descriptive text and other output. Keep it succinct!*"
   ]
  },
  {
   "cell_type": "code",
   "execution_count": 1,
   "metadata": {},
   "outputs": [],
   "source": [
    "import sys"
   ]
  },
  {
   "cell_type": "code",
   "execution_count": 2,
   "metadata": {
    "button": false,
    "new_sheet": false,
    "run_control": {
     "read_only": false
    }
   },
   "outputs": [],
   "source": [
    "class Vertex:\n",
    "    def __init__(self, key):\n",
    "        self.id = key\n",
    "        self.connected_to = {}  # Adjacency \"list\"\n",
    "        self.dist = sys.maxsize\n",
    "        self.color = \"white\"\n",
    "        self.pred = None\n",
    "        self.disc = 0\n",
    "        self.fin = 0\n",
    "        \n",
    "    def add_neighbor(self, nbr, weight=0):\n",
    "        self.connected_to[nbr] = weight\n",
    "        \n",
    "    def set_color(self, color):\n",
    "        self.color = color\n",
    "        \n",
    "    def set_distance(self, d):\n",
    "        self.dist = d\n",
    "        \n",
    "    def self_pred(self, p):\n",
    "        self.pred = p\n",
    "        \n",
    "    def set_discovery(self, dtime):\n",
    "        self.disc = dtime\n",
    "        \n",
    "    def set_finish(self, ftime):\n",
    "        self.fin = ftime\n",
    "        \n",
    "    def get_finish(self):\n",
    "        return self.fin\n",
    "        \n",
    "    def get_discovery(self):\n",
    "        return self.disc\n",
    "    \n",
    "    def get_pred(self):\n",
    "        return self.pred\n",
    "    \n",
    "    def get_distance(self):\n",
    "        return self.dist\n",
    "    \n",
    "    def get_color(self):\n",
    "        return self.color\n",
    "    \n",
    "    def get_connections(self):\n",
    "        return self.connected_to.keys()\n",
    "    \n",
    "    def get_weight(self, nbr):\n",
    "        return self.connected_to[nbr]\n",
    "    \n",
    "    def __str__(self):\n",
    "        return (str(self.id) + \" connected to: \" +\n",
    "                str([x.id for x in self.connected_to]))\n",
    "    \n",
    "    def get_id(self):\n",
    "        return self.id"
   ]
  },
  {
   "cell_type": "code",
   "execution_count": 3,
   "metadata": {},
   "outputs": [],
   "source": [
    "class Graph:\n",
    "    def __init__(self):\n",
    "        self.vert_list = {}\n",
    "        self.num_vertices = 0\n",
    "        \n",
    "    def add_vertex(self, key):\n",
    "        self.num_vertices += 1\n",
    "        new_vertex = Vertex(key)\n",
    "        self.vert_list[key] = new_vertex\n",
    "        return new_vertex\n",
    "    \n",
    "    def get_vertex(self, n):\n",
    "        if n in self.vert_list:\n",
    "            return self.vert_list[n]\n",
    "        else:\n",
    "            return None\n",
    "        \n",
    "    def __contains__(self, n):\n",
    "        return n in self.vert_list\n",
    "    \n",
    "    def add_edge(self, f, t, cost=0):\n",
    "        if f not in self.vert_list:\n",
    "            nv = self.add_vertex(f)\n",
    "            \n",
    "        if t not in self.vert_list:\n",
    "            nv = self.add_vertex(t)\n",
    "            \n",
    "        self.vert_list[f].add_neighbor(self.vert_list[t], cost)\n",
    "        \n",
    "    def get_vertices(self):\n",
    "        return self.vert_list.keys()\n",
    "    \n",
    "    def __iter__(self):\n",
    "        return iter(self.vert_list.values())"
   ]
  },
  {
   "cell_type": "code",
   "execution_count": 5,
   "metadata": {},
   "outputs": [],
   "source": [
    "def shortestPath(g, start):\n",
    "    '''\n",
    "    This function use breadth-first-search to:\n",
    "    (1) Find the distance between vertexes, stored in `distance`\n",
    "    (2) Find the parent-child relationship between all connected vertices, stored in `parent`\n",
    "    (3) Find the shortest path from the start vertex to every other vertexes, stored in `shortPath`\n",
    "    \n",
    "    Signature: Kefu Zhu\n",
    "    '''\n",
    "    # Initialize the a dictionary to store the distance between the start vertex and other vertexes\n",
    "    distance = {start.get_id():0}\n",
    "    # Initialize the a dictionary to store the parent-child relationship between vertexes\n",
    "    parent = {start.get_id():None}\n",
    "    # Initialize the distance value to 1\n",
    "    d = 1\n",
    "    # Initialize the frontier list which contains vertexes that we start to reach out for all of their connections\n",
    "    frontier = [start]\n",
    "    # When the frontier list is not empty (Meaning we have not visited all vertexes)\n",
    "    while frontier:\n",
    "        # Initialize the _next list to empty list (Should contain the next vertexes that are supposed to be set as new frontiers)\n",
    "        _next = []\n",
    "        # For every vertex in the frontier list\n",
    "        for u in frontier:\n",
    "            # For each connected vertex (v) of u\n",
    "            for v in u.get_connections():\n",
    "                # If v has not been visited\n",
    "                if v.get_id() not in distance:\n",
    "                    # Set the distance between start vertex and v to be d\n",
    "                    distance[v.get_id()] = d\n",
    "                    # Set the parent of v as u\n",
    "                    parent[v.get_id()] = u.get_id()\n",
    "                    # Add v to the _next list\n",
    "                    _next.append(v)\n",
    "        # Reset the frontier list as the current _next list\n",
    "        frontier = _next\n",
    "        # Increment the distance value\n",
    "        d += 1\n",
    "    \n",
    "    # Make two deep copies of the parent dictionary\n",
    "    oldshortPath = {k:v for (k,v) in zip(parent.keys(),parent.values())}\n",
    "    newshortPath = {k:v for (k,v) in zip(parent.keys(),parent.values())}\n",
    "    \n",
    "    # For each key in shortPath\n",
    "    for key in oldshortPath.keys():\n",
    "        # Get the current value\n",
    "        currentValue = oldshortPath[key]\n",
    "        # Set the final value as the current value\n",
    "        finalValue = currentValue\n",
    "        # If the current value is not None (The key is the start vertex itself. There is no path from itself to itself)\n",
    "        #    and the current value is not the starting vertex\n",
    "        #\n",
    "        # Follow the its parent recursively until we reach the starting vertex\n",
    "        while currentValue and currentValue != start.get_id():\n",
    "            # Add new checkpoint on the final value\n",
    "            finalValue = oldshortPath[currentValue] + ' -> ' + finalValue\n",
    "            # Reset the current value\n",
    "            currentValue = oldshortPath[currentValue]\n",
    "        # Reset the value of key\n",
    "        newshortPath[key] = finalValue\n",
    "        \n",
    "    # Add the ending vertex itself on each short path\n",
    "    newshortPath = {k:v+' -> '+k for (k,v) in zip(newshortPath.keys(),newshortPath.values()) if v}\n",
    "    \n",
    "    return newshortPath"
   ]
  },
  {
   "cell_type": "code",
   "execution_count": 6,
   "metadata": {},
   "outputs": [],
   "source": [
    "def allShortPath(g):\n",
    "    '''\n",
    "    Based on function `shotestPath(g, start)`. \n",
    "    This function returns all shortest paths from each vertex to every other vertex in a given graph. \n",
    "    \n",
    "    Signature: Kefu Zhu\n",
    "    '''\n",
    "    for vertex in g.get_vertices():\n",
    "        print(\"Shortest path from {} to other vertices\".format(vertex))\n",
    "        print(shortestPath(g,g.get_vertex(vertex)))\n",
    "        print()"
   ]
  },
  {
   "cell_type": "markdown",
   "metadata": {
    "button": false,
    "new_sheet": false,
    "run_control": {
     "read_only": false
    }
   },
   "source": [
    "## Testing\n",
    "\n",
    "Test out your solution to show it works as advertised. Use textutal output, or, if you can, perhaps using a program like `graphviz`."
   ]
  },
  {
   "cell_type": "markdown",
   "metadata": {},
   "source": [
    "### Undirected Graph"
   ]
  },
  {
   "cell_type": "code",
   "execution_count": 7,
   "metadata": {
    "button": false,
    "new_sheet": false,
    "run_control": {
     "read_only": false
    }
   },
   "outputs": [],
   "source": [
    "# Initialize an empty graph\n",
    "g = Graph()\n",
    "# Add vertex\n",
    "g.add_vertex('A')\n",
    "g.add_vertex('B')\n",
    "g.add_vertex('C')\n",
    "g.add_vertex('D')\n",
    "g.add_vertex('E')\n",
    "g.add_vertex('F')\n",
    "# Add Edges\n",
    "g.add_edge('A','B')\n",
    "g.add_edge('A','C')\n",
    "g.add_edge('A','D')\n",
    "g.add_edge('B','A')\n",
    "g.add_edge('B','D')\n",
    "g.add_edge('C','A')\n",
    "g.add_edge('C','D')\n",
    "g.add_edge('C','E')\n",
    "g.add_edge('D','B')\n",
    "g.add_edge('D','C')\n",
    "g.add_edge('D','F')\n",
    "g.add_edge('E','C')\n",
    "g.add_edge('E','F')\n",
    "g.add_edge('F','D')\n",
    "g.add_edge('F','E')"
   ]
  },
  {
   "cell_type": "code",
   "execution_count": 8,
   "metadata": {},
   "outputs": [
    {
     "name": "stdout",
     "output_type": "stream",
     "text": [
      "A connected to: ['B', 'C', 'D']\n",
      "B connected to: ['A', 'D']\n",
      "C connected to: ['A', 'D', 'E']\n",
      "D connected to: ['B', 'C', 'F']\n",
      "E connected to: ['C', 'F']\n",
      "F connected to: ['D', 'E']\n"
     ]
    }
   ],
   "source": [
    "# See all vertices and connections (This is an undirected graph)\n",
    "for vertex in g:\n",
    "    print(vertex)"
   ]
  },
  {
   "cell_type": "code",
   "execution_count": 9,
   "metadata": {},
   "outputs": [
    {
     "name": "stdout",
     "output_type": "stream",
     "text": [
      "Shortest path from A to other vertices\n",
      "{'B': 'A -> B', 'C': 'A -> C', 'D': 'A -> D', 'E': 'A -> C -> E', 'F': 'A -> D -> F'}\n",
      "\n",
      "Shortest path from B to other vertices\n",
      "{'A': 'B -> A', 'D': 'B -> D', 'C': 'B -> A -> C', 'F': 'B -> D -> F', 'E': 'B -> A -> C -> E'}\n",
      "\n",
      "Shortest path from C to other vertices\n",
      "{'A': 'C -> A', 'D': 'C -> D', 'E': 'C -> E', 'B': 'C -> A -> B', 'F': 'C -> D -> F'}\n",
      "\n",
      "Shortest path from D to other vertices\n",
      "{'B': 'D -> B', 'C': 'D -> C', 'F': 'D -> F', 'A': 'D -> B -> A', 'E': 'D -> C -> E'}\n",
      "\n",
      "Shortest path from E to other vertices\n",
      "{'C': 'E -> C', 'F': 'E -> F', 'A': 'E -> C -> A', 'D': 'E -> C -> D', 'B': 'E -> C -> A -> B'}\n",
      "\n",
      "Shortest path from F to other vertices\n",
      "{'D': 'F -> D', 'E': 'F -> E', 'B': 'F -> D -> B', 'C': 'F -> D -> C', 'A': 'F -> D -> B -> A'}\n",
      "\n"
     ]
    }
   ],
   "source": [
    "# Find all shortest paths from each vertex to every other vertex\n",
    "allShortPath(g)"
   ]
  },
  {
   "cell_type": "markdown",
   "metadata": {},
   "source": [
    "### Directed Graph"
   ]
  },
  {
   "cell_type": "code",
   "execution_count": 10,
   "metadata": {},
   "outputs": [],
   "source": [
    "# Initialize an empty graph\n",
    "g = Graph()\n",
    "# Add vertex\n",
    "g.add_vertex('A')\n",
    "g.add_vertex('B')\n",
    "g.add_vertex('C')\n",
    "g.add_vertex('D')\n",
    "g.add_vertex('E')\n",
    "g.add_vertex('F')\n",
    "# Add Edges\n",
    "g.add_edge('A','B')\n",
    "g.add_edge('A','C')\n",
    "g.add_edge('B','D')\n",
    "g.add_edge('C','D')\n",
    "g.add_edge('D','A')\n",
    "g.add_edge('D','F')\n",
    "g.add_edge('E','C')\n",
    "g.add_edge('E','F')"
   ]
  },
  {
   "cell_type": "code",
   "execution_count": 11,
   "metadata": {},
   "outputs": [
    {
     "name": "stdout",
     "output_type": "stream",
     "text": [
      "A connected to: ['B', 'C']\n",
      "B connected to: ['D']\n",
      "C connected to: ['D']\n",
      "D connected to: ['A', 'F']\n",
      "E connected to: ['C', 'F']\n",
      "F connected to: []\n"
     ]
    }
   ],
   "source": [
    "# See all vertices and connections (This is a directed graph)\n",
    "for vertex in g:\n",
    "    print(vertex)"
   ]
  },
  {
   "cell_type": "code",
   "execution_count": 12,
   "metadata": {},
   "outputs": [
    {
     "name": "stdout",
     "output_type": "stream",
     "text": [
      "Shortest path from A to other vertices\n",
      "{'B': 'A -> B', 'C': 'A -> C', 'D': 'A -> B -> D', 'F': 'A -> B -> D -> F'}\n",
      "\n",
      "Shortest path from B to other vertices\n",
      "{'D': 'B -> D', 'A': 'B -> D -> A', 'F': 'B -> D -> F', 'C': 'B -> D -> A -> C'}\n",
      "\n",
      "Shortest path from C to other vertices\n",
      "{'D': 'C -> D', 'A': 'C -> D -> A', 'F': 'C -> D -> F', 'B': 'C -> D -> A -> B'}\n",
      "\n",
      "Shortest path from D to other vertices\n",
      "{'A': 'D -> A', 'F': 'D -> F', 'B': 'D -> A -> B', 'C': 'D -> A -> C'}\n",
      "\n",
      "Shortest path from E to other vertices\n",
      "{'C': 'E -> C', 'F': 'E -> F', 'D': 'E -> C -> D', 'A': 'E -> C -> D -> A', 'B': 'E -> C -> D -> A -> B'}\n",
      "\n",
      "Shortest path from F to other vertices\n",
      "{}\n",
      "\n"
     ]
    }
   ],
   "source": [
    "# Find all shortest paths from each vertex to every other vertex\n",
    "allShortPath(g)"
   ]
  },
  {
   "cell_type": "code",
   "execution_count": null,
   "metadata": {},
   "outputs": [],
   "source": []
  }
 ],
 "metadata": {
  "kernelspec": {
   "display_name": "Python 3",
   "language": "python",
   "name": "python3"
  },
  "language_info": {
   "codemirror_mode": {
    "name": "ipython",
    "version": 3
   },
   "file_extension": ".py",
   "mimetype": "text/x-python",
   "name": "python",
   "nbconvert_exporter": "python",
   "pygments_lexer": "ipython3",
   "version": "3.6.4"
  }
 },
 "nbformat": 4,
 "nbformat_minor": 2
}
