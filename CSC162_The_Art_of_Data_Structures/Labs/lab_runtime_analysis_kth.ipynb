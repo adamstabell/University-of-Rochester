{
 "cells": [
  {
   "cell_type": "markdown",
   "metadata": {
    "button": false,
    "new_sheet": false,
    "run_control": {
     "read_only": false
    }
   },
   "source": [
    "# Lab 2: Runtime Analysis"
   ]
  },
  {
   "cell_type": "markdown",
   "metadata": {
    "button": false,
    "new_sheet": false,
    "run_control": {
     "read_only": false
    }
   },
   "source": [
    "## <font color=DarkRed>Your Exercise: Find the $k$th Smallest Number</font>\n",
    "\n",
    "Given a list of numbers in random order write a linear time algorithm to find the $k$th smallest number in the list. Explain why your algorithm is linear."
   ]
  },
  {
   "cell_type": "markdown",
   "metadata": {
    "button": false,
    "new_sheet": false,
    "run_control": {
     "read_only": false
    }
   },
   "source": [
    "## <font color=green>Your Solution</font>\n",
    "\n",
    "*Use a variety of code, Markdown (text) cells below to create your solution. Nice outputs would be timing results, and even plots. You will be graded not only on correctness, but the clarity of your code, descriptive text and other output. Keep it succinct.*"
   ]
  },
  {
   "cell_type": "code",
   "execution_count": 1,
   "metadata": {},
   "outputs": [],
   "source": [
    "# Import library\n",
    "import random\n",
    "import time\n",
    "import pandas as pd\n",
    "import matplotlib.pyplot as plt"
   ]
  },
  {
   "cell_type": "code",
   "execution_count": 2,
   "metadata": {},
   "outputs": [],
   "source": [
    "def median_of_medians(A, i):\n",
    "    '''This function use the method of \"medians of medians\" to \n",
    "       find the k th smallest number in a list of numbers in random order\n",
    "       in linear time algorithm O(N)\n",
    "       \n",
    "       The length of sublist used in the \"medians of medians\" is 5 here.\n",
    "       \n",
    "       Signature: Kefu Zhu\n",
    "    '''\n",
    "    # Check if i is non-negative\n",
    "    if (i < 0) | (not isinstance(i,int)):\n",
    "        raise ValueError(\"Please choose a positive integer as your k\")\n",
    "        return\n",
    "    \n",
    "    # divide A into sublists of len 5\n",
    "    sublists = [A[j:j+5] for j in range(0, len(A), 5)]\n",
    "    \n",
    "    # Complexity: O(N)\n",
    "    # The sorted() operation on each sublist of length 5 takes O(1), because the list is very short\n",
    "    # We will perform the sorted() operation 1 + N//5 times (That is how many sublist of length 5 we have)\n",
    "    medians = [sorted(sublist)[len(sublist)//2] for sublist in sublists]\n",
    "    \n",
    "    # If the list of medians is less than or eqaul to 5, we can just pick the pivot by sorting this list with basically O(1)\n",
    "    if len(medians) <= 5:\n",
    "        pivot = sorted(medians)[len(medians)//2]\n",
    "    # If the list of medians is greater than 5\n",
    "    else:\n",
    "        # We perform the method of median_of_medians recursively to find the optimal pivot\n",
    "        # Complexity: O(N)\n",
    "        pivot = median_of_medians(medians, len(medians)//2)\n",
    "    \n",
    "    # partitioning step\n",
    "    # Complexity: O(N), because we are comparing every element in the original list to pivot value\n",
    "    low = [j for j in A if j < pivot]\n",
    "    # Complexity: O(N), because we are comparing every element in the original list to pivot value\n",
    "    high = [j for j in A if j > pivot]\n",
    "\n",
    "    k = len(low)\n",
    "    if i < k:\n",
    "        return median_of_medians(low,i)\n",
    "    elif i > k:\n",
    "        return median_of_medians(high,i-k-1)\n",
    "    else: \n",
    "        #pivot = k\n",
    "        return pivot"
   ]
  },
  {
   "cell_type": "markdown",
   "metadata": {
    "button": false,
    "new_sheet": false,
    "run_control": {
     "read_only": false
    }
   },
   "source": [
    "## Testing\n",
    "For full credit, you must also test your solution so that you can prove to the grade your solution works."
   ]
  },
  {
   "cell_type": "code",
   "execution_count": 3,
   "metadata": {
    "scrolled": true
   },
   "outputs": [
    {
     "name": "stdout",
     "output_type": "stream",
     "text": [
      "\n",
      "**Objective**: Find the 3th smallest number\n",
      "\n",
      "Test List: [0.30794515166196845, 0.9945827364570673, 0.7785001373565174, 0.8302441585017251, 0.6262773024461515, 0.12351212634402198, 0.4286715553829201, 0.9794633766887478, 0.22808026288626448, 0.2802713571282959]\n",
      "\n",
      "Correct Answer: 0.30794515166196845\n",
      "Algorithm Result: 0.30794515166196845\n",
      "\n",
      "Is the result correct? True\n",
      "\n"
     ]
    }
   ],
   "source": [
    "# Test the funtionality of k_small\n",
    "test = [random.random() for i in range(10)]\n",
    "k = 3\n",
    "print('''\n",
    "**Objective**: Find the {}th smallest number\\n\n",
    "Test List: {}\\n\n",
    "Correct Answer: {}\\nAlgorithm Result: {}\\n\n",
    "Is the result correct? {}\n",
    "'''.format(k, test, sorted(test)[k], median_of_medians(test,k), sorted(test)[k] == median_of_medians(test,k)))"
   ]
  },
  {
   "cell_type": "code",
   "execution_count": 5,
   "metadata": {
    "button": false,
    "new_sheet": false,
    "run_control": {
     "read_only": false
    }
   },
   "outputs": [
    {
     "name": "stdout",
     "output_type": "stream",
     "text": [
      "Test on size 10000 is complete.\n",
      "Test on size 20000 is complete.\n",
      "Test on size 30000 is complete.\n",
      "Test on size 40000 is complete.\n",
      "Test on size 50000 is complete.\n",
      "Test on size 60000 is complete.\n",
      "Test on size 70000 is complete.\n",
      "Test on size 80000 is complete.\n",
      "Test on size 90000 is complete.\n",
      "Test on size 100000 is complete.\n"
     ]
    }
   ],
   "source": [
    "# Verify the time complexity of k_small\n",
    "# Create different size for testing\n",
    "test_runs = range(10000,110000,10000)\n",
    "# Create an empty dataframe to store test results, use the size of each test object as index\n",
    "test_results = pd.DataFrame(columns = ['runtime'], index = test_runs)\n",
    "# Create different size of lists of numbers in random order for performance evaluation\n",
    "for size in test_runs:\n",
    "    # Create an empty list to store repetitive test results and take the average\n",
    "    runtime_list = []\n",
    "    # Perform tests on the same size 100 times to smooth the effect of randomness\n",
    "    for times in range(100):\n",
    "        # Create a list of random number in random order for testing\n",
    "        testList = [random.random() for i in range(size)]\n",
    "        # Pick the value of k (within the size of current test list)\n",
    "        k = random.randrange(size)\n",
    "        # Record the start time\n",
    "        s = time.time()\n",
    "        # Find a random\n",
    "        median_of_medians(testList, k)\n",
    "        # Record the end time\n",
    "        e = time.time()\n",
    "        runtime_list.append(e-s)\n",
    "    # Add the average test runtime to dataframe\n",
    "    test_results['runtime'][size] = sum(runtime_list)/float(len(runtime_list))\n",
    "    # Show the progres\n",
    "    print('Test on size {} is complete.'.format(size))"
   ]
  },
  {
   "cell_type": "code",
   "execution_count": 6,
   "metadata": {},
   "outputs": [
    {
     "data": {
      "text/html": [
       "<div>\n",
       "<style scoped>\n",
       "    .dataframe tbody tr th:only-of-type {\n",
       "        vertical-align: middle;\n",
       "    }\n",
       "\n",
       "    .dataframe tbody tr th {\n",
       "        vertical-align: top;\n",
       "    }\n",
       "\n",
       "    .dataframe thead th {\n",
       "        text-align: right;\n",
       "    }\n",
       "</style>\n",
       "<table border=\"1\" class=\"dataframe\">\n",
       "  <thead>\n",
       "    <tr style=\"text-align: right;\">\n",
       "      <th></th>\n",
       "      <th>runtime</th>\n",
       "    </tr>\n",
       "  </thead>\n",
       "  <tbody>\n",
       "    <tr>\n",
       "      <th>10000</th>\n",
       "      <td>0.0144557</td>\n",
       "    </tr>\n",
       "    <tr>\n",
       "      <th>20000</th>\n",
       "      <td>0.0295835</td>\n",
       "    </tr>\n",
       "    <tr>\n",
       "      <th>30000</th>\n",
       "      <td>0.0429616</td>\n",
       "    </tr>\n",
       "    <tr>\n",
       "      <th>40000</th>\n",
       "      <td>0.0585361</td>\n",
       "    </tr>\n",
       "    <tr>\n",
       "      <th>50000</th>\n",
       "      <td>0.0741403</td>\n",
       "    </tr>\n",
       "    <tr>\n",
       "      <th>60000</th>\n",
       "      <td>0.0878887</td>\n",
       "    </tr>\n",
       "    <tr>\n",
       "      <th>70000</th>\n",
       "      <td>0.104612</td>\n",
       "    </tr>\n",
       "    <tr>\n",
       "      <th>80000</th>\n",
       "      <td>0.124408</td>\n",
       "    </tr>\n",
       "    <tr>\n",
       "      <th>90000</th>\n",
       "      <td>0.13963</td>\n",
       "    </tr>\n",
       "    <tr>\n",
       "      <th>100000</th>\n",
       "      <td>0.156423</td>\n",
       "    </tr>\n",
       "  </tbody>\n",
       "</table>\n",
       "</div>"
      ],
      "text/plain": [
       "          runtime\n",
       "10000   0.0144557\n",
       "20000   0.0295835\n",
       "30000   0.0429616\n",
       "40000   0.0585361\n",
       "50000   0.0741403\n",
       "60000   0.0878887\n",
       "70000    0.104612\n",
       "80000    0.124408\n",
       "90000     0.13963\n",
       "100000   0.156423"
      ]
     },
     "execution_count": 6,
     "metadata": {},
     "output_type": "execute_result"
    }
   ],
   "source": [
    "# Print the dataframe\n",
    "test_results"
   ]
  },
  {
   "cell_type": "code",
   "execution_count": 7,
   "metadata": {},
   "outputs": [
    {
     "data": {
      "image/png": "[encoded data removed]",
      "text/plain": [
       "<matplotlib.figure.Figure at 0x1829ddc6278>"
      ]
     },
     "metadata": {},
     "output_type": "display_data"
    }
   ],
   "source": [
    "# Visualize the test results\n",
    "fig, ax = plt.subplots()\n",
    "# Set axis name\n",
    "plt.ylabel(\"Running Time (s)\")\n",
    "plt.xlabel(\"Input Size ($N$)\")\n",
    "# Add test result\n",
    "ax.plot(test_results.index,test_results['runtime'], label='runtime', color='b')\n",
    "# Add legend\n",
    "legend = plt.legend(loc='upper left', fontsize='large')\n",
    "# Set plot size\n",
    "fig.set_size_inches(10,5)\n",
    "# Show\n",
    "plt.show()"
   ]
  },
  {
   "cell_type": "markdown",
   "metadata": {},
   "source": [
    "**Explanation**: \n",
    "\n",
    "The `QuickSort` algorithm has worse case scenario of $O(N^2)$. Because by picking the worst possible pivot value everytime. The list needed sorting has length of $(n-1), (n-2), (n-3), ..., 1.$ Summing them all up will get the time complexity of $O(N^2)$ \n",
    "\n",
    "Compared to the `QuickSort`, using `medians of the medians` guarantees that we can skip some elements (the number of elements is proportional to the length of list) everytime, because we pick the median of all sublists rather than a random number, which can end up be the worst possible number (the smallest number). Therefore, the list needed sorting in `medians of the medians` has length of $(n/r), (n/r^2), (n/r^3), ..., 1.$ Summing them all up will be $n(1 + 1/r + 1/r^2 + 1/r^3 + ... + \\infty) \\approx n(1/(1-r)) = O(N)$"
   ]
  },
  {
   "cell_type": "code",
   "execution_count": null,
   "metadata": {},
   "outputs": [],
   "source": []
  }
 ],
 "metadata": {
  "kernelspec": {
   "display_name": "Python 3",
   "language": "python",
   "name": "python3"
  },
  "language_info": {
   "codemirror_mode": {
    "name": "ipython",
    "version": 3
   },
   "file_extension": ".py",
   "mimetype": "text/x-python",
   "name": "python",
   "nbconvert_exporter": "python",
   "pygments_lexer": "ipython3",
   "version": "3.6.4"
  }
 },
 "nbformat": 4,
 "nbformat_minor": 2
}
