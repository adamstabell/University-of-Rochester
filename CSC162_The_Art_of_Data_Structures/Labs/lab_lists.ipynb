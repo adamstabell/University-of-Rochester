{
 "cells": [
  {
   "cell_type": "markdown",
   "metadata": {
    "button": false,
    "new_sheet": false,
    "run_control": {
     "read_only": false
    }
   },
   "source": [
    "# Lab 6: Lists"
   ]
  },
  {
   "cell_type": "markdown",
   "metadata": {
    "button": false,
    "new_sheet": false,
    "run_control": {
     "read_only": false
    }
   },
   "source": [
    "## <font color=DarkRed>Your Exercise: Implement additional operations for the `UnorderedList` ADT.</font>\n",
    "\n",
    "Implement all parts of the `UnorderedList` and `Node` classes as described\n",
    "in the textbook. You will use the definition of `Node` to implement a\n",
    "singly-linked list inside the `UnorderedList` class.\n",
    "\n",
    "**UnorderedList**:\n",
    "Use the methods given in the book (using the textbook source code is allowed):\n",
    "    \n",
    " * `__init__(self, init_data)`\n",
    " * `add(self, item)`\n",
    " * `remove(self, item)`\n",
    " * `search(self, item)`\n",
    " * `is_empty(self)`\n",
    " * `length(self)` (*Slides have it named as \"size\", the book more aptly calls it \"length\"*)\n",
    "\n",
    "Additional methods you need to write yourself:\n",
    " * `append(self, item)`\n",
    " * `insert(self, pos, item)`\n",
    " * `index(self, item)`\n",
    " * `pop(self)`\n",
    " * `pop(self, pos)`\n",
    " * `print(self)` (*Print the items in the list*)\n",
    "\n",
    "**Node**: Use the methods given in the book (using the textbook source code is allowed):\n",
    " * `__init__(self, init_data)`\n",
    " * `get_data(self)`\n",
    " * `get_next(self)`\n",
    " * `set_data(self, new_data)`\n",
    " * `set_next(self, new_next)`\n",
    " * `__repr__(self)` (*Instances of this class should propery represent itself if evaluated (test this using* `repr()` *function)\n"
   ]
  },
  {
   "cell_type": "markdown",
   "metadata": {
    "button": false,
    "new_sheet": false,
    "run_control": {
     "read_only": false
    }
   },
   "source": [
    "## <font color=green>Your Solution</font>\n",
    "\n",
    "*Use a variety of code, Markdown (text) cells below to create your solution. Nice outputs would be timing results, and even plots. You will be graded not only on correctness, but the clarity of your code, descriptive text and other output. Keep it succinct.*"
   ]
  },
  {
   "cell_type": "code",
   "execution_count": 1,
   "metadata": {
    "button": false,
    "new_sheet": false,
    "run_control": {
     "read_only": false
    }
   },
   "outputs": [],
   "source": [
    "class Node:\n",
    "    '''\n",
    "    This is a class for node. It can be used to form singly or doubly linked lists\n",
    "    \n",
    "    Signature: Kefu Zhu\n",
    "    '''\n",
    "    \n",
    "    def __init__(self,initdata):\n",
    "        self.data = initdata\n",
    "        self.next = None\n",
    "\n",
    "    def getData(self):\n",
    "        return self.data\n",
    "\n",
    "    def getNext(self):\n",
    "        return self.next\n",
    "\n",
    "    def setData(self,newdata):\n",
    "        self.data = newdata\n",
    "\n",
    "    def setNext(self,newnext):\n",
    "        self.next = newnext\n",
    "    \n",
    "    def __repr__(self):\n",
    "        return \"Node({})\".format(self.data)"
   ]
  },
  {
   "cell_type": "code",
   "execution_count": 2,
   "metadata": {},
   "outputs": [],
   "source": [
    "class UnorderedList:\n",
    "    '''\n",
    "    This is a class for unordered list. Use the Node class as the foundation\n",
    "    \n",
    "    Signature: Kefu Zhu\n",
    "    '''\n",
    "\n",
    "    # Define the basic attributes of a list class (Head and Tail)\n",
    "    def __init__(self):\n",
    "        self.head = None\n",
    "        \n",
    "    # Code from textbook, function to check whether the list is empty\n",
    "    def isEmpty(self):\n",
    "        return self.head == None\n",
    "    \n",
    "    # Code from textbook, function to compute the length of the list    \n",
    "    def length(self):\n",
    "        current = self.head\n",
    "        count = 0\n",
    "        while current != None:\n",
    "            count = count + 1\n",
    "            current = current.getNext()\n",
    "\n",
    "        return count\n",
    "    \n",
    "    # Code from textbook, function to search the existence of an item in the list, return True/False\n",
    "    def search(self,item):\n",
    "        current = self.head\n",
    "        found = False\n",
    "        while current != None and not found:\n",
    "            if current.getData() == item:\n",
    "                found = True\n",
    "            else:\n",
    "                current = current.getNext()\n",
    "\n",
    "        return found\n",
    "    \n",
    "    # Code from textbook, function to remove an item from the list\n",
    "    def remove(self,item):\n",
    "        current = self.head\n",
    "        previous = None\n",
    "        found = False\n",
    "        while not found:\n",
    "            if current.getData() == item:\n",
    "                found = True\n",
    "            else:\n",
    "                previous = current\n",
    "                current = current.getNext()\n",
    "\n",
    "        if previous == None:\n",
    "            self.head = current.getNext()\n",
    "        else:\n",
    "            previous.setNext(current.getNext())\n",
    "    \n",
    "    # Define the append function to add a new item as the last item in the list\n",
    "    def append(self, item):\n",
    "        # If the list is empty, create the new node and set it as both head and tail node \n",
    "        if self.isEmpty():\n",
    "            self.head = Node(item)\n",
    "        # If the list is not empty\n",
    "        else:\n",
    "            # Initialize a counter\n",
    "            count = 0\n",
    "            # Set the current pointer to the head node\n",
    "            current = self.head\n",
    "            # Loop through the list to get to the last item\n",
    "            while count < self.length() - 1:\n",
    "                current = current.next\n",
    "                count += 1\n",
    "            \n",
    "            # Create the new node\n",
    "            temp = Node(item)\n",
    "            # Set the next pointer of the old last item to the new item\n",
    "            current.setNext(temp)\n",
    "    \n",
    "    # Define a function to insert an element to certain position inside the list\n",
    "    # Position starts from 0. Support negative index\n",
    "    def insert(self, pos, item):\n",
    "        # If the index position is negative, convert it to the correct positive value\n",
    "        if pos < 0:\n",
    "            pos = self.length() + 1 + pos\n",
    "        \n",
    "        # Check whether the index value is valid\n",
    "        if pos >= self.length() + 1:\n",
    "            raise IndexError(\"Index out of range\")\n",
    "        \n",
    "        # Initialize a counter\n",
    "        count = 0\n",
    "        # Set the current pointer to the head node\n",
    "        current = self.head\n",
    "        # Set the previous pointer to None\n",
    "        prev = None\n",
    "        # When the counter value is smaller than the position want to insert\n",
    "        while count < pos:\n",
    "            # Move the previous pointer to the current node\n",
    "            prev = current\n",
    "            # Move the current pointer to the next node\n",
    "            current = current.next\n",
    "            # Increment the counter\n",
    "            count += 1\n",
    "                           \n",
    "        # Create a new node\n",
    "        temp = Node(item)\n",
    "        # Set the next of the new node as the next of current node \n",
    "        temp.setNext(current)\n",
    "        \n",
    "        # If the previous pointer is valid (We are not inserting to the front of the list)\n",
    "        if prev:\n",
    "            # Reset the next of the previous node to the new node\n",
    "            prev.setNext(temp)\n",
    "        # If the previous pointer is None (We are inserting an item to the front of the list)\n",
    "        else:\n",
    "            # Set the new item as the head of the list\n",
    "            self.head = temp\n",
    "    \n",
    "    # Return the index in the list of the first item whose value is x. It is an error if there is no such item\n",
    "    def index(self, item):\n",
    "        # Initialize a counter\n",
    "        count = 0\n",
    "        # Set the current node to the head node\n",
    "        current = self.head\n",
    "        # When the current node value is not eqaul to the value try to find\n",
    "        while current.getData() != item and count < self.length():\n",
    "            # Move the current node to the next node\n",
    "            current = current.next\n",
    "            # Increment the counter\n",
    "            count += 1\n",
    "        \n",
    "        # If the reach the end of the list and still haven't found matched item\n",
    "        if count == self.length():\n",
    "            raise ValueError(\"No such item in the list\")\n",
    "        else:\n",
    "            # Return the index of the found value\n",
    "            return count\n",
    "        \n",
    "    # Define a function to pop out the last item in the list    \n",
    "    def pop(self):\n",
    "        # Call on the richer version of pop function\n",
    "        return self.pop(pos = 0)\n",
    "        \n",
    "    # Define a function to pop out an item at a certain position in the list\n",
    "    # Position starts from 0. Supports negative index position\n",
    "    def pop(self, pos = 0):\n",
    "        \n",
    "        # If this is an empty list\n",
    "        if self.isEmpty():\n",
    "            print(\"The list is empty. Nothing to pop\")\n",
    "            return\n",
    "        \n",
    "        # If the index position is negative, convert it to the correct positive value\n",
    "        if pos < 0:\n",
    "            pos = self.length() + pos\n",
    "        \n",
    "        # Check whether the index position is valid\n",
    "        if pos >= self.length():\n",
    "            raise IndexError(\"Index out of range\")\n",
    "                \n",
    "        # Initialize a counter\n",
    "        count = 0\n",
    "        # Set the current node to the head node\n",
    "        current = self.head\n",
    "        # Set the previous node to None at first\n",
    "        prev = None\n",
    "        # When the counter value is smaller than the position want to insert\n",
    "        while count < pos:\n",
    "            # Move the previous node pointer to current node\n",
    "            prev = current\n",
    "            # Move the current node pointer to the next node\n",
    "            current = current.next\n",
    "            # Increment the counter\n",
    "            count += 1\n",
    "        \n",
    "        # Get the item vlaue need to pop\n",
    "        pop_value = current.getData()\n",
    "        \n",
    "        # If the previous node is not None\n",
    "        if prev:\n",
    "            # Set the next of the previous node as the next of current node \n",
    "            prev.setNext(current.getNext())\n",
    "        # If the previous node is None (The list only have a head node)\n",
    "        else:\n",
    "            self.head = current.getNext()\n",
    "            \n",
    "        # Return the pop value\n",
    "        return pop_value\n",
    "        \n",
    "    # Define the print() functionality of the class\n",
    "    def __str__(self):\n",
    "        # If the list is empty\n",
    "        if self.isEmpty():\n",
    "            return \"[]\"\n",
    "        \n",
    "        # Set current node pointer to the head of the linked list\n",
    "        current = self.head\n",
    "        # Initialize the string representation\n",
    "        repr_string = '[{}'.format(current.getData())\n",
    "        \n",
    "        # Loop through the list\n",
    "        for i in range(self.length()):\n",
    "            # Move the current node to the next node\n",
    "            current = current.getNext()\n",
    "            # If this is the last node\n",
    "            if i == self.length() - 1:\n",
    "                if current:\n",
    "                    repr_string += ',{}]'.format(current)\n",
    "                else:\n",
    "                    repr_string += ']'\n",
    "            # If this is not the last node\n",
    "            else:\n",
    "                repr_string += ',{}'.format(current.getData())\n",
    "        # Return the complete string representation of the list\n",
    "        return repr_string"
   ]
  },
  {
   "cell_type": "markdown",
   "metadata": {
    "button": false,
    "new_sheet": false,
    "run_control": {
     "read_only": false
    }
   },
   "source": [
    "## Testing\n",
    "\n",
    "Test your class by:\n",
    "\n",
    " * Inserting some items.\n",
    " * Printing list items.\n",
    " * Removing some items, then printing again.\n",
    " * Insert a few more items print the list items.\n",
    " * Other tests of your own design.\n"
   ]
  },
  {
   "cell_type": "markdown",
   "metadata": {},
   "source": [
    "##### Create an empty list"
   ]
  },
  {
   "cell_type": "code",
   "execution_count": 3,
   "metadata": {
    "button": false,
    "new_sheet": false,
    "run_control": {
     "read_only": false
    }
   },
   "outputs": [
    {
     "name": "stdout",
     "output_type": "stream",
     "text": [
      "[]\n"
     ]
    }
   ],
   "source": [
    "# Initialize a list\n",
    "ul = UnorderedList()\n",
    "print(ul) # This should be []"
   ]
  },
  {
   "cell_type": "markdown",
   "metadata": {},
   "source": [
    "##### 1. Inserting some items\n",
    "###### (a) Use `append` function"
   ]
  },
  {
   "cell_type": "code",
   "execution_count": 4,
   "metadata": {},
   "outputs": [
    {
     "name": "stdout",
     "output_type": "stream",
     "text": [
      "[3]\n"
     ]
    }
   ],
   "source": [
    "# Append 3 to the empty list\n",
    "ul.append(3)\n",
    "print(ul) # Should be [3]"
   ]
  },
  {
   "cell_type": "code",
   "execution_count": 5,
   "metadata": {},
   "outputs": [
    {
     "name": "stdout",
     "output_type": "stream",
     "text": [
      "[3,5]\n"
     ]
    }
   ],
   "source": [
    "# Append 5 to the empty list\n",
    "ul.append(5)\n",
    "print(ul) # Should be [3,5]"
   ]
  },
  {
   "cell_type": "markdown",
   "metadata": {},
   "source": [
    "###### (b) Use `insert` function"
   ]
  },
  {
   "cell_type": "code",
   "execution_count": 6,
   "metadata": {},
   "outputs": [
    {
     "name": "stdout",
     "output_type": "stream",
     "text": [
      "[7,3,5]\n"
     ]
    }
   ],
   "source": [
    "# Insert 7 to the list at index 0\n",
    "ul.insert(pos = 0, item = 7)\n",
    "print(ul) # Should be [7,3,5]"
   ]
  },
  {
   "cell_type": "code",
   "execution_count": 7,
   "metadata": {},
   "outputs": [
    {
     "name": "stdout",
     "output_type": "stream",
     "text": [
      "[7,3,10,5]\n"
     ]
    }
   ],
   "source": [
    "# Insert 10 to the list at index 2\n",
    "ul.insert(pos = 2, item = 10)\n",
    "print(ul) # Should be [7,3,10,5]"
   ]
  },
  {
   "cell_type": "code",
   "execution_count": 8,
   "metadata": {},
   "outputs": [
    {
     "name": "stdout",
     "output_type": "stream",
     "text": [
      "[7,3,10,5,21]\n"
     ]
    }
   ],
   "source": [
    "# Insert 21 to the list at index -1\n",
    "ul.insert(pos = -1, item = 21)\n",
    "print(ul) # Should be [7,3,10,5,21]"
   ]
  },
  {
   "cell_type": "markdown",
   "metadata": {},
   "source": [
    "##### 2. Remove some items using `pop` function"
   ]
  },
  {
   "cell_type": "code",
   "execution_count": 9,
   "metadata": {},
   "outputs": [
    {
     "name": "stdout",
     "output_type": "stream",
     "text": [
      "[3,10,5,21]\n"
     ]
    }
   ],
   "source": [
    "# Pop the first item out of the list\n",
    "ul.pop()\n",
    "print(ul) # Should be [3,10,5,21]"
   ]
  },
  {
   "cell_type": "code",
   "execution_count": 10,
   "metadata": {},
   "outputs": [
    {
     "name": "stdout",
     "output_type": "stream",
     "text": [
      "[3,10,21]\n"
     ]
    }
   ],
   "source": [
    "# Pop the item at index 2 out of the list\n",
    "ul.pop(2)\n",
    "print(ul) # Should be [3,10,21]"
   ]
  },
  {
   "cell_type": "code",
   "execution_count": 11,
   "metadata": {},
   "outputs": [
    {
     "name": "stdout",
     "output_type": "stream",
     "text": [
      "[3,10]\n"
     ]
    }
   ],
   "source": [
    "# Pop the item at index -1 out of the list (last item)\n",
    "ul.pop(-1)\n",
    "print(ul) # Should be [3,10]"
   ]
  },
  {
   "cell_type": "markdown",
   "metadata": {},
   "source": [
    "##### 3. Insert a few more items and print the list"
   ]
  },
  {
   "cell_type": "code",
   "execution_count": 12,
   "metadata": {},
   "outputs": [
    {
     "name": "stdout",
     "output_type": "stream",
     "text": [
      "[360,23,-106,99.5,6,3,10]\n"
     ]
    }
   ],
   "source": [
    "# Create some items to insert onto the list\n",
    "more_items = [6,99.5,-106,23,360]\n",
    "# Add items one by one to the front of the list\n",
    "for item in more_items:\n",
    "    ul.insert(0,item)\n",
    "print(ul) # Should be [360,23,-106,99.5,6,3,10]"
   ]
  },
  {
   "cell_type": "markdown",
   "metadata": {},
   "source": [
    "##### 4. Test the `index` function"
   ]
  },
  {
   "cell_type": "code",
   "execution_count": 13,
   "metadata": {},
   "outputs": [
    {
     "data": {
      "text/plain": [
       "1"
      ]
     },
     "execution_count": 13,
     "metadata": {},
     "output_type": "execute_result"
    }
   ],
   "source": [
    "ul.index(23) # Should be 1"
   ]
  },
  {
   "cell_type": "code",
   "execution_count": 14,
   "metadata": {},
   "outputs": [
    {
     "data": {
      "text/plain": [
       "6"
      ]
     },
     "execution_count": 14,
     "metadata": {},
     "output_type": "execute_result"
    }
   ],
   "source": [
    "ul.index(10) # Should be 6"
   ]
  },
  {
   "cell_type": "code",
   "execution_count": null,
   "metadata": {},
   "outputs": [],
   "source": []
  }
 ],
 "metadata": {
  "kernelspec": {
   "display_name": "Python 3",
   "language": "python",
   "name": "python3"
  },
  "language_info": {
   "codemirror_mode": {
    "name": "ipython",
    "version": 3
   },
   "file_extension": ".py",
   "mimetype": "text/x-python",
   "name": "python",
   "nbconvert_exporter": "python",
   "pygments_lexer": "ipython3",
   "version": "3.6.4"
  }
 },
 "nbformat": 4,
 "nbformat_minor": 2
}
