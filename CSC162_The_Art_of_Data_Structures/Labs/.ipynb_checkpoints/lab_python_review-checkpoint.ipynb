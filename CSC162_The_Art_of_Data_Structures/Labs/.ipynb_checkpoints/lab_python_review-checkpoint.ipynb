{
 "cells": [
  {
   "cell_type": "markdown",
   "metadata": {
    "button": false,
    "new_sheet": false,
    "run_control": {
     "read_only": false
    }
   },
   "source": [
    "# Lab 1: Python Review"
   ]
  },
  {
   "cell_type": "markdown",
   "metadata": {
    "button": false,
    "new_sheet": false,
    "run_control": {
     "read_only": false
    }
   },
   "source": [
    "## Fraction Class\n",
    "\n",
    "The textbook provides this minimally function `Fraction` class. You will complete several exercises to improve on the design of this custom data type.\n",
    "\n",
    "The function `gcd`, defined below, is necessary for `Fraction` to work."
   ]
  },
  {
   "cell_type": "code",
   "execution_count": 1,
   "metadata": {
    "button": false,
    "new_sheet": false,
    "run_control": {
     "read_only": false
    }
   },
   "outputs": [],
   "source": [
    "def gcd(m, n):\n",
    "    \"\"\"Greatest Common Divisor\n",
    "    M&R listing 1.6: Greatest Common Divisor Function\n",
    "    \"\"\"\n",
    "    while m % n != 0:\n",
    "        oldm = m\n",
    "        oldn = n\n",
    "\n",
    "        m = oldn\n",
    "        n = oldm % oldn\n",
    "    return n"
   ]
  },
  {
   "cell_type": "markdown",
   "metadata": {
    "button": false,
    "new_sheet": false,
    "run_control": {
     "read_only": false
    }
   },
   "source": [
    "## Your Exercises\n",
    "\n",
    " 1. Implement these simple 'getter' methods for class `Fraction`:\n",
    " \n",
    "    * `get_num` to return the numerator\n",
    "    * `get_den` to return the denominator.\n",
    "\n",
    " 1. In many ways it would be better if all fractions were maintained in lowest\n",
    "    terms right from the start. Modify the initializer for the `Fraction`\n",
    "    class so that the GCD alogorithm is used to reduce fractions immediately. \n",
    "    Notice that this means the `__add__` method no longer needs to reduce. Make the\n",
    "    necessary modifications.\n",
    "    \n",
    " 1. Implement the remaining relational operators to allow you to compare one `Fraction` object, with another.\n",
    "\n",
    "     * `__gt__`\n",
    "     * `__ge__`\n",
    "     * `__lt__`\n",
    "     * `__le__`\n",
    "     * `__ne__`\n",
    "     \n",
    " 1. In the definition of fractions we assumed that negative fractions have a\n",
    "    negative numerator and a positive denominator. Using a negative denominator\n",
    "    would cause some of the relational operators to give incorrect results. In\n",
    "    general, this is an unnecessary constraint. Modify the constructor to allow\n",
    "    the user to pass a negative denominator so that all of the operators continue\n",
    "    to work properly."
   ]
  },
  {
   "cell_type": "markdown",
   "metadata": {
    "button": false,
    "new_sheet": false,
    "run_control": {
     "read_only": false
    }
   },
   "source": [
    "## <font color=green>Your Solution</font>\n",
    "\n",
    "Implement your solution to the exercises by modifying the `Fraction` class, below, and add your code to it. To make it clear, please use docstrings and comments where appropriate to state which parts of the `Fraction` class are being modified, and for *which* exercise."
   ]
  },
  {
   "cell_type": "code",
   "execution_count": 2,
   "metadata": {
    "button": false,
    "new_sheet": false,
    "run_control": {
     "read_only": false
    }
   },
   "outputs": [],
   "source": [
    "class Fraction:\n",
    "    \"\"\"A class to represent fractions\n",
    "    \n",
    "    This code needs to be improved according to the exercises!\n",
    "    \n",
    "    Signature: Kefu Zhu\n",
    "    \"\"\"\n",
    "    def __init__(self, top, bottom):   \n",
    "        # Exercise 4\n",
    "        # Check whether this is a negative fraction\n",
    "        if(top < 0 & bottom > 0) | (bottom < 0 & top > 0):\n",
    "            # Always put the negative sign on the top of the fraction\n",
    "            top = abs(top) * -1\n",
    "            bottom = abs(bottom)\n",
    "        \n",
    "        # Find the greatest common divisor of top and bottom\n",
    "        GCD = gcd(top,bottom)\n",
    "        \n",
    "        # Exercise 2\n",
    "        # Reduce the fraction to the lowest term\n",
    "        self.num = top//GCD\n",
    "        self.den = bottom//GCD\n",
    "        \n",
    "        \n",
    "    def __str__(self):\n",
    "        return str(self.num) + \"/\" + str(self.den)\n",
    "    \n",
    "    # Exercise 1\n",
    "    def get_num(self):\n",
    "        return self.num\n",
    "    \n",
    "    # Exercise 1\n",
    "    def get_den(self):\n",
    "        return self.den\n",
    "\n",
    "    def show(self):\n",
    "        \"\"\"Display the fraction\"\"\"\n",
    "        print(self.num, \"/\", self.den)\n",
    "\n",
    "    def __add__(self, otherfraction):\n",
    "        newnum = (self.num*otherfraction.den +\n",
    "                  self.den*otherfraction.num)\n",
    "        newden = self.den * otherfraction.den\n",
    "        \n",
    "# Modification for Exercise 2        \n",
    "#         common = gcd(newnum, newden)\n",
    "#         return Fraction(newnum//common, newden//common)\n",
    "        return Fraction(newnum,newden)\n",
    "\n",
    "    def __eq__(self, other):\n",
    "        firstnum = self.num * other.den\n",
    "        secondnum = other.num * self.den\n",
    "        return firstnum == secondnum\n",
    "            \n",
    "    # Exercise 3    \n",
    "    def __ne__(self, other):\n",
    "        firstnum = self.num * other.den\n",
    "        secondnum = other.num * self.den\n",
    "        return firstnum != secondnum\n",
    "    \n",
    "    # Exercise 3 \n",
    "    def __gt__(self, other):\n",
    "        firstnum = self.num * other.den\n",
    "        secondnum = other.num * self.den\n",
    "        return firstnum > secondnum\n",
    "    \n",
    "    # Exercise 3 \n",
    "    def __ge__(self, other):\n",
    "        firstnum = self.num * other.den\n",
    "        secondnum = other.num * self.den\n",
    "        return firstnum >= secondnum\n",
    "    \n",
    "    # Exercise 3 \n",
    "    def __lt__(self, other):\n",
    "        firstnum = self.num * other.den\n",
    "        secondnum = other.num * self.den\n",
    "        return firstnum < secondnum\n",
    "    \n",
    "    # Exercise 3 \n",
    "    def __le__(self, other):\n",
    "        firstnum = self.num * other.den\n",
    "        secondnum = other.num * self.den\n",
    "        return firstnum <= secondnum\n"
   ]
  },
  {
   "cell_type": "markdown",
   "metadata": {
    "button": false,
    "new_sheet": false,
    "run_control": {
     "read_only": false
    }
   },
   "source": [
    "## Testing\n",
    "\n",
    "For full credit, you must also test your solution so that you can prove to the grade your solution works."
   ]
  },
  {
   "cell_type": "code",
   "execution_count": 3,
   "metadata": {
    "button": false,
    "new_sheet": false,
    "run_control": {
     "read_only": false
    }
   },
   "outputs": [],
   "source": [
    "# Make two fractions\n",
    "x = Fraction(-1, 2)\n",
    "y = Fraction(2, -3)"
   ]
  },
  {
   "cell_type": "code",
   "execution_count": 4,
   "metadata": {
    "button": false,
    "new_sheet": false,
    "run_control": {
     "read_only": false
    }
   },
   "outputs": [
    {
     "name": "stdout",
     "output_type": "stream",
     "text": [
      "-7/6\n"
     ]
    }
   ],
   "source": [
    "# Check the __add__ function\n",
    "print(x+y)"
   ]
  },
  {
   "cell_type": "code",
   "execution_count": 5,
   "metadata": {
    "button": false,
    "new_sheet": false,
    "run_control": {
     "read_only": false
    }
   },
   "outputs": [
    {
     "name": "stdout",
     "output_type": "stream",
     "text": [
      "False\n"
     ]
    }
   ],
   "source": [
    "# Check the __eq__ function\n",
    "print(x == y)"
   ]
  },
  {
   "cell_type": "code",
   "execution_count": 6,
   "metadata": {},
   "outputs": [
    {
     "name": "stdout",
     "output_type": "stream",
     "text": [
      "True\n"
     ]
    }
   ],
   "source": [
    "# Check the __ne__ function\n",
    "print(x != y)"
   ]
  },
  {
   "cell_type": "code",
   "execution_count": 7,
   "metadata": {},
   "outputs": [
    {
     "name": "stdout",
     "output_type": "stream",
     "text": [
      "True\n"
     ]
    }
   ],
   "source": [
    "# Check the __gt__ function\n",
    "print(x > y)"
   ]
  },
  {
   "cell_type": "code",
   "execution_count": 8,
   "metadata": {},
   "outputs": [
    {
     "name": "stdout",
     "output_type": "stream",
     "text": [
      "True\n"
     ]
    }
   ],
   "source": [
    "# Check the __ge__ function\n",
    "print(x >= y)"
   ]
  },
  {
   "cell_type": "code",
   "execution_count": 9,
   "metadata": {},
   "outputs": [
    {
     "name": "stdout",
     "output_type": "stream",
     "text": [
      "False\n"
     ]
    }
   ],
   "source": [
    "# Check the __lt__ function\n",
    "print(x < y)"
   ]
  },
  {
   "cell_type": "code",
   "execution_count": 10,
   "metadata": {},
   "outputs": [
    {
     "name": "stdout",
     "output_type": "stream",
     "text": [
      "False\n"
     ]
    }
   ],
   "source": [
    "# Check the __le__ function\n",
    "print(x <= y)"
   ]
  },
  {
   "cell_type": "code",
   "execution_count": 11,
   "metadata": {},
   "outputs": [],
   "source": [
    "# Make two fractions\n",
    "x = Fraction(-2, 4)\n",
    "y = Fraction(4, -8)"
   ]
  },
  {
   "cell_type": "code",
   "execution_count": 12,
   "metadata": {},
   "outputs": [
    {
     "name": "stdout",
     "output_type": "stream",
     "text": [
      "False\n"
     ]
    }
   ],
   "source": [
    "# Check the __gt__ function\n",
    "print(x > y)"
   ]
  },
  {
   "cell_type": "code",
   "execution_count": 13,
   "metadata": {},
   "outputs": [
    {
     "name": "stdout",
     "output_type": "stream",
     "text": [
      "True\n"
     ]
    }
   ],
   "source": [
    "# Check the __ge__ function\n",
    "print(x >= y)"
   ]
  },
  {
   "cell_type": "code",
   "execution_count": 14,
   "metadata": {},
   "outputs": [
    {
     "name": "stdout",
     "output_type": "stream",
     "text": [
      "False\n"
     ]
    }
   ],
   "source": [
    "# Check the __lt__ function\n",
    "print(x < y)"
   ]
  },
  {
   "cell_type": "code",
   "execution_count": 15,
   "metadata": {},
   "outputs": [
    {
     "name": "stdout",
     "output_type": "stream",
     "text": [
      "True\n"
     ]
    }
   ],
   "source": [
    "# Check the __le__ function\n",
    "print(x <= y)"
   ]
  },
  {
   "cell_type": "code",
   "execution_count": 16,
   "metadata": {},
   "outputs": [
    {
     "name": "stdout",
     "output_type": "stream",
     "text": [
      "False\n"
     ]
    }
   ],
   "source": [
    "# Check the __ne__ function\n",
    "print(x != y)"
   ]
  },
  {
   "cell_type": "code",
   "execution_count": null,
   "metadata": {},
   "outputs": [],
   "source": []
  }
 ],
 "metadata": {
  "kernelspec": {
   "display_name": "Python 3",
   "language": "python",
   "name": "python3"
  },
  "language_info": {
   "codemirror_mode": {
    "name": "ipython",
    "version": 3
   },
   "file_extension": ".py",
   "mimetype": "text/x-python",
   "name": "python",
   "nbconvert_exporter": "python",
   "pygments_lexer": "ipython3",
   "version": "3.6.4"
  }
 },
 "nbformat": 4,
 "nbformat_minor": 2
}
