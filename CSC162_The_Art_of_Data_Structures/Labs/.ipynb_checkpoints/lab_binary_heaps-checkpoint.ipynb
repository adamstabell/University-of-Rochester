{
 "cells": [
  {
   "cell_type": "markdown",
   "metadata": {
    "button": false,
    "new_sheet": false,
    "run_control": {
     "read_only": false
    }
   },
   "source": [
    "# Lab 11: Priority Queues with Binary Heaps"
   ]
  },
  {
   "cell_type": "markdown",
   "metadata": {
    "button": false,
    "new_sheet": false,
    "run_control": {
     "read_only": false
    }
   },
   "source": [
    "## <font color=DarkRed>Your Exercise: Implement a Priority Queue</font>\n",
    "\n",
    "Implement a new class called `PriorityQueue`, based on the `BinaryHeap` class. The heap will be a **min heap**, meaning the smalles priority value is the root of the tree, and thus has the highest priority.\n",
    "\n",
    "You have two objectives:\n",
    "\n",
    "1. When creating a binary heap for your `PriorityQueue`, you will now **limit** the heap size. In other words, the heap only keeps track of the $n$ most important items. If the heap grows in size to more than $n$ items the least important item is *dropped*. \n",
    "\n",
    "\n",
    "\n",
    "2. Your `PriorityQueue` class should implement the following methods:\n",
    "  * `__init__(n)`\n",
    "  \n",
    "     Initialize an empty priority queue, with a maximum size of $n$.\n",
    "     <br/>\n",
    "     <br/>\n",
    "\n",
    "  * `enqueue(val, priority)`\n",
    "  \n",
    "     Adds `val` (any object, e.g. `str` or `int`) to the priority queue with the specified priority (an `int`). Smaller priority numbers correspond to higher priorities, which means that all priority 1 elements are dequeued before any priority 2 elements.\n",
    "\n",
    "     Negative priorities are allowed and are not treated differently from other values. That is, a priority of -1 comes before one of 0, which comes before 1, 2, 3, etc.\n",
    "\n",
    "     This function is **required** to check that priority numbers are `ints`. \n",
    "     <br/>\n",
    "     <br/>\n",
    "     \n",
    "  * `dequeue`\n",
    "  \n",
    "     Removes and returns the highest priority value. If multiple entries in the queue have the same priority, those values are dequeued in the same order in which they were enqueued.\n",
    "\n",
    "     This function is **require** to raise an exception if the queue is empty. \n",
    "\n",
    "\n",
    "*Hint:* Storing tuple pairs of values will be very helpful here."
   ]
  },
  {
   "cell_type": "markdown",
   "metadata": {
    "button": false,
    "new_sheet": false,
    "run_control": {
     "read_only": false
    }
   },
   "source": [
    "## <font color=green>Your Solution</font>\n",
    "\n",
    "*Use a variety of code, Markdown (text) cells below to create your solution. Nice outputs would be timing results, and even plots. You will be graded not only on correctness, but the clarity of your code, descriptive text and other output. Keep it succinct!*"
   ]
  },
  {
   "cell_type": "code",
   "execution_count": 1,
   "metadata": {},
   "outputs": [],
   "source": [
    "class BinHeap:\n",
    "    def __init__(self):\n",
    "        self.heapList = [0]\n",
    "        self.currentSize = 0\n",
    "    \n",
    "    def __str__(self):\n",
    "        return str(self.heapList)\n",
    "        \n",
    "    def percUp(self,i):\n",
    "        while i // 2 > 0:\n",
    "            # If the current node is smaller than its parent node, swap them\n",
    "            if self.heapList[i] < self.heapList[i // 2]:\n",
    "                tmp = self.heapList[i // 2]\n",
    "                self.heapList[i // 2] = self.heapList[i]\n",
    "                self.heapList[i] = tmp\n",
    "            # Get the new index of current node and continue compare the node with its new parent,\n",
    "            # untile it does not have any parent (it becomes the root node) or its parent is smaller than it\n",
    "            i = i // 2\n",
    "    \n",
    "    def insert(self,k):\n",
    "        self.heapList.append(k)\n",
    "        self.currentSize = self.currentSize + 1\n",
    "        self.percUp(self.currentSize)\n",
    "    \n",
    "    def percDown(self,i):\n",
    "        while (i * 2) <= self.currentSize:\n",
    "            mc = self.minChild(i)\n",
    "            if self.heapList[i] > self.heapList[mc]:\n",
    "                tmp = self.heapList[i]\n",
    "                self.heapList[i] = self.heapList[mc]\n",
    "                self.heapList[mc] = tmp\n",
    "            i = mc\n",
    "\n",
    "    def minChild(self,i):\n",
    "        if i * 2 + 1 > self.currentSize:\n",
    "            return i * 2\n",
    "        else:\n",
    "            if self.heapList[i*2] < self.heapList[i*2+1]:\n",
    "                return i * 2\n",
    "            else:\n",
    "                return i * 2 + 1\n",
    "    \n",
    "    def delMin(self):\n",
    "        retval = self.heapList[1]\n",
    "        self.heapList[1] = self.heapList[self.currentSize]\n",
    "        self.currentSize = self.currentSize - 1\n",
    "        self.heapList.pop()\n",
    "        self.percDown(1)\n",
    "        return retval\n",
    "    \n",
    "    # Find the position of max value in the heap list\n",
    "    def findMaxPos(self):\n",
    "        # Since this is a minHeap, the max value can only exist in the leaf\n",
    "        # Start scanning all leaf node\n",
    "        # First leaf position\n",
    "        i = 1 + self.currentSize//2\n",
    "        _max = i\n",
    "        # Unil all leaf nodes have been scanned\n",
    "        while i <= self.currentSize:\n",
    "            # If the next leaf node is larger than the current max value\n",
    "            if self.heapList[i] > self.heapList[_max]:\n",
    "                # Reset the position of max value\n",
    "                _max = i\n",
    "            # Increment o\n",
    "            i += 1\n",
    "        # Return the position of the max value in the heap list\n",
    "        return _max\n",
    "    \n",
    "    # Return the max value from the heap\n",
    "    def findMax(self):\n",
    "        return self.heapList[self.findMaxPos()]\n",
    "    \n",
    "    # Remove the max value from the heap\n",
    "    def delMax(self):\n",
    "        del self.heapList[self.findMaxPos()]\n",
    "        # Decrement the size of the heap\n",
    "        self.currentSize -= 1\n",
    "    \n",
    "    def buildHeap(self,alist):\n",
    "        i = len(alist) // 2\n",
    "        self.currentSize = len(alist)\n",
    "        self.heapList = [0] + alist[:]\n",
    "        while (i > 0):\n",
    "            self.percDown(i)\n",
    "            i = i - 1\n",
    "    \n",
    "    def __repr__(self):\n",
    "        return \"Min Heap: {}\".format(self.heapList)"
   ]
  },
  {
   "cell_type": "code",
   "execution_count": 2,
   "metadata": {},
   "outputs": [],
   "source": [
    "class PriorityQueue:\n",
    "    def __init__(self,n):\n",
    "        self.heap = BinHeap()\n",
    "        self.maxSize = n\n",
    "        self.itemPriorityDict = {}    \n",
    "    \n",
    "    def enqueue(self, val, priority):\n",
    "        t = None\n",
    "        # Verify the correctness of input priority variable type\n",
    "        if isinstance(priority, int):\n",
    "            # Initialize a boolean value to track whether the size of heap is changed\n",
    "            sizeChange = True\n",
    "            \n",
    "            # If the heap is full, remove the max item (least priority item) from the heap until \n",
    "            while self.heap.currentSize >= self.maxSize and sizeChange:\n",
    "                sizeChange = False\n",
    "                # Get the current max priority value in the heap\n",
    "                currentMax = self.heap.findMax()\n",
    "                t = currentMax\n",
    "                # If the current max priority value is larger than the new priority value \n",
    "                # (The new item has higher priority than the current least important item in the heap)\n",
    "                if currentMax > priority:\n",
    "                    # Dequeue the highest \"priority value\" (with the least priority)\n",
    "                    self.dequeue()\n",
    "                    # Reset sizeChange\n",
    "                    sizeChange = True\n",
    "                \n",
    "            \n",
    "            # If the while loop ends because the least priority item in the heap still has higher priority than the new item\n",
    "            # End the process. The new item won't be added to the priority queue and nothing changes.\n",
    "            if sizeChange is False:\n",
    "                return\n",
    "            \n",
    "            # If reach here, meaning the heap is not full and the new item is worth adding to the current priority queue\n",
    "            \n",
    "            # Insert the new priority value into heap\n",
    "            self.heap.insert(priority)\n",
    "            # If some existed items have the same priority\n",
    "            if priority in self.itemPriorityDict:\n",
    "                # Add the new item to the back of the list of items that have the same priority\n",
    "                self.itemPriorityDict[priority].append(val)\n",
    "            # If this is the first item that has such priority\n",
    "            else:\n",
    "                # Initialize the new key-value pair in the dictionary\n",
    "                self.itemPriorityDict[priority] = [val]                                \n",
    "        else:\n",
    "            raise ValueError(\"The priority value must be int\")\n",
    "    \n",
    "    def dequeue(self):\n",
    "        # Get the current max priority value in the heap\n",
    "        currentMax = self.heap.findMax()\n",
    "        # Remove the current max priority value from the heap\n",
    "        self.heap.delMax()\n",
    "        # Remove the first item with such priority from the dictionary\n",
    "        dequeueValue = self.itemPriorityDict[currentMax].pop(0)\n",
    "        # If the value list associated with this key is empty, remove that key from the dictionary\n",
    "        if self.itemPriorityDict[currentMax] == []:\n",
    "            del self.itemPriorityDict[currentMax]\n",
    "        \n",
    "        return dequeueValue\n",
    "    \n",
    "    def __repr__(self):\n",
    "        return str(self.itemPriorityDict)"
   ]
  },
  {
   "cell_type": "markdown",
   "metadata": {},
   "source": [
    "## Testing\n",
    "\n",
    "Test out the `PriorityQueue` to show it works as advertised."
   ]
  },
  {
   "cell_type": "markdown",
   "metadata": {},
   "source": [
    "#### Test the functionality of `enqueue(val, priority)`"
   ]
  },
  {
   "cell_type": "code",
   "execution_count": 3,
   "metadata": {},
   "outputs": [
    {
     "data": {
      "text/plain": [
       "{}"
      ]
     },
     "execution_count": 3,
     "metadata": {},
     "output_type": "execute_result"
    }
   ],
   "source": [
    "# Create an empty priority queue with maximum size of 3\n",
    "pq = PriorityQueue(3)\n",
    "# Show the current priority queue\n",
    "pq"
   ]
  },
  {
   "cell_type": "code",
   "execution_count": 4,
   "metadata": {},
   "outputs": [
    {
     "name": "stdout",
     "output_type": "stream",
     "text": [
      "[0, 1]\n"
     ]
    },
    {
     "data": {
      "text/plain": [
       "{1: ['Amigo']}"
      ]
     },
     "execution_count": 4,
     "metadata": {},
     "output_type": "execute_result"
    }
   ],
   "source": [
    "# Add item \"Amigo\" with priority of 1 onto the priority queue\n",
    "pq.enqueue('Amigo',1)\n",
    "# Show the heap list\n",
    "print(pq.heap)\n",
    "# Show the priority queue\n",
    "pq"
   ]
  },
  {
   "cell_type": "code",
   "execution_count": 5,
   "metadata": {},
   "outputs": [
    {
     "name": "stdout",
     "output_type": "stream",
     "text": [
      "[0, 1, 2]\n"
     ]
    },
    {
     "data": {
      "text/plain": [
       "{1: ['Amigo'], 2: ['Hola']}"
      ]
     },
     "execution_count": 5,
     "metadata": {},
     "output_type": "execute_result"
    }
   ],
   "source": [
    "# Add item \"Hola\" with priority of 2 onto the priority queue\n",
    "pq.enqueue('Hola',2)\n",
    "# Show the heap list\n",
    "print(pq.heap)\n",
    "# Show the priority queue\n",
    "pq"
   ]
  },
  {
   "cell_type": "code",
   "execution_count": 6,
   "metadata": {},
   "outputs": [
    {
     "name": "stdout",
     "output_type": "stream",
     "text": [
      "[0, 1, 2, 2]\n"
     ]
    },
    {
     "data": {
      "text/plain": [
       "{1: ['Amigo'], 2: ['Hola', 'Chipotle']}"
      ]
     },
     "execution_count": 6,
     "metadata": {},
     "output_type": "execute_result"
    }
   ],
   "source": [
    "# Add item \"Hola\" with priority of 2 onto the priority queue\n",
    "pq.enqueue('Chipotle',2)\n",
    "# Show the heap list\n",
    "print(pq.heap)\n",
    "# Show the priority queue\n",
    "pq"
   ]
  },
  {
   "cell_type": "code",
   "execution_count": 7,
   "metadata": {},
   "outputs": [
    {
     "name": "stdout",
     "output_type": "stream",
     "text": [
      "[0, -1, 2, 1]\n"
     ]
    },
    {
     "data": {
      "text/plain": [
       "{1: ['Amigo'], 2: ['Chipotle'], -1: ['Data Science']}"
      ]
     },
     "execution_count": 7,
     "metadata": {},
     "output_type": "execute_result"
    }
   ],
   "source": [
    "# Add item \"Data Science\" with priority of -1 onto the priority queue\n",
    "# Because the current queue is full, the least important item should be removed, and the new item should be added on\n",
    "pq.enqueue('Data Science',-1)\n",
    "# Show the heap list\n",
    "print(pq.heap)\n",
    "# Show the priority queue\n",
    "pq"
   ]
  },
  {
   "cell_type": "code",
   "execution_count": 8,
   "metadata": {},
   "outputs": [
    {
     "ename": "ValueError",
     "evalue": "The priority value must be int",
     "output_type": "error",
     "traceback": [
      "\u001b[1;31m---------------------------------------------------------------------------\u001b[0m",
      "\u001b[1;31mValueError\u001b[0m                                Traceback (most recent call last)",
      "\u001b[1;32m<ipython-input-8-b30100caffb5>\u001b[0m in \u001b[0;36m<module>\u001b[1;34m()\u001b[0m\n\u001b[0;32m      1\u001b[0m \u001b[1;31m# Try to add an item with inproper priority value onto the priority queue\u001b[0m\u001b[1;33m\u001b[0m\u001b[1;33m\u001b[0m\u001b[0m\n\u001b[1;32m----> 2\u001b[1;33m \u001b[0mpq\u001b[0m\u001b[1;33m.\u001b[0m\u001b[0menqueue\u001b[0m\u001b[1;33m(\u001b[0m\u001b[1;34m'Test'\u001b[0m\u001b[1;33m,\u001b[0m\u001b[1;36m0.3\u001b[0m\u001b[1;33m)\u001b[0m\u001b[1;33m\u001b[0m\u001b[0m\n\u001b[0m",
      "\u001b[1;32m<ipython-input-2-50485da60818>\u001b[0m in \u001b[0;36menqueue\u001b[1;34m(self, val, priority)\u001b[0m\n\u001b[0;32m     45\u001b[0m                 \u001b[0mself\u001b[0m\u001b[1;33m.\u001b[0m\u001b[0mitemPriorityDict\u001b[0m\u001b[1;33m[\u001b[0m\u001b[0mpriority\u001b[0m\u001b[1;33m]\u001b[0m \u001b[1;33m=\u001b[0m \u001b[1;33m[\u001b[0m\u001b[0mval\u001b[0m\u001b[1;33m]\u001b[0m\u001b[1;33m\u001b[0m\u001b[0m\n\u001b[0;32m     46\u001b[0m         \u001b[1;32melse\u001b[0m\u001b[1;33m:\u001b[0m\u001b[1;33m\u001b[0m\u001b[0m\n\u001b[1;32m---> 47\u001b[1;33m             \u001b[1;32mraise\u001b[0m \u001b[0mValueError\u001b[0m\u001b[1;33m(\u001b[0m\u001b[1;34m\"The priority value must be int\"\u001b[0m\u001b[1;33m)\u001b[0m\u001b[1;33m\u001b[0m\u001b[0m\n\u001b[0m\u001b[0;32m     48\u001b[0m \u001b[1;33m\u001b[0m\u001b[0m\n\u001b[0;32m     49\u001b[0m     \u001b[1;32mdef\u001b[0m \u001b[0mdequeue\u001b[0m\u001b[1;33m(\u001b[0m\u001b[0mself\u001b[0m\u001b[1;33m)\u001b[0m\u001b[1;33m:\u001b[0m\u001b[1;33m\u001b[0m\u001b[0m\n",
      "\u001b[1;31mValueError\u001b[0m: The priority value must be int"
     ]
    }
   ],
   "source": [
    "# Try to add an item with inproper priority value onto the priority queue\n",
    "pq.enqueue('Test',0.3)"
   ]
  },
  {
   "cell_type": "markdown",
   "metadata": {},
   "source": [
    "#### Test the functionality of `dequeue()`"
   ]
  },
  {
   "cell_type": "code",
   "execution_count": 9,
   "metadata": {},
   "outputs": [
    {
     "name": "stdout",
     "output_type": "stream",
     "text": [
      "[0, -1, 1]\n"
     ]
    },
    {
     "data": {
      "text/plain": [
       "{1: ['Amigo'], -1: ['Data Science']}"
      ]
     },
     "execution_count": 9,
     "metadata": {},
     "output_type": "execute_result"
    }
   ],
   "source": [
    "# Perforem dequeue\n",
    "pq.dequeue()\n",
    "# Show the heap list\n",
    "print(pq.heap)\n",
    "# Show the priority queue\n",
    "pq"
   ]
  },
  {
   "cell_type": "markdown",
   "metadata": {},
   "source": [
    "#### Add more items with different variable types to the `Priority Queue`"
   ]
  },
  {
   "cell_type": "code",
   "execution_count": 10,
   "metadata": {},
   "outputs": [
    {
     "name": "stdout",
     "output_type": "stream",
     "text": [
      "[0, -1, 1, 10]\n"
     ]
    },
    {
     "data": {
      "text/plain": [
       "{1: ['Amigo'], -1: ['Data Science'], 10: [99]}"
      ]
     },
     "execution_count": 10,
     "metadata": {},
     "output_type": "execute_result"
    }
   ],
   "source": [
    "# Add 99 with priority of 10 onto the priority queue\n",
    "pq.enqueue(99,10)\n",
    "# Show the heap list\n",
    "print(pq.heap)\n",
    "# Show the priority queue\n",
    "pq"
   ]
  },
  {
   "cell_type": "code",
   "execution_count": 11,
   "metadata": {},
   "outputs": [
    {
     "name": "stdout",
     "output_type": "stream",
     "text": [
      "[0, -1, 1, 1]\n"
     ]
    },
    {
     "data": {
      "text/plain": [
       "{1: ['Amigo', True], -1: ['Data Science']}"
      ]
     },
     "execution_count": 11,
     "metadata": {},
     "output_type": "execute_result"
    }
   ],
   "source": [
    "# Add 99 with priority of 10 onto the priority queue\n",
    "pq.enqueue(True,1)\n",
    "# Show the heap list\n",
    "print(pq.heap)\n",
    "# Show the priority queue\n",
    "pq"
   ]
  },
  {
   "cell_type": "code",
   "execution_count": 12,
   "metadata": {},
   "outputs": [
    {
     "name": "stdout",
     "output_type": "stream",
     "text": [
      "[0, -2, 1, -1]\n"
     ]
    },
    {
     "data": {
      "text/plain": [
       "{1: [True], -1: ['Data Science'], -2: [0.2]}"
      ]
     },
     "execution_count": 12,
     "metadata": {},
     "output_type": "execute_result"
    }
   ],
   "source": [
    "# Add 0.2 with priority of -2 onto the priority queue\n",
    "pq.enqueue(0.2,-2)\n",
    "# Show the heap list\n",
    "print(pq.heap)\n",
    "# Show the priority queue\n",
    "pq"
   ]
  },
  {
   "cell_type": "code",
   "execution_count": null,
   "metadata": {},
   "outputs": [],
   "source": []
  }
 ],
 "metadata": {
  "kernelspec": {
   "display_name": "Python 3",
   "language": "python",
   "name": "python3"
  }
 },
 "nbformat": 4,
 "nbformat_minor": 2
}
