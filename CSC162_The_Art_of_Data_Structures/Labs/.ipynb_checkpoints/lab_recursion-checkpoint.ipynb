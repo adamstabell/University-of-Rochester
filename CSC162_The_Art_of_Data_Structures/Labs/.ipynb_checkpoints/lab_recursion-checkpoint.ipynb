{
 "cells": [
  {
   "cell_type": "markdown",
   "metadata": {
    "button": false,
    "new_sheet": false,
    "run_control": {
     "read_only": false
    }
   },
   "source": [
    "# Lab 7: Recursion"
   ]
  },
  {
   "cell_type": "markdown",
   "metadata": {
    "button": false,
    "new_sheet": false,
    "run_control": {
     "read_only": false
    }
   },
   "source": [
    "## <font color=DarkRed>Your Exercise: Anagrams and Word Jumbles </font>\n",
    "\n",
    "A [word jumble](https://en.wikipedia.org/wiki/Jumble) is a word game where a randomized series of characters must be rearranged to spell a particular (English) word. For example the jumble `\"plaep\"` can be decoded as `\"apple\"`.\n",
    "\n",
    "Your assignment is to do the following:\n",
    "\n",
    " 1. Write a function `jumble_decode` that takes a jumbled word as an input parameter. \n",
    "    * It will generate all the anagrams for that jumbled word using the `anagrams` function (see below).\n",
    "    <br/><br/>\n",
    "    \n",
    "    * Use a \"dictionary file\" (a text file listing all known English words) to filter out the the anagrams that are valid English words.\n",
    "    <br/><br/>\n",
    "    \n",
    "    * This function must return a list of of valid English words. Please do **not** print the results.\n",
    "<br/><br/>\n",
    " 2. Write a function `anagrams` that will generate all the anagrams for a given word (in our case, we'll be providing it jumbled words. This function:\n",
    "    * **must** use recursion to solve for the anagrams!\n",
    "    <br/><br/>\n",
    "    * **must** return a Python list of all generated anagrams (regardless of whether they are valid English words).\n",
    "    \n",
    "\n",
    "*Tip*: I have provided you with `words_list`, a function that will return a Python list of 274,926 words to use for finding valid English words from your anagrams. This can be your \"dictionary file\"."
   ]
  },
  {
   "cell_type": "markdown",
   "metadata": {
    "button": false,
    "new_sheet": false,
    "run_control": {
     "read_only": false
    }
   },
   "source": [
    "## <font color=green>Your Solution</font>\n",
    "\n",
    "*Use a variety of code, Markdown (text) cells below to create your solution. Nice outputs would be timing results, and even plots. You will be graded not only on correctness, but the clarity of your code, descriptive text and other output. Keep it succinct!*"
   ]
  },
  {
   "cell_type": "code",
   "execution_count": 1,
   "metadata": {},
   "outputs": [],
   "source": [
    "import requests\n",
    "def words_list():\n",
    "    \"\"\"Downloads and procsses a word list containing 274,926 words!\n",
    "    You may need to install the 'requests' package through the `pip install requests`.\n",
    "    \"\"\"\n",
    "    req = requests.get(\"https://raw.githubusercontent.com/sindresorhus/word-list/master/words.txt\")\n",
    "    words = req.text.split(\"\\n\")\n",
    "    return words"
   ]
  },
  {
   "cell_type": "code",
   "execution_count": 2,
   "metadata": {
    "button": false,
    "new_sheet": false,
    "run_control": {
     "read_only": false
    }
   },
   "outputs": [],
   "source": [
    "def jumble_decode(jumbled_word):\n",
    "    '''\n",
    "    This function decodes a jumbled word and returns its all possible valid form in a list.\n",
    "    Definition of a valid word is based on a word list (\"https://raw.githubusercontent.com/sindresorhus/word-list/master/words.txt\")\n",
    "    \n",
    "    Signature: Kefu Zhu\n",
    "    '''\n",
    "    # Get all anagrams for the jumbled word\n",
    "    anagrams_list = anagrams(jumbled_word) \n",
    "    # Return anagrams that are valid words\n",
    "    return [w for w in anagrams_list if w in words]"
   ]
  },
  {
   "cell_type": "code",
   "execution_count": 3,
   "metadata": {},
   "outputs": [],
   "source": [
    "def anagrams(word):\n",
    "    '''\n",
    "    This function returns all possible permutations (anagrams) for a given word\n",
    "    Input: str\n",
    "    Output: List(str)\n",
    "    \n",
    "    Signature: Kefu Zhu\n",
    "    '''\n",
    "    # **Base case**: \n",
    "    # If the word only has one letter, just return the word itself\n",
    "    if len(word) == 1:\n",
    "        return word\n",
    "    \n",
    "    # Create an empty set for the storage of possible permutations \n",
    "    # (Use set() here for the benefit of removing any possible duplicates)\n",
    "    result = set()\n",
    "    \n",
    "    # Loop through all letters in the word\n",
    "    for i in range(0,len(word)):\n",
    "        # Fix the current letter as the first letter in the permutation\n",
    "        cur = word[i]\n",
    "        # Get the remainig letters as a string\n",
    "        remains = word[:i]+word[i+1:]\n",
    "        # **Recursion**: \n",
    "        # Perform anagrams() on the rest of the letters\n",
    "        permut = anagrams(remains)\n",
    "        # Append the permutation letter to the end. And append the permutation result to the list\n",
    "        for x in permut:\n",
    "            result.add(cur + x)\n",
    "    \n",
    "    # Return the all possible permutations of the word as a list\n",
    "    return list(result)"
   ]
  },
  {
   "cell_type": "markdown",
   "metadata": {
    "button": false,
    "new_sheet": false,
    "run_control": {
     "read_only": false
    }
   },
   "source": [
    "## Testing\n",
    "\n",
    "Test your class by calling `jumble_decode` on jumbled words and see if your anagram program correctly provides viable English word solutions of for that jumbled word."
   ]
  },
  {
   "cell_type": "code",
   "execution_count": 4,
   "metadata": {},
   "outputs": [],
   "source": [
    "# Get the list of words\n",
    "words = words_list()"
   ]
  },
  {
   "cell_type": "code",
   "execution_count": 5,
   "metadata": {
    "button": false,
    "new_sheet": false,
    "run_control": {
     "read_only": false
    }
   },
   "outputs": [
    {
     "data": {
      "text/plain": [
       "['pepla', 'appel', 'apple']"
      ]
     },
     "execution_count": 5,
     "metadata": {},
     "output_type": "execute_result"
    }
   ],
   "source": [
    "# For example\n",
    "jumble_decode(\"plaep\")"
   ]
  },
  {
   "cell_type": "code",
   "execution_count": 7,
   "metadata": {},
   "outputs": [
    {
     "data": {
      "text/plain": [
       "['unicorn']"
      ]
     },
     "execution_count": 7,
     "metadata": {},
     "output_type": "execute_result"
    }
   ],
   "source": [
    "jumble_decode(\"oriuncn\")"
   ]
  },
  {
   "cell_type": "code",
   "execution_count": null,
   "metadata": {},
   "outputs": [],
   "source": []
  }
 ],
 "metadata": {
  "kernelspec": {
   "display_name": "Python 3",
   "language": "python",
   "name": "python3"
  },
  "language_info": {
   "codemirror_mode": {
    "name": "ipython",
    "version": 3
   },
   "file_extension": ".py",
   "mimetype": "text/x-python",
   "name": "python",
   "nbconvert_exporter": "python",
   "pygments_lexer": "ipython3",
   "version": "3.6.4"
  }
 },
 "nbformat": 4,
 "nbformat_minor": 2
}
