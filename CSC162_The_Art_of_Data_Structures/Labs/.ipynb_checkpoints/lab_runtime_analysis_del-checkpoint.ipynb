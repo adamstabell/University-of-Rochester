{
 "cells": [
  {
   "cell_type": "markdown",
   "metadata": {
    "button": false,
    "new_sheet": false,
    "run_control": {
     "read_only": false
    }
   },
   "source": [
    "\n",
    "# Lab 2: Runtime Analysis"
   ]
  },
  {
   "cell_type": "markdown",
   "metadata": {
    "button": false,
    "new_sheet": false,
    "run_control": {
     "read_only": false
    }
   },
   "source": [
    "## <font color=DarkRed>Your Exercise: Performance of `del` keyword</font>\n",
    "\n",
    "Devise an experiment that compares the performance of the `del` operator on lists and dictionaries."
   ]
  },
  {
   "cell_type": "markdown",
   "metadata": {
    "button": false,
    "new_sheet": false,
    "run_control": {
     "read_only": false
    }
   },
   "source": [
    "### Helpful Code"
   ]
  },
  {
   "cell_type": "code",
   "execution_count": 1,
   "metadata": {
    "button": false,
    "new_sheet": false,
    "run_control": {
     "read_only": false
    }
   },
   "outputs": [],
   "source": [
    "# # Make two lists of random 'data'\n",
    "# import random \n",
    "# arry1 = [random.random() for i in range(50000)]\n",
    "# arry2 = [random.random() for i in range(50000)]\n",
    "\n",
    "# # Create a simple dictionary of key:val pairs using these two lists\n",
    "# d1 = dict(zip(arry1,arry2)) \n",
    "\n",
    "# # How the deletion of a dictionary key works\n",
    "# print(d1)\n",
    "# d_keys = list(d1.keys()) \n",
    "# del d1[d_keys[0]]\n",
    "# print(d1)\n",
    "\n",
    "# # Print an empty line for spacing\n",
    "# print()\n",
    "\n",
    "# # How the deletion of a list element works\n",
    "# print(arry1)\n",
    "# del arry1[0]\n",
    "# print(arry1)"
   ]
  },
  {
   "cell_type": "markdown",
   "metadata": {
    "button": false,
    "new_sheet": false,
    "run_control": {
     "read_only": false
    }
   },
   "source": [
    "## <font color=green>Your Solution</font>\n",
    "\n",
    "*Use a variety of code, Markdown (text) cells below to create your solution. Nice outputs would be timing results, and even plots. You will be graded not only on correctness, but the clarity of your code, descriptive text and other output. Keep it succinct.*"
   ]
  },
  {
   "cell_type": "code",
   "execution_count": 1,
   "metadata": {},
   "outputs": [],
   "source": [
    "# Import library\n",
    "import random\n",
    "import time\n",
    "import pandas as pd\n",
    "import matplotlib.pyplot as plt"
   ]
  },
  {
   "cell_type": "code",
   "execution_count": 2,
   "metadata": {},
   "outputs": [],
   "source": [
    "def del_dict(x,n):\n",
    "    '''\n",
    "    This is a function that evaluate the average processing time for del operation on a dictionary under n times of testing\n",
    "    \n",
    "    Signature: Kefu Zhu\n",
    "    '''\n",
    "    # Get some keys for deletion\n",
    "    d_keys = random.sample(list(x.keys()), n)\n",
    "    # Initialize an empty list to store the processing time of del operation for each test\n",
    "    del_time = []\n",
    "\n",
    "    # Delete one key from the list at a time. Performe the deletion multiple times and record the running time for every deletion\n",
    "    for k in d_keys:\n",
    "        # Record the start time\n",
    "        s = time.time()\n",
    "        # Delete the key from the dictionary\n",
    "        del x[k]\n",
    "        # Record the end time\n",
    "        e = time.time()\n",
    "        # Add the processing time to the list\n",
    "        del_time.append(e-s)\n",
    "    \n",
    "    # Return the average processing time\n",
    "    return sum(del_time)/float(len(del_time))"
   ]
  },
  {
   "cell_type": "code",
   "execution_count": 3,
   "metadata": {},
   "outputs": [],
   "source": [
    "def del_list(x,n):\n",
    "    '''\n",
    "    This is a function that evaluate the average processing time for del operation on a list under n times of testing\n",
    "    \n",
    "    Signature: Kefu Zhu\n",
    "    '''\n",
    "    # Get some index for deletion\n",
    "    index_list = random.sample(range(len(x)), n)\n",
    "    # Initialize an empty list to store the processing time of del operation for each test\n",
    "    del_time = []\n",
    "    # Make a deep copy of the original index for repeating experiment\n",
    "    deep_copy = [a for a in x]\n",
    "\n",
    "    # Delete one element from the list at a time using index refence. Performe the deletion multiple times and record the running time for every deletion\n",
    "    for i in index_list:\n",
    "        # Record the start time\n",
    "        s = time.time()\n",
    "        # Delete the element at index i from the list\n",
    "        del x[i]\n",
    "        # Record the end time\n",
    "        e = time.time()\n",
    "        # Recover the original list using its deep copy\n",
    "        x = [a for a in deep_copy]\n",
    "        # Add the processing time to the list\n",
    "        del_time.append(e-s)\n",
    "    \n",
    "    # Return the average processing time\n",
    "    return sum(del_time)/float(len(del_time))"
   ]
  },
  {
   "cell_type": "markdown",
   "metadata": {
    "button": false,
    "new_sheet": false,
    "run_control": {
     "read_only": false
    }
   },
   "source": [
    "## Testing\n",
    "\n",
    "For full credit, you must also test your solution so that you can prove to the grade your solution works."
   ]
  },
  {
   "cell_type": "code",
   "execution_count": 4,
   "metadata": {
    "button": false,
    "new_sheet": false,
    "run_control": {
     "read_only": false
    }
   },
   "outputs": [],
   "source": [
    "# Time of testing the performance of del\n",
    "test_times = 100\n",
    "# Create different size for testing\n",
    "test_runs = range(10000,110000,10000)\n",
    "# Create an empty dataframe to store test results, use the size of each test object as index\n",
    "test_results = pd.DataFrame(columns = ['list_del_time','dict_del_time'], index = test_runs)\n",
    "# Create different size of lists and dictionaries for evaluations\n",
    "for size in test_runs:\n",
    "    # Create random lists and dictionary, prepare for evaluation\n",
    "    arry1 = [random.random() for i in range(size)]\n",
    "    arry2 = [random.random() for i in range(size)]\n",
    "    d1 = dict(zip(arry1,arry2))\n",
    "    # Evaluate list deletion time and store the result into dataframe\n",
    "    test_results['list_del_time'][size] = del_list(arry1, test_times)\n",
    "    # Evaluate dictionary deletion time and store the result into dataframe\n",
    "    test_results['dict_del_time'][size] = del_dict(d1, test_times)"
   ]
  },
  {
   "cell_type": "code",
   "execution_count": 5,
   "metadata": {},
   "outputs": [
    {
     "data": {
      "text/html": [
       "<div>\n",
       "<style scoped>\n",
       "    .dataframe tbody tr th:only-of-type {\n",
       "        vertical-align: middle;\n",
       "    }\n",
       "\n",
       "    .dataframe tbody tr th {\n",
       "        vertical-align: top;\n",
       "    }\n",
       "\n",
       "    .dataframe thead th {\n",
       "        text-align: right;\n",
       "    }\n",
       "</style>\n",
       "<table border=\"1\" class=\"dataframe\">\n",
       "  <thead>\n",
       "    <tr style=\"text-align: right;\">\n",
       "      <th></th>\n",
       "      <th>list_del_time</th>\n",
       "      <th>dict_del_time</th>\n",
       "    </tr>\n",
       "  </thead>\n",
       "  <tbody>\n",
       "    <tr>\n",
       "      <th>10000</th>\n",
       "      <td>5.04041e-06</td>\n",
       "      <td>6.95622e-07</td>\n",
       "    </tr>\n",
       "    <tr>\n",
       "      <th>20000</th>\n",
       "      <td>4.72681e-06</td>\n",
       "      <td>4.56146e-07</td>\n",
       "    </tr>\n",
       "    <tr>\n",
       "      <th>30000</th>\n",
       "      <td>7.8343e-06</td>\n",
       "      <td>5.07462e-07</td>\n",
       "    </tr>\n",
       "    <tr>\n",
       "      <th>40000</th>\n",
       "      <td>1.63699e-05</td>\n",
       "      <td>5.70182e-07</td>\n",
       "    </tr>\n",
       "    <tr>\n",
       "      <th>50000</th>\n",
       "      <td>1.43401e-05</td>\n",
       "      <td>6.15797e-07</td>\n",
       "    </tr>\n",
       "    <tr>\n",
       "      <th>60000</th>\n",
       "      <td>1.9677e-05</td>\n",
       "      <td>7.5264e-07</td>\n",
       "    </tr>\n",
       "    <tr>\n",
       "      <th>70000</th>\n",
       "      <td>3.2067e-05</td>\n",
       "      <td>6.95622e-07</td>\n",
       "    </tr>\n",
       "    <tr>\n",
       "      <th>80000</th>\n",
       "      <td>2.87942e-05</td>\n",
       "      <td>6.67113e-07</td>\n",
       "    </tr>\n",
       "    <tr>\n",
       "      <th>90000</th>\n",
       "      <td>4.64413e-05</td>\n",
       "      <td>7.07026e-07</td>\n",
       "    </tr>\n",
       "    <tr>\n",
       "      <th>100000</th>\n",
       "      <td>5.32835e-05</td>\n",
       "      <td>7.35535e-07</td>\n",
       "    </tr>\n",
       "  </tbody>\n",
       "</table>\n",
       "</div>"
      ],
      "text/plain": [
       "       list_del_time dict_del_time\n",
       "10000    5.04041e-06   6.95622e-07\n",
       "20000    4.72681e-06   4.56146e-07\n",
       "30000     7.8343e-06   5.07462e-07\n",
       "40000    1.63699e-05   5.70182e-07\n",
       "50000    1.43401e-05   6.15797e-07\n",
       "60000     1.9677e-05    7.5264e-07\n",
       "70000     3.2067e-05   6.95622e-07\n",
       "80000    2.87942e-05   6.67113e-07\n",
       "90000    4.64413e-05   7.07026e-07\n",
       "100000   5.32835e-05   7.35535e-07"
      ]
     },
     "execution_count": 5,
     "metadata": {},
     "output_type": "execute_result"
    }
   ],
   "source": [
    "# Print the dataframe\n",
    "test_results"
   ]
  },
  {
   "cell_type": "code",
   "execution_count": 6,
   "metadata": {},
   "outputs": [
    {
     "data": {
      "image/png": "[encoded data removed]",
      "text/plain": [
       "<matplotlib.figure.Figure at 0x238cd9f0f28>"
      ]
     },
     "metadata": {},
     "output_type": "display_data"
    }
   ],
   "source": [
    "# Visualize the test results\n",
    "fig, ax = plt.subplots()\n",
    "# Set axis name\n",
    "plt.ylabel(\"Running Time (s)\")\n",
    "plt.xlabel(\"Input Size ($N$)\")\n",
    "# Add test result of list deletion\n",
    "ax.plot(test_results.index,test_results['list_del_time'], label='list_del_time', color='b')\n",
    "# Add test result of dictionaray deletion\n",
    "ax.plot(test_results.index,test_results['dict_del_time'], label='dict_del_time', color='y')\n",
    "# Add legend\n",
    "legend = plt.legend(loc='upper left', fontsize='large')\n",
    "# Set plot size\n",
    "fig.set_size_inches(10,5)\n",
    "# Show\n",
    "plt.show()"
   ]
  },
  {
   "cell_type": "markdown",
   "metadata": {},
   "source": [
    "**Conclustion**: The `del` operation is faster on dictionary than on list. Based on the experiment above, we can see the `del` operation is slower on list as the size of it increases, but it remains steady performance on dictionary. In fact, the `del` operation is $O(N)$ for list and $O(1)$ for dictionary "
   ]
  },
  {
   "cell_type": "code",
   "execution_count": null,
   "metadata": {},
   "outputs": [],
   "source": []
  }
 ],
 "metadata": {
  "kernelspec": {
   "display_name": "Python 3",
   "language": "python",
   "name": "python3"
  },
  "language_info": {
   "codemirror_mode": {
    "name": "ipython",
    "version": 3
   },
   "file_extension": ".py",
   "mimetype": "text/x-python",
   "name": "python",
   "nbconvert_exporter": "python",
   "pygments_lexer": "ipython3",
   "version": "3.6.4"
  }
 },
 "nbformat": 4,
 "nbformat_minor": 2
}
