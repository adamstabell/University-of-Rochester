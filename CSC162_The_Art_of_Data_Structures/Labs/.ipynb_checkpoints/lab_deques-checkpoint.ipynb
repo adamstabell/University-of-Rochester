{
 "cells": [
  {
   "cell_type": "markdown",
   "metadata": {
    "button": false,
    "new_sheet": false,
    "run_control": {
     "read_only": false
    }
   },
   "source": [
    "# Lab 5: Deques"
   ]
  },
  {
   "cell_type": "markdown",
   "metadata": {
    "button": false,
    "new_sheet": false,
    "run_control": {
     "read_only": false
    }
   },
   "source": [
    "## <font color=DarkRed>Your Exercise: Implement a deques using linked lists.</font>\n",
    "\n",
    "Our in-class implementation of the `Deque` class uses the Python `list` data type as the underlying data structure. Instead, replace the use of the Python `list` data type with write your own `Node` class, which we used to build a singly linked-list."
   ]
  },
  {
   "cell_type": "markdown",
   "metadata": {
    "button": false,
    "new_sheet": false,
    "run_control": {
     "read_only": false
    }
   },
   "source": [
    "## <font color=green>Your Solution</font>\n",
    "\n",
    "*Use a variety of code, Markdown (text) cells below to create your solution. Nice outputs would be timing results, and even plots. You will be graded not only on correctness, but the clarity of your code, descriptive text and other output. Keep it succinct.*"
   ]
  },
  {
   "cell_type": "code",
   "execution_count": 1,
   "metadata": {
    "button": false,
    "new_sheet": false,
    "run_control": {
     "read_only": false
    }
   },
   "outputs": [],
   "source": [
    "class Node:\n",
    "    '''\n",
    "    This is a class for node. It can be used to form singly or doubly linked lists\n",
    "    \n",
    "    Signature: Kefu Zhu\n",
    "    '''\n",
    "    \n",
    "    # Initialize node \n",
    "    def __init__(self, initdata):\n",
    "        self.data = initdata\n",
    "        self.next = None\n",
    "    \n",
    "    # Retreive the data from node\n",
    "    def getData(self):\n",
    "        return self.data\n",
    "    \n",
    "    # Retreive the next object the node is pointing to\n",
    "    def getNext(self):\n",
    "        return self.next\n",
    "    \n",
    "    # Set the data value of current node\n",
    "    def setData(self, newdata):\n",
    "        self.data = newdata\n",
    "    \n",
    "    # Set the next object the current node is pointing to\n",
    "    def setNext(self, newnext):\n",
    "        self.next = newnext\n",
    "    \n",
    "    # Define the string representation for developer\n",
    "    def __repr__(self):\n",
    "        return \"Node({})\".format(self.data)\n",
    "    \n",
    "    # Define the string representaion for user\n",
    "    def __str__(self):\n",
    "        return \"<node: {}, {} next: {}, {}>\".format(self.data, id(self.data), \n",
    "                                                    self.next.data if self.next else None, \n",
    "                                                    id(self.next) if self.next else None)\n",
    "    "
   ]
  },
  {
   "cell_type": "code",
   "execution_count": 2,
   "metadata": {},
   "outputs": [],
   "source": [
    "class SLinkedList:\n",
    "    '''\n",
    "    This is a class for singly linked list. Use the Node class as the foundation\n",
    "    \n",
    "    Signature: Kefu Zhu\n",
    "    '''\n",
    "    \n",
    "    # Initialize an empty singly linked list (Only head node)\n",
    "    def __init__(self):\n",
    "        self.head = None\n",
    "        \n",
    "    # Define a function to check whether the linked list is empty\n",
    "    def isEmpty(self):\n",
    "        return self.head is None\n",
    "    \n",
    "    # Define a function to add new item as a new node onto the linked list\n",
    "    def add(self, item):\n",
    "        # Create a temp variable to store the new Node\n",
    "        temp = Node(item)\n",
    "        # Set old head to be the next of the new Node: NewNode -> OldHead -> ... \n",
    "        temp.setNext(self.head)\n",
    "        # Change the head object: NewHead (NewNode) -> OldHead -> ...\n",
    "        self.head = temp\n",
    "    \n",
    "    # Define a function to compute the length of the linked list\n",
    "    def length(self):\n",
    "        # Initialize a counter\n",
    "        count = 0\n",
    "        # Initialize the current node to head node (Starting point for counting the lenghth)\n",
    "        current = self.head\n",
    "        \n",
    "        # If the list is not empty\n",
    "        if not self.isEmpty():\n",
    "            # If the current node is not None (Which means the current node is the last node on the list)\n",
    "            while current:\n",
    "                # Increment the counter\n",
    "                count += 1\n",
    "                # Move the pointer for current node to the next node\n",
    "                current = current.next\n",
    "        # If the list is empty, just return the current count value (0)\n",
    "        else:\n",
    "            return count\n",
    "        \n",
    "        # Return the count value\n",
    "        return count\n",
    "    \n",
    "    # Define a function for search ability, return two objects:\n",
    "    # 1. The item itself if it exists. Otherwise, return None\n",
    "    # 2. A string indicating the search result\n",
    "    def search(self, item):\n",
    "        found = None\n",
    "        current = self.head\n",
    "        if not self.isEmpty():\n",
    "            while current and not found:\n",
    "                if current.getData() == item:\n",
    "                    found = current\n",
    "                else:\n",
    "                    current = current.next\n",
    "        else:\n",
    "            print(\"The linked list is empty! \")\n",
    "            return found\n",
    "        \n",
    "        if found:\n",
    "            print(\"The item is found in the linked list.\")\n",
    "        else:\n",
    "            print(\"The item is NOT found in the linked list.\")\n",
    "        return found\n",
    "        \n",
    "    # Define a functino to remove an item from the list\n",
    "    def remove(self, item):\n",
    "        # Initialize found, prev and current value\n",
    "        found = False\n",
    "        prev = None\n",
    "        current = self.head\n",
    "        \n",
    "        # If the linked list is not empty\n",
    "        if not self.isEmpty():\n",
    "            # When the current node is not None and the desired item has not been found\n",
    "            while current and not found:\n",
    "                # If the current node is the item need to be removed\n",
    "                if current.getData() == item:\n",
    "                    # Alter the value of found to True\n",
    "                    found = True\n",
    "                # If the current node is not the item need to be removed\n",
    "                else:\n",
    "                    # Set the previous node to the current node\n",
    "                    prev = current\n",
    "                    # Move the current node to the next node\n",
    "                    current = current.getNext()\n",
    "        # If the linked list is empty\n",
    "        else:\n",
    "            raise ValueError(\"The linked list is empty! \") \n",
    "        \n",
    "        # If the item has been found\n",
    "        if found:\n",
    "            # If the previous node is not None, move the next pointer of previous node to the next node of current node\n",
    "            if prev:\n",
    "                prev.setNext(current.getNext())\n",
    "                del current\n",
    "            # If the previous node is None (The item need to be removed is the head node)\n",
    "            else:\n",
    "                # Set the next node of current node to be the new head node\n",
    "                self.head = current.getNext()\n",
    "                del current\n",
    "            \n",
    "        # If the item has not been found in the list\n",
    "        else:\n",
    "            raise ValueError(\"The item you want to delete is not in the linked list.\")\n",
    "    \n",
    "    # Define a function to retreive the head node of the linked list\n",
    "    def getHead(self):\n",
    "        return self.head\n",
    "    \n",
    "    # Define the string representation of a linked list\n",
    "    def __repr__(self):\n",
    "        # Set current node to the head of the linked list\n",
    "        current = self.getHead()\n",
    "        # Initialize the string representation\n",
    "        repr_string = 'Singly Linked List: [{}] -> '.format(\"Node({})\".format(current.getData()))\n",
    "        \n",
    "        # Loop through the linked list\n",
    "        for i in range(self.length()):\n",
    "            # Move the current node to the next node\n",
    "            current = current.getNext()\n",
    "            # If this is the last node\n",
    "            if i == self.length() - 1:\n",
    "                repr_string += '[{}]'.format(current)\n",
    "            # If this is not the last node\n",
    "            else:\n",
    "                repr_string += '[{}] -> '.format(\"Node({})\".format(current.getData()))\n",
    "        # Return the complete string representation of the linked list\n",
    "        return repr_string"
   ]
  },
  {
   "cell_type": "code",
   "execution_count": 3,
   "metadata": {},
   "outputs": [],
   "source": [
    "class Deque:\n",
    "    '''\n",
    "    This is a class for Deque. It is an ADT and a special version of Queue, \n",
    "    which allows items to be removed and add-on from both side of the Queue. \n",
    "    (No longer \"first in, first out\")\n",
    "    \n",
    "    Signature: Kefu Zhu\n",
    "    '''\n",
    "    # Define the function to initialize an empty Deque using singly linked list\n",
    "    def __init__(self):\n",
    "        self.items = SLinkedList()\n",
    "    \n",
    "    # Define the function to check whether the Deque is empty\n",
    "    def isEmpty(self):\n",
    "        return self.items.isEmpty()\n",
    "    \n",
    "    # Define the function to add new item onto front of the Deque\n",
    "    def addFront(self, item):\n",
    "        # If the Deque is empty\n",
    "        if self.isEmpty():\n",
    "            # Add the first item onto the Deque\n",
    "            self.items.add(item)\n",
    "        # If the Dequqe is not empty (Go find the first item has been add onto the Deque. Aka. The tail node of the singly linked list)\n",
    "        else:\n",
    "            # Set the current object to the rear item in Deque (The head node in singly linked list)\n",
    "            current = self.items.getHead()\n",
    "            # Set the previous object to None\n",
    "            prev = None\n",
    "            # When the current object is not None\n",
    "            while current:\n",
    "                # Change the previous object to the current object\n",
    "                prev = current\n",
    "                # Move the current object to the next node\n",
    "                current = current.next\n",
    "            # Add the new value to the front of the Deque\n",
    "            prev.setNext(Node(item))\n",
    "    \n",
    "    # Define the function to add new item onto the Rear of the Deque\n",
    "    def addRear(self, item):\n",
    "        self.items.add(item)\n",
    "    \n",
    "    # Define the function to remove front item from the Deque\n",
    "    def removeFront(self):\n",
    "        # Set the current object to the rear item in Deque (The head node in singly linked list)\n",
    "        current = self.items.getHead()\n",
    "        # Set the previous object to None\n",
    "        prev = None\n",
    "        # When the current object is not None\n",
    "        while current.next:\n",
    "            # Change the previous object to the current object\n",
    "            prev = current\n",
    "            # Move the current object to the next node\n",
    "            current = current.next\n",
    "        \n",
    "        # Obtain the object need to be removed (This should be the tail of the singly linked list. Aka. the first item in Deque)\n",
    "        # (Shallow copy of current object)\n",
    "        front_item = current\n",
    "        # Obtain the value need to be removed \n",
    "        front_value = front_item.getData()\n",
    "        # Remove the dequeued value from the Deque\n",
    "        del front_item\n",
    "        # Reset the next object of the current object to None\n",
    "        prev.next = None\n",
    "        \n",
    "        # Return the dequeued value\n",
    "        return front_value\n",
    "    \n",
    "    # Define the function to remove rear item from the Deque\n",
    "    def removeRear(self):\n",
    "        # Get the rear item from the Deque (The head value of the singly linked list)\n",
    "        rear_item = self.items.getHead()\n",
    "        # Get the rear value from the Deque\n",
    "        rear_value = rear_item.getData()\n",
    "        # Reset the head node in the singly linked list\n",
    "        self.items.head = rear_item.getNext()\n",
    "        # Remove the rear item from the Deque\n",
    "        del rear_item     \n",
    "        # Return the rear value\n",
    "        return rear_value\n",
    "\n",
    "    # Define the function to compute the length of the Queue\n",
    "    def size(self):\n",
    "        return self.items.length()  \n",
    "    \n",
    "    # Define the string representation of the Deque\n",
    "    def __repr__(self):\n",
    "        return str(self.items)"
   ]
  },
  {
   "cell_type": "markdown",
   "metadata": {
    "button": false,
    "new_sheet": false,
    "run_control": {
     "read_only": false
    }
   },
   "source": [
    "## Testing\n",
    "### Palindrome Checker\n",
    "\n",
    "When finished, test your updated `Queue` class by running the **palindrome checker** from the textbook."
   ]
  },
  {
   "cell_type": "code",
   "execution_count": 4,
   "metadata": {
    "button": false,
    "new_sheet": false,
    "run_control": {
     "read_only": false
    }
   },
   "outputs": [],
   "source": [
    "def palchecker(aString):\n",
    "    chardeque = Deque()\n",
    "\n",
    "    for ch in aString:\n",
    "        chardeque.addRear(ch)\n",
    "\n",
    "    stillEqual = True\n",
    "\n",
    "    while chardeque.size() > 1 and stillEqual:\n",
    "        first = chardeque.removeFront()\n",
    "        last = chardeque.removeRear()\n",
    "        if first != last:\n",
    "            stillEqual = False\n",
    "\n",
    "    return stillEqual"
   ]
  },
  {
   "cell_type": "code",
   "execution_count": 5,
   "metadata": {},
   "outputs": [
    {
     "name": "stdout",
     "output_type": "stream",
     "text": [
      "False\n"
     ]
    }
   ],
   "source": [
    "print(palchecker(\"lsdkjfskf\"))"
   ]
  },
  {
   "cell_type": "code",
   "execution_count": 6,
   "metadata": {},
   "outputs": [
    {
     "name": "stdout",
     "output_type": "stream",
     "text": [
      "True\n"
     ]
    }
   ],
   "source": [
    "print(palchecker(\"radar\"))"
   ]
  },
  {
   "cell_type": "code",
   "execution_count": null,
   "metadata": {},
   "outputs": [],
   "source": []
  }
 ],
 "metadata": {
  "kernelspec": {
   "display_name": "Python 3",
   "language": "python",
   "name": "python3"
  },
  "language_info": {
   "codemirror_mode": {
    "name": "ipython",
    "version": 3
   },
   "file_extension": ".py",
   "mimetype": "text/x-python",
   "name": "python",
   "nbconvert_exporter": "python",
   "pygments_lexer": "ipython3",
   "version": "3.6.4"
  }
 },
 "nbformat": 4,
 "nbformat_minor": 2
}
