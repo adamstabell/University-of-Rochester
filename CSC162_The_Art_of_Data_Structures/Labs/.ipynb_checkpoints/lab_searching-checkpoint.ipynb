{
 "cells": [
  {
   "cell_type": "markdown",
   "metadata": {
    "button": false,
    "new_sheet": false,
    "run_control": {
     "read_only": false
    }
   },
   "source": [
    "# Lab 9: Searching"
   ]
  },
  {
   "cell_type": "markdown",
   "metadata": {
    "button": false,
    "new_sheet": false,
    "run_control": {
     "read_only": false
    }
   },
   "source": [
    "## <font color=DarkRed>Your Exercise: Recursive Binary Search without List Slicing</font>\n",
    "\n",
    "The binary search algorithm in the textbook uses Python list slicing as part of the recursive divide-and-conquer approach it uses to solve the searching problem.\n",
    "\n",
    "This is inefficient, as a new copy of the original input list is made at each recursive call. Albeit, the new list is reduced in size by $~alist//2$ each time `binary_search` is recursively executed.\n",
    "\n",
    "Replace the use of list slicing with a technique that eliminates the unnecessary list copying. Recall that you will need to pass the list along with the starting and ending index values for the sublist. "
   ]
  },
  {
   "cell_type": "markdown",
   "metadata": {
    "button": false,
    "new_sheet": false,
    "run_control": {
     "read_only": false
    }
   },
   "source": [
    "## <font color=green>Your Solution</font>\n",
    "\n",
    "*Use a variety of code, Markdown (text) cells below to create your solution. Nice outputs would be timing results, and even plots. You will be graded not only on correctness, but the clarity of your code, descriptive text and other output. Keep it succinct!*\n",
    "\n",
    "I provide you the code for recursive binary search, as found in the textbook. Use this code as the basis for your solution."
   ]
  },
  {
   "cell_type": "code",
   "execution_count": 24,
   "metadata": {},
   "outputs": [],
   "source": [
    "import timeit\n",
    "import time\n",
    "import random\n",
    "from random import sample, choices\n",
    "import pandas as pd\n",
    "import matplotlib.pyplot as plt\n",
    "import gc"
   ]
  },
  {
   "cell_type": "code",
   "execution_count": 2,
   "metadata": {},
   "outputs": [],
   "source": [
    "def binary_search(alist, item):\n",
    "    if len(alist) == 0:\n",
    "        return False\n",
    "    else:\n",
    "        midpoint = len(alist)//2\n",
    "        if alist[midpoint]==item:\n",
    "            return True\n",
    "        else:\n",
    "            if item < alist[midpoint]:\n",
    "                return binary_search(alist[:midpoint], item)\n",
    "            else:\n",
    "                return binary_search(alist[midpoint+1:], item)"
   ]
  },
  {
   "cell_type": "code",
   "execution_count": 3,
   "metadata": {},
   "outputs": [],
   "source": [
    "def binary_search_v2(alist,item,start,end):\n",
    "    '''\n",
    "    Perform binary search on a sorted list. This is the optimized version of binary_search. \n",
    "    No unnecessary copies of list is made. Instead, keep track of the start index and end index for searching in each recursion\n",
    "    \n",
    "    Signature: Kefu Zhu    \n",
    "    '''\n",
    "    # If the start position is greater than the end position (We have scanned over the entire list and still not found the item)\n",
    "    if start > end:\n",
    "        return False\n",
    "    else:\n",
    "        # Get the index of midpoint\n",
    "        midpoint = start + (end - start)//2\n",
    "        # **Base Case**:\n",
    "        # If the value at midpoint is the item, return True\n",
    "        if alist[midpoint]==item:\n",
    "            return True\n",
    "        # If the value at midpoint is not the item\n",
    "        else:\n",
    "            # If the item is smaller than the midpoint, search the left sublist\n",
    "            if item < alist[midpoint]:\n",
    "                # **Recursion Call**:\n",
    "                return binary_search_v2(alist, item, start, midpoint - 1)\n",
    "            # If the item is larger than the midpoint, search the right sublist\n",
    "            else:\n",
    "                # **Recursion Call**:\n",
    "                return binary_search_v2(alist, item, midpoint + 1, end)"
   ]
  },
  {
   "cell_type": "markdown",
   "metadata": {
    "button": false,
    "new_sheet": false,
    "run_control": {
     "read_only": false
    }
   },
   "source": [
    "## Testing\n",
    "\n",
    "Generate a random, ordered list of integers and do a quick benchmark analysis to confim the $O(log_2(n))$ complexity of this algorithm after the change. Some timings and a simple plot should suffice. *Remember: binary search **requires** a sorted list for searching!*"
   ]
  },
  {
   "cell_type": "code",
   "execution_count": 4,
   "metadata": {
    "button": false,
    "new_sheet": false,
    "run_control": {
     "read_only": false
    }
   },
   "outputs": [
    {
     "name": "stdout",
     "output_type": "stream",
     "text": [
      "False\n",
      "True\n",
      "True\n",
      "True\n",
      "True\n"
     ]
    }
   ],
   "source": [
    "# Simple test. Do more below...\n",
    "testlist = [0, 1, 2, 8, 13, 17, 19, 32, 42]\n",
    "print(binary_search(testlist, 3)) # False\n",
    "print(binary_search(testlist, 13)) # True\n",
    "print(binary_search(testlist, 0)) # True\n",
    "print(binary_search(testlist, 42)) # True\n",
    "print(binary_search(testlist, 2)) # True"
   ]
  },
  {
   "cell_type": "code",
   "execution_count": 5,
   "metadata": {},
   "outputs": [
    {
     "name": "stdout",
     "output_type": "stream",
     "text": [
      "False\n",
      "True\n",
      "True\n",
      "True\n",
      "True\n"
     ]
    }
   ],
   "source": [
    "print(binary_search_v2(testlist, 3, 0, len(testlist))) # False\n",
    "print(binary_search_v2(testlist, 13, 0, len(testlist))) # True\n",
    "print(binary_search_v2(testlist, 0, 0, len(testlist))) # True\n",
    "print(binary_search_v2(testlist, 42, 0, len(testlist))) # True\n",
    "print(binary_search_v2(testlist, 2, 0, len(testlist))) # True"
   ]
  },
  {
   "cell_type": "code",
   "execution_count": 6,
   "metadata": {},
   "outputs": [],
   "source": [
    "# Generate different size of list of random integers\n",
    "big_list_1 = choices(range(100_000), k=100_00)\n",
    "big_list_2 = choices(range(100_000), k=200_00)\n",
    "big_list_3 = choices(range(100_000), k=500_00)\n",
    "big_list_4 = choices(range(100_000), k=1_000_00)\n",
    "big_list_5 = choices(range(100_000), k=1_250_00)\n",
    "big_list_6 = choices(range(100_000), k=2_000_00)\n",
    "big_list_7 = choices(range(100_000), k=2_500_00)\n",
    "big_list_8 = choices(range(100_000), k=3_000_00)\n",
    "big_list_9 = choices(range(100_000), k=5_000_00)\n",
    "big_list_10 = choices(range(100_000), k=10_000_00)\n",
    "big_list_11 = choices(range(100_000), k=20_000_00)\n",
    "big_list_12 = choices(range(100_000), k=30_000_00)\n",
    "big_list_13 = choices(range(100_000), k=40_000_00)\n",
    "big_list_14 = choices(range(100_000), k=50_000_00)"
   ]
  },
  {
   "cell_type": "code",
   "execution_count": 7,
   "metadata": {},
   "outputs": [],
   "source": [
    "# Combine all lists in a big list\n",
    "big_lists = [big_list_1, big_list_2, big_list_3, big_list_4, \n",
    "             big_list_5, big_list_6, big_list_7, big_list_8, \n",
    "             big_list_9, big_list_10, big_list_11, big_list_12, \n",
    "             big_list_13, big_list_14]\n",
    "# Sort every list in the big lists\n",
    "for lst in big_lists:\n",
    "    lst.sort()"
   ]
  },
  {
   "cell_type": "code",
   "execution_count": 47,
   "metadata": {},
   "outputs": [],
   "source": [
    "# Get the size of each testing list\n",
    "test_sizes = [len(lst) for lst in big_lists]"
   ]
  },
  {
   "cell_type": "code",
   "execution_count": 48,
   "metadata": {},
   "outputs": [],
   "source": [
    "# Create an empty list to store test timing results\n",
    "orig_timing = []\n",
    "# Test on every list in the big lists\n",
    "for lst in big_lists:\n",
    "    # Time the run time to find -1 in the test list using original binary search algorithm\n",
    "    # (\"-1\" is not in the list so this is testing the worst case scenario)\n",
    "    t = timeit.Timer(\"binary_search(alist, item)\", globals={\"binary_search\": binary_search,\n",
    "                                                            \"alist\": lst,\n",
    "                                                            \"item\": -1})\n",
    "    # Perform the testing 100 times and take the average result\n",
    "    orig_timing.append(t.timeit(100))"
   ]
  },
  {
   "cell_type": "code",
   "execution_count": 49,
   "metadata": {},
   "outputs": [
    {
     "data": {
      "image/png": "[encoded data removed]",
      "text/plain": [
       "<matplotlib.figure.Figure at 0x2508044e208>"
      ]
     },
     "metadata": {},
     "output_type": "display_data"
    }
   ],
   "source": [
    "# Visualize the test result for original binary search\n",
    "fig, ax = plt.subplots()\n",
    "# Set axis name\n",
    "plt.ylabel(\"Running Time (s)\")\n",
    "plt.xlabel(\"Input Size ($N$)\")\n",
    "# Add test result\n",
    "ax.plot(test_sizes,orig_timing, label='Original Binary Search', color='b')\n",
    "# Add legend\n",
    "legend = plt.legend(loc='upper left', fontsize='large')\n",
    "# Set plot size\n",
    "fig.set_size_inches(10,5)\n",
    "# Show\n",
    "plt.show()"
   ]
  },
  {
   "cell_type": "code",
   "execution_count": 50,
   "metadata": {},
   "outputs": [],
   "source": [
    "# Create an empty list to store test timing results\n",
    "opt_timing = []\n",
    "# Test on every list in the big lists\n",
    "for lst in big_lists:\n",
    "    # Time the run time to find -1 in the test list using optimized binary search algorithm\n",
    "    # (\"-1\" is not in the list so this is testing the worst case scenario)\n",
    "    t = timeit.Timer(\"binary_search_v2(alist, item, start, end)\", globals={\"binary_search_v2\": binary_search_v2,\n",
    "                                                                           \"alist\": lst,\n",
    "                                                                           \"item\": -1,\n",
    "                                                                           \"start\": 0,\n",
    "                                                                           \"end\": len(lst)})\n",
    "    # Perform the testing 100 times and take the average result\n",
    "    opt_timing.append(t.timeit(100))"
   ]
  },
  {
   "cell_type": "code",
   "execution_count": 51,
   "metadata": {},
   "outputs": [
    {
     "data": {
      "image/png": "[encoded data removed]",
      "text/plain": [
       "<matplotlib.figure.Figure at 0x250804a6588>"
      ]
     },
     "metadata": {},
     "output_type": "display_data"
    }
   ],
   "source": [
    "# Visualize the test result for optimized binary search\n",
    "fig, ax = plt.subplots()\n",
    "# Set axis name\n",
    "plt.ylabel(\"Running Time (s)\")\n",
    "plt.xlabel(\"Input Size ($N$)\")\n",
    "# Add test result\n",
    "ax.plot(test_sizes,opt_timing, label='Optimized Binary Search', color='b')\n",
    "# Add legend\n",
    "legend = plt.legend(loc='upper left', fontsize='large')\n",
    "# Set plot size\n",
    "fig.set_size_inches(10,5)\n",
    "# Show\n",
    "plt.show()"
   ]
  },
  {
   "cell_type": "markdown",
   "metadata": {},
   "source": [
    "**Summary**: As shown on the graphs above, we can cleary see that the original binary search roughly has $O(N)$ complexity and the optimized binary search has roughly $O(log_2(N))$ complexity"
   ]
  },
  {
   "cell_type": "code",
   "execution_count": null,
   "metadata": {},
   "outputs": [],
   "source": []
  },
  {
   "cell_type": "code",
   "execution_count": null,
   "metadata": {},
   "outputs": [],
   "source": []
  },
  {
   "cell_type": "code",
   "execution_count": null,
   "metadata": {},
   "outputs": [],
   "source": []
  }
 ],
 "metadata": {
  "kernelspec": {
   "display_name": "Python 3",
   "language": "python",
   "name": "python3"
  },
  "language_info": {
   "codemirror_mode": {
    "name": "ipython",
    "version": 3
   },
   "file_extension": ".py",
   "mimetype": "text/x-python",
   "name": "python",
   "nbconvert_exporter": "python",
   "pygments_lexer": "ipython3",
   "version": "3.6.4"
  }
 },
 "nbformat": 4,
 "nbformat_minor": 2
}
