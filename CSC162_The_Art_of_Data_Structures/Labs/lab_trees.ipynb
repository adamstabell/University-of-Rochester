{
 "cells": [
  {
   "cell_type": "markdown",
   "metadata": {
    "button": false,
    "new_sheet": false,
    "run_control": {
     "read_only": false
    }
   },
   "source": [
    "# Lab 11: Trees"
   ]
  },
  {
   "cell_type": "markdown",
   "metadata": {
    "button": false,
    "new_sheet": false,
    "run_control": {
     "read_only": false
    }
   },
   "source": [
    "## <font color=DarkRed>Your Exercise: Parsing Expressions with Boolean Operators</font>\n",
    "\n",
    "Modify the `build_parse_tree`, and `evaluate` functions to handle boolean operators (`and`, `or`, and `not`). Remember that `not` is a unary operator, so this will complicate your code somewhat.\n",
    "\n",
    "*Note: While this was a workshop problem partly worked on in class, I have decided that it's challenging enough to be a homework question.*"
   ]
  },
  {
   "cell_type": "markdown",
   "metadata": {
    "button": false,
    "new_sheet": false,
    "run_control": {
     "read_only": false
    }
   },
   "source": [
    "## <font color=green>Your Solution</font>\n",
    "\n",
    "*Use a variety of code, Markdown (text) cells below to create your solution. Nice outputs would be timing results, and even plots. You will be graded not only on correctness, but the clarity of your code, descriptive text and other output. Keep it succinct!*"
   ]
  },
  {
   "cell_type": "code",
   "execution_count": 19,
   "metadata": {},
   "outputs": [],
   "source": [
    "# Import library\n",
    "import operator"
   ]
  },
  {
   "cell_type": "code",
   "execution_count": 2,
   "metadata": {},
   "outputs": [],
   "source": [
    "class Stack:\n",
    "    def __init__(self):\n",
    "        self.items = []\n",
    "        \n",
    "    def isEmpty(self):\n",
    "        return self.items == []\n",
    "    \n",
    "    def push(self,item):\n",
    "        self.items.append(item)\n",
    "    \n",
    "    def pop(self):\n",
    "        if self.isEmpty():\n",
    "            raise IndexError(\"Pop from an empty stack\")\n",
    "        item = self.items[-1]\n",
    "        del self.items[-1]\n",
    "        return item\n",
    "    \n",
    "    def peek(self):\n",
    "        return self.items[-1]\n",
    "    \n",
    "    def size(self):\n",
    "        return len(self.items)\n",
    "    \n",
    "    def __repr__(self):\n",
    "        return \"Stack: {}\".format(self.items)\n",
    "    \n",
    "    def __str__(self):\n",
    "        return \"Your Stack: {}\".format(self.items)"
   ]
  },
  {
   "cell_type": "code",
   "execution_count": 3,
   "metadata": {},
   "outputs": [],
   "source": [
    "class BinaryTree:\n",
    "    def __init__(self, rootObj):\n",
    "        self.key = rootObj\n",
    "        self.leftChild = None\n",
    "        self.rightChild = None\n",
    "    \n",
    "    def insertLeft(self, newNode):\n",
    "        if self.leftChild == None:\n",
    "            self.leftChild = BinaryTree(newNode)\n",
    "        else:\n",
    "            t = BinaryTree(newNode)\n",
    "            t.leftChild = self.leftChild\n",
    "            self.leftChild = t\n",
    "    \n",
    "    def insertRight(self, newNode):\n",
    "        if self.rightChild == None:\n",
    "            self.rightChild = BinaryTree(newNode)\n",
    "        else:\n",
    "            t = BinaryTree(newNode)\n",
    "            t.rightChild = self.rightChild\n",
    "            self.rightChild = t\n",
    "    \n",
    "    def getRightChild(self):\n",
    "        return self.rightChild\n",
    "    \n",
    "    def getLeftChild(self):\n",
    "        return self.leftChild\n",
    "    \n",
    "    def setRootVal(self, obj):\n",
    "        self.key = obj\n",
    "    \n",
    "    def getRootVal(self):\n",
    "        return self.key\n",
    "    \n",
    "    def __repr__(self):\n",
    "        return \"BinaryTree: [root: {}, leftChild: {}, rightChild: {}]\\n\".format(self.key, self.leftChild, self.rightChild)"
   ]
  },
  {
   "cell_type": "code",
   "execution_count": 4,
   "metadata": {},
   "outputs": [],
   "source": [
    "def buildParseTree(fpexp):\n",
    "    \n",
    "    # Handles expression that does not have spaces between every characters\n",
    "    \n",
    "    # Solution: Just add extra spaces before and after any mathematical expressions.\n",
    "    #           split() will take care of redundant spaces\n",
    "    \n",
    "    # Parse the input expression string\n",
    "    newExp = \"\"\n",
    "    for char in fpexp:\n",
    "        if char in ['(','+', '-', '*', '/', ')']:\n",
    "            newExp += ' ' + char + ' '\n",
    "        else:\n",
    "            newExp += char\n",
    "    # Remove redundant leading and trailing spaces\n",
    "    newExp.strip()\n",
    "    # Split the expression into list by white space\n",
    "    fplist = newExp.split()\n",
    "    # Create an empty stack for parsing\n",
    "    pStack = Stack()\n",
    "    # Initialize an empty binary tree\n",
    "    eTree = BinaryTree('')\n",
    "    # Push the tree onto the stack\n",
    "    pStack.push(eTree)\n",
    "    # Set current tree\n",
    "    currentTree = eTree\n",
    "    # For each element in the parsed list\n",
    "    for i in fplist:\n",
    "        # If the current element is left open parenthesis\n",
    "        if i == '(':\n",
    "            # Insert empty node to the left of tree\n",
    "            currentTree.insertLeft('')\n",
    "            # Push the current tree onto the stack\n",
    "            pStack.push(currentTree)\n",
    "            # Reset the current tree to the left child (because the old current tree has been pushed downward after the insertion)\n",
    "            currentTree = currentTree.getLeftChild()\n",
    "        # If the element is not any operator\n",
    "        elif i not in ['+', '-', '*', '/', ')','and','or','not']:\n",
    "            # Set root value\n",
    "            currentTree.setRootVal(int(i))\n",
    "            # Pop a tree out of the stack\n",
    "            parent = pStack.pop()\n",
    "            # Reset the current tree\n",
    "            currentTree = parent\n",
    "        elif i == 'not':\n",
    "            # Set root value\n",
    "            currentTree.setRootVal(i)\n",
    "            # Insert empty tree to right child\n",
    "            currentTree.insertRight('')\n",
    "            # Push current tree onto stack\n",
    "            pStack.push(currentTree)\n",
    "            # Set current tree to right child\n",
    "            currentTree = currentTree.getRightChild()\n",
    "        elif i in ['+', '-', '*', '/','and','or']:\n",
    "            # Set root value\n",
    "            currentTree.setRootVal(i)\n",
    "            # Insert empty tree to right child\n",
    "            currentTree.insertRight('')\n",
    "            # Push current tree onto Stack\n",
    "            pStack.push(currentTree)\n",
    "            # Set current tree to right child\n",
    "            currentTree = currentTree.getRightChild()\n",
    "        elif i == ')':\n",
    "            # Pop item out of stack. Set that to current tree\n",
    "            currentTree = pStack.pop()\n",
    "        else:\n",
    "            raise ValueError('{} is not implemented'.format(i))\n",
    "    return eTree"
   ]
  },
  {
   "cell_type": "code",
   "execution_count": 5,
   "metadata": {},
   "outputs": [],
   "source": [
    "def evaluate(parseTree):\n",
    "    opers = {'+':operator.add, '-':operator.sub, '*':operator.mul, '/':operator.truediv, \n",
    "             'and':operator.add, 'or':'or', 'not':operator.ne}\n",
    "\n",
    "    leftC = parseTree.getLeftChild()\n",
    "    rightC = parseTree.getRightChild()\n",
    "    \n",
    "    # Case for \"not\" as negation, not inequality test\n",
    "    if leftC is None and rightC:\n",
    "        fn = operator.not_\n",
    "        return fn(evaluate(rightC))\n",
    "    elif leftC and rightC:\n",
    "        fn = opers[parseTree.getRootVal()]\n",
    "        # Special case for 'or'\n",
    "        if fn == 'or':\n",
    "            alist = []\n",
    "            alist.append(evaluate(leftC))\n",
    "            alist.append(evaluate(rightC))\n",
    "            return alist\n",
    "        else:\n",
    "            return fn(evaluate(leftC),evaluate(rightC))\n",
    "    else:\n",
    "        return parseTree.getRootVal()"
   ]
  },
  {
   "cell_type": "markdown",
   "metadata": {},
   "source": [
    "## Testing\n",
    "\n",
    "Test `build_parse_tree`, and `evaluate` to show that boolean expressions (with, or without arithmetic expressions mixed), work as expected."
   ]
  },
  {
   "cell_type": "code",
   "execution_count": 6,
   "metadata": {},
   "outputs": [
    {
     "data": {
      "text/plain": [
       "45"
      ]
     },
     "execution_count": 6,
     "metadata": {},
     "output_type": "execute_result"
    }
   ],
   "source": [
    "pt = buildParseTree(\"( (10+5) * 3 )\")\n",
    "evaluate(pt)"
   ]
  },
  {
   "cell_type": "code",
   "execution_count": 7,
   "metadata": {},
   "outputs": [
    {
     "data": {
      "text/plain": [
       "12"
      ]
     },
     "execution_count": 7,
     "metadata": {},
     "output_type": "execute_result"
    }
   ],
   "source": [
    "pt = buildParseTree(\"( (1+5) * (3-1) )\")\n",
    "evaluate(pt)"
   ]
  },
  {
   "cell_type": "code",
   "execution_count": 8,
   "metadata": {},
   "outputs": [
    {
     "data": {
      "text/plain": [
       "20"
      ]
     },
     "execution_count": 8,
     "metadata": {},
     "output_type": "execute_result"
    }
   ],
   "source": [
    "pt = buildParseTree(\"( ( 2 and 2 ) * 5 )\")\n",
    "evaluate(pt)"
   ]
  },
  {
   "cell_type": "code",
   "execution_count": 9,
   "metadata": {},
   "outputs": [
    {
     "data": {
      "text/plain": [
       "-17"
      ]
     },
     "execution_count": 9,
     "metadata": {},
     "output_type": "execute_result"
    }
   ],
   "source": [
    "pt = buildParseTree(\"( ( 4 - 26 ) and 5 )\")\n",
    "evaluate(pt)"
   ]
  },
  {
   "cell_type": "code",
   "execution_count": 10,
   "metadata": {},
   "outputs": [
    {
     "data": {
      "text/plain": [
       "False"
      ]
     },
     "execution_count": 10,
     "metadata": {},
     "output_type": "execute_result"
    }
   ],
   "source": [
    "pt = buildParseTree(\"( ( 1 and 2 ) not 3 )\")\n",
    "evaluate(pt)"
   ]
  },
  {
   "cell_type": "code",
   "execution_count": 11,
   "metadata": {},
   "outputs": [
    {
     "data": {
      "text/plain": [
       "True"
      ]
     },
     "execution_count": 11,
     "metadata": {},
     "output_type": "execute_result"
    }
   ],
   "source": [
    "pt = buildParseTree(\"not ( ( 1 and 2 ) not 3 )\")\n",
    "evaluate(pt)"
   ]
  },
  {
   "cell_type": "code",
   "execution_count": 12,
   "metadata": {},
   "outputs": [
    {
     "data": {
      "text/plain": [
       "False"
      ]
     },
     "execution_count": 12,
     "metadata": {},
     "output_type": "execute_result"
    }
   ],
   "source": [
    "pt = buildParseTree(\"( ( 3 * 7 ) not 21 )\")\n",
    "evaluate(pt)"
   ]
  },
  {
   "cell_type": "code",
   "execution_count": 13,
   "metadata": {},
   "outputs": [
    {
     "data": {
      "text/plain": [
       "[12, 3]"
      ]
     },
     "execution_count": 13,
     "metadata": {},
     "output_type": "execute_result"
    }
   ],
   "source": [
    "pt = buildParseTree(\"( 12 or 3 )\")\n",
    "evaluate(pt)"
   ]
  },
  {
   "cell_type": "code",
   "execution_count": 14,
   "metadata": {},
   "outputs": [
    {
     "data": {
      "text/plain": [
       "[7, 3]"
      ]
     },
     "execution_count": 14,
     "metadata": {},
     "output_type": "execute_result"
    }
   ],
   "source": [
    "pt = buildParseTree(\"( ( 1 and 6 ) or 3 )\")\n",
    "evaluate(pt)"
   ]
  },
  {
   "cell_type": "code",
   "execution_count": 13,
   "metadata": {},
   "outputs": [
    {
     "data": {
      "text/plain": [
       "True"
      ]
     },
     "execution_count": 13,
     "metadata": {},
     "output_type": "execute_result"
    }
   ],
   "source": [
    "not False"
   ]
  },
  {
   "cell_type": "code",
   "execution_count": 14,
   "metadata": {},
   "outputs": [
    {
     "data": {
      "text/plain": [
       "False"
      ]
     },
     "execution_count": 14,
     "metadata": {},
     "output_type": "execute_result"
    }
   ],
   "source": [
    "not(True)"
   ]
  },
  {
   "cell_type": "code",
   "execution_count": 15,
   "metadata": {},
   "outputs": [
    {
     "data": {
      "text/plain": [
       "False"
      ]
     },
     "execution_count": 15,
     "metadata": {},
     "output_type": "execute_result"
    }
   ],
   "source": [
    "not(3)"
   ]
  },
  {
   "cell_type": "code",
   "execution_count": 16,
   "metadata": {},
   "outputs": [
    {
     "data": {
      "text/plain": [
       "False"
      ]
     },
     "execution_count": 16,
     "metadata": {},
     "output_type": "execute_result"
    }
   ],
   "source": [
    "not(10)"
   ]
  },
  {
   "cell_type": "code",
   "execution_count": 17,
   "metadata": {},
   "outputs": [
    {
     "data": {
      "text/plain": [
       "True"
      ]
     },
     "execution_count": 17,
     "metadata": {},
     "output_type": "execute_result"
    }
   ],
   "source": [
    "not(0)"
   ]
  },
  {
   "cell_type": "code",
   "execution_count": 18,
   "metadata": {},
   "outputs": [
    {
     "data": {
      "text/plain": [
       "False"
      ]
     },
     "execution_count": 18,
     "metadata": {},
     "output_type": "execute_result"
    }
   ],
   "source": [
    "not(-1)"
   ]
  },
  {
   "cell_type": "code",
   "execution_count": 20,
   "metadata": {},
   "outputs": [
    {
     "data": {
      "text/plain": [
       "True"
      ]
     },
     "execution_count": 20,
     "metadata": {},
     "output_type": "execute_result"
    }
   ],
   "source": [
    "operator.not_(0)"
   ]
  },
  {
   "cell_type": "code",
   "execution_count": 21,
   "metadata": {},
   "outputs": [
    {
     "data": {
      "text/plain": [
       "False"
      ]
     },
     "execution_count": 21,
     "metadata": {},
     "output_type": "execute_result"
    }
   ],
   "source": [
    "operator.not_(1)"
   ]
  },
  {
   "cell_type": "code",
   "execution_count": null,
   "metadata": {},
   "outputs": [],
   "source": []
  }
 ],
 "metadata": {
  "kernelspec": {
   "display_name": "Python 3",
   "language": "python",
   "name": "python3"
  },
  "language_info": {
   "codemirror_mode": {
    "name": "ipython",
    "version": 3
   },
   "file_extension": ".py",
   "mimetype": "text/x-python",
   "name": "python",
   "nbconvert_exporter": "python",
   "pygments_lexer": "ipython3",
   "version": "3.6.4"
  }
 },
 "nbformat": 4,
 "nbformat_minor": 2
}
